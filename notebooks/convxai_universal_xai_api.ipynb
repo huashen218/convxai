{
 "cells": [
  {
   "cell_type": "markdown",
   "metadata": {},
   "source": [
    "# The Universal XAI API from ConvXAI"
   ]
  },
  {
   "cell_type": "markdown",
   "metadata": {},
   "source": [
    "A tutorial of exploring the DSL(Domain Specific Language) of **ConvXAI**, which aims to build the universal APIs for a range of XAI methods. \n",
    "\n",
    "In this tutorial, we show the ConvXAI APIs with two examples:\n",
    "\n",
    "- Single turn interaction\n",
    "- Multi turn interaction."
   ]
  },
  {
   "cell_type": "code",
   "execution_count": 1,
   "metadata": {
    "collapsed": true
   },
   "outputs": [
    {
     "name": "stderr",
     "output_type": "stream",
     "text": [
      "2022-12-05 01:55:46 INFO: Checking for updates to resources.json in case models have been updated.  Note: this behavior can be turned off with download_method=None or download_method=DownloadMethod.REUSE_RESOURCES\n",
      "2022-12-05 01:55:46,387 - Checking for updates to resources.json in case models have been updated.  Note: this behavior can be turned off with download_method=None or download_method=DownloadMethod.REUSE_RESOURCES\n"
     ]
    },
    {
     "data": {
      "application/vnd.jupyter.widget-view+json": {
       "model_id": "4858b3956a554a938c635ae978af58a3",
       "version_major": 2,
       "version_minor": 0
      },
      "text/plain": [
       "Downloading https://raw.githubusercontent.com/stanfordnlp/stanza-resources/main/resources_1.4.1.json:   0%|   …"
      ]
     },
     "metadata": {},
     "output_type": "display_data"
    },
    {
     "name": "stderr",
     "output_type": "stream",
     "text": [
      "2022-12-05 01:55:48 INFO: Loading these models for language: en (English):\n",
      "============================\n",
      "| Processor    | Package   |\n",
      "----------------------------\n",
      "| tokenize     | combined  |\n",
      "| pos          | combined  |\n",
      "| lemma        | combined  |\n",
      "| depparse     | combined  |\n",
      "| sentiment    | sstplus   |\n",
      "| constituency | wsj       |\n",
      "| ner          | ontonotes |\n",
      "============================\n",
      "\n",
      "2022-12-05 01:55:48,205 - Loading these models for language: en (English):\n",
      "============================\n",
      "| Processor    | Package   |\n",
      "----------------------------\n",
      "| tokenize     | combined  |\n",
      "| pos          | combined  |\n",
      "| lemma        | combined  |\n",
      "| depparse     | combined  |\n",
      "| sentiment    | sstplus   |\n",
      "| constituency | wsj       |\n",
      "| ner          | ontonotes |\n",
      "============================\n",
      "\n",
      "2022-12-05 01:55:48 INFO: Use device: gpu\n",
      "2022-12-05 01:55:48,226 - Use device: gpu\n",
      "2022-12-05 01:55:48 INFO: Loading: tokenize\n",
      "2022-12-05 01:55:48,227 - Loading: tokenize\n",
      "2022-12-05 01:55:53 INFO: Loading: pos\n",
      "2022-12-05 01:55:53,256 - Loading: pos\n",
      "2022-12-05 01:55:53 INFO: Loading: lemma\n",
      "2022-12-05 01:55:53,979 - Loading: lemma\n",
      "2022-12-05 01:55:54 INFO: Loading: depparse\n",
      "2022-12-05 01:55:54,023 - Loading: depparse\n",
      "2022-12-05 01:55:54 INFO: Loading: sentiment\n",
      "2022-12-05 01:55:54,338 - Loading: sentiment\n",
      "2022-12-05 01:55:54 INFO: Loading: constituency\n",
      "2022-12-05 01:55:54,952 - Loading: constituency\n",
      "2022-12-05 01:55:55 INFO: Loading: ner\n",
      "2022-12-05 01:55:55,611 - Loading: ner\n",
      "2022-12-05 01:55:56 INFO: Done loading processors!\n",
      "2022-12-05 01:55:56,596 - Done loading processors!\n"
     ]
    }
   ],
   "source": [
    "\"\"\"Loads the packages.\"\"\"\n",
    "\n",
    "import sys\n",
    "sys.path.append(\"/home/hqs5468/hua/workspace/projects/convxai\")\n",
    "from convxai.writing_models.models import *\n",
    "from convxai_api.modules import *\n",
    "from convxai_api.xaiagent import ConvXAI\n",
    "\n",
    "import warnings\n",
    "warnings.filterwarnings(\"ignore\")\n",
    "os.environ[\"TOKENIZERS_PARALLELISM\"] = \"false\"\n"
   ]
  },
  {
   "cell_type": "markdown",
   "metadata": {},
   "source": [
    "### Interact with ConvXAI Agent (Single Turn Conversation)"
   ]
  },
  {
   "cell_type": "markdown",
   "metadata": {},
   "source": [
    "You can ask XAI request to the ConvXAI agent for different XAI questions and types.\n",
    "Below, we show how you can leverage `interact_single_turn` function to request 8 types AI explanations from ConvXAI class."
   ]
  },
  {
   "cell_type": "code",
   "execution_count": 2,
   "metadata": {},
   "outputs": [
    {
     "name": "stderr",
     "output_type": "stream",
     "text": [
      "2022-12-05 01:56:06,978 - \n",
      "Loading writing models to be explained......\n"
     ]
    }
   ],
   "source": [
    "\"\"\"Instantiates a ConvXAI agent.\"\"\"\n",
    "convxai_agent = ConvXAI(intent_detection_algorithm=\"rule_based\")\n"
   ]
  },
  {
   "cell_type": "code",
   "execution_count": 3,
   "metadata": {},
   "outputs": [
    {
     "name": "stdout",
     "output_type": "stream",
     "text": [
      "Detected User Input = meta-data\n",
      "======> Conversational XAI Demonstration <======\n",
      "User: What data did the system learn from?\n"
     ]
    },
    {
     "data": {
      "text/html": [
       "ConvXAI: Sure! We are comparing your writing with our collected <strong>CHI Paper Abstract</strong> dataset to generate the above review. The dataset includes <strong>21643 sentences</strong> in <strong>3235 papers</strong>. \n",
       "        "
      ],
      "text/plain": [
       "<IPython.core.display.HTML object>"
      ]
     },
     "metadata": {},
     "output_type": "display_data"
    }
   ],
   "source": [
    "\n",
    "### interact with ConvXAI agent using different free-text XAI requests.\n",
    "### use `visualize` to decide visualization.\n",
    "\n",
    "explained_sentence = \"It is unclear if existing interpretations of deep neural network models respond effectively to the needs of users .\"\n",
    "target_label = \"background\"\n",
    "target_conference = \"CHI\"\n",
    "visualize=True\n",
    "\n",
    "# Data Explanation\n",
    "user_question_request = \"What data did the system learn from?\"\n",
    "response = convxai_agent.interact_single_turn(user_question_request, explained_sentence, target_label, target_conference, visualize)"
   ]
  },
  {
   "cell_type": "code",
   "execution_count": 4,
   "metadata": {},
   "outputs": [
    {
     "name": "stdout",
     "output_type": "stream",
     "text": [
      "Detected User Input = meta-model\n",
      "======> Conversational XAI Demonstration <======\n",
      "User: What kind of models are used?\n"
     ]
    },
    {
     "data": {
      "text/html": [
       "ConvXAI: Of course! The <strong>Writing Structure Model</strong> is a <a class='post-link' href='https://arxiv.org/pdf/1903.10676.pdf' target='_blank'>SciBERT</a> based classifier finetuned with the <a class='post-link' href='https://arxiv.org/pdf/2005.02367.pdf' target='_blank'>CODA-19</a> dataset. Also, the <strong>Writing Style Model</strong> is a <a class='post-link' href='https://openai.com/blog/tags/gpt-2/' target='_blank'>GPT-2</a> based generative model finetuned with <strong>9935 abstracts</strong> from <a class='post-link' href='https://dl.acm.org/conference/chi' target='_blank'>CHI</a>, <a class='post-link' href='https://aclanthology.org/venues/acl/' target='_blank'>ACL</a> and <a class='post-link' href='https://iclr.cc/Conferences/2023' target='_blank'>ICLR</a> papers (click the terms to view more)."
      ],
      "text/plain": [
       "<IPython.core.display.HTML object>"
      ]
     },
     "metadata": {},
     "output_type": "display_data"
    }
   ],
   "source": [
    "\n",
    "# Model Explanation\n",
    "user_question_request = \"What kind of models are used?\"\n",
    "response = convxai_agent.interact_single_turn(user_question_request, explained_sentence, target_label, target_conference, visualize)"
   ]
  },
  {
   "cell_type": "code",
   "execution_count": 5,
   "metadata": {},
   "outputs": [
    {
     "name": "stdout",
     "output_type": "stream",
     "text": [
      "Detected User Input = quality-score\n",
      "======> Conversational XAI Demonstration <======\n",
      "User: What's the range of the style quality scores?\n"
     ]
    },
    {
     "data": {
      "text/html": [
       "ConvXAI: \n",
       "        We use each sentence's <strong>Perplexity</strong> value (predicted by the GPT-2 model) to derive the <strong>Quality Score</strong>. Lower perplexity means your writing is more similar to the CHI papers.\n",
       "        <br>\n",
       "        We divide into five levels as below based on [20-th, 40-th, 60-th, 80-th] percentiles of the CHI papers' perplexity scores (i.e., [45, 57, 71, 92]).\n",
       "        \n",
       "        <br>\n",
       "        <style>\n",
       "            .demo {\n",
       "                border:1px solid #EDEDED;\n",
       "                border-collapse:separate;\n",
       "                border-spacing:2px;\n",
       "                padding:5px;\n",
       "            }\n",
       "            .demo th {\n",
       "                border:1px solid #EDEDED;\n",
       "                padding:5px;\n",
       "                background:#D6D6D6;\n",
       "            }\n",
       "            .demo td {\n",
       "                border:1px solid #EDEDED;\n",
       "                text-align:center;\n",
       "                padding:5px;\n",
       "                background:#F5F5F5;\n",
       "            }\n",
       "        </style>\n",
       "        \n",
       "        <table class=\"demo\">\n",
       "            <caption><br></caption>\n",
       "            <thead>\n",
       "            <tr>\n",
       "                <th>Quality Score</th>\n",
       "                <th>Perplexity (PPL)</th>\n",
       "            </tr>\n",
       "            </thead>\n",
       "            <tbody>\n",
       "            <tr>\n",
       "                <td>1 (lowest)</td>\n",
       "                <td>92 &lt; PPL<br></td>\n",
       "            </tr>\n",
       "            <tr>\n",
       "                <td>2</td>\n",
       "                <td>71 &lt; PPL &lt;= 92&nbsp;</td>\n",
       "            </tr>\n",
       "            <tr>\n",
       "                <td>3</td>\n",
       "                <td>57 &lt; PPL &lt;= 71&nbsp;</td>\n",
       "            </tr>\n",
       "            <tr>\n",
       "                <td>4</td>\n",
       "                <td>45 &lt; PPL &lt;= 57&nbsp;</td>\n",
       "            </tr>\n",
       "            <tr>\n",
       "                <td>5 (highest)</td>\n",
       "                <td>PPL &lt;= 45&nbsp;</td>\n",
       "            </tr>\n",
       "            <tbody>\n",
       "        </table>\n",
       "        "
      ],
      "text/plain": [
       "<IPython.core.display.HTML object>"
      ]
     },
     "metadata": {},
     "output_type": "display_data"
    }
   ],
   "source": [
    "\n",
    "# Quality Score Explanation\n",
    "user_question_request = \"What's the range of the style quality scores?\"\n",
    "response = convxai_agent.interact_single_turn(user_question_request, explained_sentence, target_label, target_conference, visualize)"
   ]
  },
  {
   "cell_type": "code",
   "execution_count": 6,
   "metadata": {},
   "outputs": [
    {
     "name": "stdout",
     "output_type": "stream",
     "text": [
      "Detected User Input = label-distribution\n",
      "======> Conversational XAI Demonstration <======\n",
      "User: How are the structure labels distributed?\n"
     ]
    },
    {
     "data": {
      "text/html": [
       "ConvXAI: We use the Research Aspects Model to generate <strong>aspect sequences</strong> of all 9935 paper abstracts. Then we cluster these sequences into <strong>five patterns</strong> as below. We compare your writing with these patterns for review.\n",
       "        <br>\n",
       "        <style>\n",
       "            .demo {\n",
       "                border:1px solid #EDEDED;\n",
       "                border-collapse:separate;\n",
       "                border-spacing:2px;\n",
       "                padding:5px;\n",
       "            }\n",
       "            .demo th {\n",
       "                border:1px solid #EDEDED;\n",
       "                padding:5px;\n",
       "                background:#D6D6D6;\n",
       "            }\n",
       "            .demo td {\n",
       "                border:1px solid #EDEDED;\n",
       "                text-align:center;\n",
       "                padding:5px;\n",
       "                background:#F5F5F5;\n",
       "            }\n",
       "        </style>\n",
       "         \n",
       "        <table class=\"demo\">\n",
       "            <caption><br></caption>\n",
       "            <thead>\n",
       "            <tr>\n",
       "                <th>Types</th>\n",
       "                <th>Patterns</th>\n",
       "            </tr>\n",
       "            </thead>\n",
       "            <tbody>\n",
       "            <tr>\n",
       "                <td>Pattern1</td>\n",
       "                <td>'background' (42.9%) -&gt; 'purpose' (14.3%)  -&gt; 'finding' (42.9%)</td>\n",
       "            </tr>\n",
       "            <tr>\n",
       "                <td>Pattern2&nbsp;</td>\n",
       "                <td>'background' (22.2%) -&gt; 'purpose' (11.2%) -&gt; 'method' (33.3%) -&gt; 'finding' (33.3%)</td>\n",
       "            </tr>\n",
       "            <tr>\n",
       "                <td>Pattern3&nbsp;</td>\n",
       "                <td>'background' (33.3%) -&gt; 'purpose' (16.7%) -&gt; 'method' (16.7%)  -&gt; 'finding' (33.3%)</td>\n",
       "            </tr>\n",
       "            <tr>\n",
       "                <td>Pattern4</td>\n",
       "                <td>'background' (33.3%) -&gt; 'method' (16.7%)  -&gt;  'finding' (50%)</td>\n",
       "            </tr>\n",
       "            <tr>\n",
       "                <td>Pattern5</td>\n",
       "                <td>'background' (20%)   -&gt; 'finding' (6.7%)  -&gt;  'background' (13.3%) -&gt; 'purpose' (6.7%) -&gt; 'background' (13.3%) -&gt; 'finding' (6.7%) -&gt; 'method' (6.7%) -&gt; 'finding' (26.7%)</td>\n",
       "            </tr>\n",
       "            <tbody>\n",
       "        </table>\n",
       "        "
      ],
      "text/plain": [
       "<IPython.core.display.HTML object>"
      ]
     },
     "metadata": {},
     "output_type": "display_data"
    }
   ],
   "source": [
    "\n",
    "# Label Distribution Explanation\n",
    "user_question_request = \"How are the structure labels distributed?\"\n",
    "response = convxai_agent.interact_single_turn(user_question_request, explained_sentence, target_label, target_conference, visualize)"
   ]
  },
  {
   "cell_type": "code",
   "execution_count": 7,
   "metadata": {},
   "outputs": [
    {
     "name": "stdout",
     "output_type": "stream",
     "text": [
      "Detected User Input = sentence-length\n",
      "======> Conversational XAI Demonstration <======\n",
      "User: What's the statistics of the sentence lengths?\n"
     ]
    },
    {
     "data": {
      "text/html": [
       "ConvXAI: \n",
       "        The [mean-2*std, mean-std, mean, mean+std, mean+2*std] percentiles of the sentence lengths in the CHI conference are <strong>{'all': [4, 14, 25, 36, 46], 'background': [5, 14, 22, 31, 40], 'purpose': [6, 17, 27, 38, 49], 'method': [4, 15, 27, 39, 51], 'finding': [4, 15, 26, 37, 48], 'other': [-3, 0, 4, 7, 11]}</strong> words. \n",
       "        "
      ],
      "text/plain": [
       "<IPython.core.display.HTML object>"
      ]
     },
     "metadata": {},
     "output_type": "display_data"
    }
   ],
   "source": [
    "\n",
    "# Sentence Length Explanation\n",
    "user_question_request = \"What's the statistics of the sentence lengths?\"\n",
    "response = convxai_agent.interact_single_turn(user_question_request,explained_sentence, target_label, target_conference, visualize)"
   ]
  },
  {
   "cell_type": "code",
   "execution_count": 8,
   "metadata": {},
   "outputs": [
    {
     "name": "stdout",
     "output_type": "stream",
     "text": [
      "Detected User Input = confidence\n",
      "======> Conversational XAI Demonstration <======\n",
      "User: How confident is this prediction?\n"
     ]
    },
    {
     "data": {
      "text/html": [
       "ConvXAI: Given your selected sentence = <span class='text-info'>It is unclear if existing interpretations of deep neural network models respond effectively to the needs of users .</span>, the model predicts a <strong>'background' aspect</strong> label with <strong>confidence score = 0.8926</strong>. "
      ],
      "text/plain": [
       "<IPython.core.display.HTML object>"
      ]
     },
     "metadata": {},
     "output_type": "display_data"
    }
   ],
   "source": [
    "\n",
    "# Model Confidence Explanation\n",
    "user_question_request = \"How confident is this prediction?\"\n",
    "response = convxai_agent.interact_single_turn(user_question_request, explained_sentence, target_label, target_conference, visualize)"
   ]
  },
  {
   "cell_type": "code",
   "execution_count": 9,
   "metadata": {},
   "outputs": [
    {
     "name": "stdout",
     "output_type": "stream",
     "text": [
      "Detected User Input = example\n",
      "======> Conversational XAI Demonstration <======\n",
      "User: What are some published sentences that look similar to mine semantically?\n"
     ]
    },
    {
     "data": {
      "text/html": [
       "ConvXAI: The top-3 similar examples (i.e., of selected-sentence = '<i><span class='text-info'>It is unclear if existing interpretations of deep neural network models respond effectively to the needs of users .</span>') from the <strong>CHI</strong> dataset are (Conditioned on <strong>label=0</strong>):<br> <strong>sample-5392</strong> - <a class='post-link' href='https://doi.org/10.1145/3290605.3300547' target='_blank'>We contribute to the theoretical aspect of this research by presenting an ethnographic study on alternative farming practices, in which the farm is not so much a system but an assemblage characterized by multiple systems or rationalities always evolving and changing</a>.<br> <strong>sample-4793</strong> - <a class='post-link' href='https://doi.org/10.1145/3290605.3300446' target='_blank'>We present findings from an accessibility design workshop that was carried out with a mixture of 197 developers and digital technology students</a>.<br> <strong>sample-1176</strong> - <a class='post-link' href='https://doi.org/10.1145/3173574.3173597' target='_blank'>Our natural tendency to be curious is increasingly important now that we are exposed to vast amounts of information</a>."
      ],
      "text/plain": [
       "<IPython.core.display.HTML object>"
      ]
     },
     "metadata": {},
     "output_type": "display_data"
    }
   ],
   "source": [
    "\n",
    "# Example Explanation\n",
    "user_question_request = \"What are some published sentences that look similar to mine semantically?\"\n",
    "response = convxai_agent.interact_single_turn(user_question_request, explained_sentence, target_label, target_conference, visualize)"
   ]
  },
  {
   "cell_type": "code",
   "execution_count": 10,
   "metadata": {},
   "outputs": [
    {
     "name": "stdout",
     "output_type": "stream",
     "text": [
      "Detected User Input = attribution\n",
      "======> Conversational XAI Demonstration <======\n",
      "User: Which words in this sentence are most important for this prediction?\n"
     ]
    },
    {
     "data": {
      "text/html": [
       "ConvXAI: The <strong>TOP-3</strong> important words are highlighted as below: <br><br>  <b><span style=\"font-weight: normal;\">it</span></b> <b><span style=\"font-weight: normal;\">is</span></b> <b><span style=\"font-weight: bold; background-color: #F9B261; border-radius: 5px;\">unclear</span></b> <b><span style=\"font-weight: normal;\">if</span></b> <b><span style=\"font-weight: normal;\">existing</span></b> <b><span style=\"font-weight: bold; background-color: #F9B261; border-radius: 5px;\">interpretations</span></b> <b><span style=\"font-weight: normal;\">of</span></b> <b><span style=\"font-weight: normal;\">deep</span></b> <b><span style=\"font-weight: bold; background-color: #F9B261; border-radius: 5px;\">neural</span></b> <b><span style=\"font-weight: normal;\">network</span></b> <b><span style=\"font-weight: normal;\">models</span></b> <b><span style=\"font-weight: normal;\">respond</span></b> <b><span style=\"font-weight: normal;\">effectively</span></b> <b><span style=\"font-weight: normal;\">to</span></b> <b><span style=\"font-weight: normal;\">the</span></b> <b><span style=\"font-weight: normal;\">needs</span></b> <b><span style=\"font-weight: normal;\">of</span></b> <b><span style=\"font-weight: normal;\">users</span></b> <b><span style=\"font-weight: normal;\">.</span></b>"
      ],
      "text/plain": [
       "<IPython.core.display.HTML object>"
      ]
     },
     "metadata": {},
     "output_type": "display_data"
    }
   ],
   "source": [
    "\n",
    "# Attribution Explanation\n",
    "user_question_request = \"Which words in this sentence are most important for this prediction?\"\n",
    "response = convxai_agent.interact_single_turn(user_question_request, explained_sentence, target_label, target_conference, visualize)"
   ]
  },
  {
   "cell_type": "code",
   "execution_count": 12,
   "metadata": {
    "scrolled": true
   },
   "outputs": [
    {
     "name": "stdout",
     "output_type": "stream",
     "text": [
      "Detected User Input = counterfactual\n"
     ]
    },
    {
     "name": "stderr",
     "output_type": "stream",
     "text": [
      "2022-12-05 01:56:52,880 - Load pretrained SentenceTransformer: all-MiniLM-L6-v2\n",
      "2022-12-05 01:56:53,268 - Use pytorch device: cuda\n"
     ]
    },
    {
     "data": {
      "application/vnd.jupyter.widget-view+json": {
       "model_id": "d3b4997e4bc0415bad23f3d2faf226da",
       "version_major": 2,
       "version_minor": 0
      },
      "text/plain": [
       "Batches:   0%|          | 0/1 [00:00<?, ?it/s]"
      ]
     },
     "metadata": {},
     "output_type": "display_data"
    },
    {
     "name": "stderr",
     "output_type": "stream",
     "text": [
      "2022-12-05 01:56:53,505 - message='Request to OpenAI API' method=post path=https://api.openai.com/v1/completions\n",
      "2022-12-05 01:56:56,864 - message='OpenAI API response' path=https://api.openai.com/v1/completions processing_ms=3026 request_id=047e58b8f442a3e835c6008874929223 response_code=200\n"
     ]
    },
    {
     "name": "stdout",
     "output_type": "stream",
     "text": [
      "======> Conversational XAI Demonstration <======\n",
      "User: How can I revise the input to get a different prediction?\n"
     ]
    },
    {
     "data": {
      "text/html": [
       "ConvXAI: The most likely counterfactual label is <strong>'finding'</strong>. You can get this label by revising from \n",
       "'<span class='text-info'>It is unclear if existing interpretations of deep neural network models respond effectively to the needs of users .</span>\n",
       "' into: \n",
       " <br>'<em><span class='text-secondary'><b><span style='font-weight: bold; background-color: #F9B261; border-radius: 5px;'>\"We</span></b> <b><span style='font-weight: bold; background-color: #F9B261; border-radius: 5px;'>find</span></b> <b><span style='font-weight: bold; background-color: #F9B261; border-radius: 5px;'>that</span></b> <b><span style='font-weight: bold; background-color: #F9B261; border-radius: 5px;'>it</span></b> is unclear if existing interpretations of deep neural network models <b><span style='font-weight: bold; background-color: #F9B261; border-radius: 5px;'>effectively</span></b> respond to the needs of users <b><span style='font-weight: bold; background-color: #F9B261; border-radius: 5px;'>\"</span></b> </span></em>'. <br>I'm confident with this revision with <strong>confidence score=0.0000</strong>."
      ],
      "text/plain": [
       "<IPython.core.display.HTML object>"
      ]
     },
     "metadata": {},
     "output_type": "display_data"
    }
   ],
   "source": [
    "\n",
    "# Counterfactual Explanation\n",
    "user_question_request = \"How can I revise the input to get a different prediction?\"\n",
    "response = convxai_agent.interact_single_turn(user_question_request, explained_sentence, target_label, target_conference, visualize)"
   ]
  },
  {
   "cell_type": "code",
   "execution_count": null,
   "metadata": {},
   "outputs": [],
   "source": []
  },
  {
   "cell_type": "markdown",
   "metadata": {},
   "source": [
    "### Check ConvXAI moduels' outputs in details"
   ]
  },
  {
   "cell_type": "markdown",
   "metadata": {},
   "source": [
    "Furthermore, you can directly check the output from each of the three ConvXAI modules, including the `user_intent_detection`, `ai_explainer`, `natural_language_generation`, and `dialogue_response_visualization`.\n"
   ]
  },
  {
   "cell_type": "markdown",
   "metadata": {},
   "source": [
    "#### User Intent Classification"
   ]
  },
  {
   "cell_type": "code",
   "execution_count": 8,
   "metadata": {},
   "outputs": [
    {
     "name": "stdout",
     "output_type": "stream",
     "text": [
      "Detected User Input = attribution\n"
     ]
    }
   ],
   "source": [
    "#### Different user question requests direct to different XAI types.\n",
    "# user_question_request = \"What data did the system learn from?\"\n",
    "# user_question_request = \"What kind of models are used?\"\n",
    "# user_question_request = \"What's the range of the style quality scores?\"\n",
    "# user_question_request = \"How are the structure labels distributed?\"\n",
    "# user_question_request = \"What's the statistics of the sentence lengths?\"\n",
    "# user_question_request = \"How confident is this prediction?\"\n",
    "# user_question_request = \"What are some published sentences that look similar to mine semantically?\"\n",
    "user_question_request = \"Which words in this sentence are most important for this prediction?\"\n",
    "# user_question_request = \"How can I revise the input to get a different prediction?\"\n",
    "\n",
    "\n",
    "\n",
    "explained_sentence = \"It is unclear if existing interpretations of deep neural network models respond effectively to the needs of users .\"\n",
    "target_label = \"background\"\n",
    "target_conference = \"CHI\"\n",
    "visualize=False\n",
    "\n",
    "### Get User Intent\n",
    "user_intent = convxai_agent.nlu(user_question_request)\n",
    "print(f\"Detected User Input = {user_intent}\")\n"
   ]
  },
  {
   "cell_type": "markdown",
   "metadata": {},
   "source": [
    "#### AI Explanations"
   ]
  },
  {
   "cell_type": "code",
   "execution_count": 9,
   "metadata": {},
   "outputs": [
    {
     "name": "stdout",
     "output_type": "stream",
     "text": [
      "Generated Explanation Dictionary = {'top_k': 3, 'all_predic_toks': ['it', 'is', 'unclear', 'if', 'existing', 'interpretations', 'of', 'deep', 'neural', 'network', 'models', 'respond', 'effectively', 'to', 'the', 'needs', 'of', 'users', '.'], 'important_indices': array([2, 5, 8])}\n"
     ]
    }
   ],
   "source": [
    "### Check the generated explanation variables\n",
    "explanation_dict = convxai_agent.explainer.generate_explanation(user_intent, explained_sentence, target_label, target_conference)\n",
    "print(f\"Generated Explanation Dictionary = {explanation_dict}\")\n"
   ]
  },
  {
   "cell_type": "markdown",
   "metadata": {},
   "source": [
    "#### Natural Language Generation"
   ]
  },
  {
   "cell_type": "code",
   "execution_count": 10,
   "metadata": {},
   "outputs": [
    {
     "name": "stdout",
     "output_type": "stream",
     "text": [
      "Template-based response = The <strong>TOP-3</strong> important words are highlighted as below: <br><br>  <b><span style=\"font-weight: normal;\">it</span></b> <b><span style=\"font-weight: normal;\">is</span></b> <b><span style=\"font-weight: bold; background-color: #F9B261; border-radius: 5px;\">unclear</span></b> <b><span style=\"font-weight: normal;\">if</span></b> <b><span style=\"font-weight: normal;\">existing</span></b> <b><span style=\"font-weight: bold; background-color: #F9B261; border-radius: 5px;\">interpretations</span></b> <b><span style=\"font-weight: normal;\">of</span></b> <b><span style=\"font-weight: normal;\">deep</span></b> <b><span style=\"font-weight: bold; background-color: #F9B261; border-radius: 5px;\">neural</span></b> <b><span style=\"font-weight: normal;\">network</span></b> <b><span style=\"font-weight: normal;\">models</span></b> <b><span style=\"font-weight: normal;\">respond</span></b> <b><span style=\"font-weight: normal;\">effectively</span></b> <b><span style=\"font-weight: normal;\">to</span></b> <b><span style=\"font-weight: normal;\">the</span></b> <b><span style=\"font-weight: normal;\">needs</span></b> <b><span style=\"font-weight: normal;\">of</span></b> <b><span style=\"font-weight: normal;\">users</span></b> <b><span style=\"font-weight: normal;\">.</span></b>\n"
     ]
    }
   ],
   "source": [
    "### Template-based response (in 'html' format)\n",
    "response = convxai_agent.nlg(user_intent, explanation_dict)\n",
    "print(f\"Template-based response = {response}\")\n"
   ]
  },
  {
   "cell_type": "markdown",
   "metadata": {},
   "source": [
    "#### Dialogue Response Visualization "
   ]
  },
  {
   "cell_type": "code",
   "execution_count": 11,
   "metadata": {},
   "outputs": [
    {
     "name": "stdout",
     "output_type": "stream",
     "text": [
      "======> Conversational XAI Demonstration <======\n",
      "User: Which words in this sentence are most important for this prediction?\n"
     ]
    },
    {
     "data": {
      "text/html": [
       "ConvXAI: The <strong>TOP-3</strong> important words are highlighted as below: <br><br>  <b><span style=\"font-weight: normal;\">it</span></b> <b><span style=\"font-weight: normal;\">is</span></b> <b><span style=\"font-weight: bold; background-color: #F9B261; border-radius: 5px;\">unclear</span></b> <b><span style=\"font-weight: normal;\">if</span></b> <b><span style=\"font-weight: normal;\">existing</span></b> <b><span style=\"font-weight: bold; background-color: #F9B261; border-radius: 5px;\">interpretations</span></b> <b><span style=\"font-weight: normal;\">of</span></b> <b><span style=\"font-weight: normal;\">deep</span></b> <b><span style=\"font-weight: bold; background-color: #F9B261; border-radius: 5px;\">neural</span></b> <b><span style=\"font-weight: normal;\">network</span></b> <b><span style=\"font-weight: normal;\">models</span></b> <b><span style=\"font-weight: normal;\">respond</span></b> <b><span style=\"font-weight: normal;\">effectively</span></b> <b><span style=\"font-weight: normal;\">to</span></b> <b><span style=\"font-weight: normal;\">the</span></b> <b><span style=\"font-weight: normal;\">needs</span></b> <b><span style=\"font-weight: normal;\">of</span></b> <b><span style=\"font-weight: normal;\">users</span></b> <b><span style=\"font-weight: normal;\">.</span></b>"
      ],
      "text/plain": [
       "<IPython.core.display.HTML object>"
      ]
     },
     "metadata": {},
     "output_type": "display_data"
    }
   ],
   "source": [
    "### Display the free-text explanations\n",
    "convxai_agent._visualize_single_turn_dialog(user_question_request, response)"
   ]
  },
  {
   "cell_type": "code",
   "execution_count": null,
   "metadata": {},
   "outputs": [],
   "source": []
  },
  {
   "cell_type": "code",
   "execution_count": null,
   "metadata": {},
   "outputs": [],
   "source": []
  },
  {
   "cell_type": "code",
   "execution_count": null,
   "metadata": {},
   "outputs": [],
   "source": []
  }
 ],
 "metadata": {
  "kernelspec": {
   "display_name": "Python 3",
   "language": "python",
   "name": "python3"
  },
  "language_info": {
   "codemirror_mode": {
    "name": "ipython",
    "version": 3
   },
   "file_extension": ".py",
   "mimetype": "text/x-python",
   "name": "python",
   "nbconvert_exporter": "python",
   "pygments_lexer": "ipython3",
   "version": "3.7.13"
  },
  "vscode": {
   "interpreter": {
    "hash": "347be804384a984e363a1c4c2bbc012e3ea81df9ffd4ff22b2702561db5c40b7"
   }
  }
 },
 "nbformat": 4,
 "nbformat_minor": 2
}
