{
 "cells": [
  {
   "cell_type": "markdown",
   "metadata": {},
   "source": [
    "# The Universal XAI API from ConvXAI"
   ]
  },
  {
   "cell_type": "markdown",
   "metadata": {},
   "source": [
    "A tutorial of exploring the DSL(Domain Specific Language) of **ConvXAI**, which aims to build the universal APIs for a range of XAI methods. \n",
    "\n",
    "In this tutorial, we show the ConvXAI APIs with two examples:\n",
    "\n",
    "- Single turn interaction\n",
    "- Multi turn interaction."
   ]
  },
  {
   "cell_type": "code",
   "execution_count": 1,
   "metadata": {},
   "outputs": [
    {
     "name": "stderr",
     "output_type": "stream",
     "text": [
      "2022-12-05 01:25:53 INFO: Checking for updates to resources.json in case models have been updated.  Note: this behavior can be turned off with download_method=None or download_method=DownloadMethod.REUSE_RESOURCES\n",
      "2022-12-05 01:25:53,805 - Checking for updates to resources.json in case models have been updated.  Note: this behavior can be turned off with download_method=None or download_method=DownloadMethod.REUSE_RESOURCES\n"
     ]
    },
    {
     "data": {
      "application/vnd.jupyter.widget-view+json": {
       "model_id": "9a83f7ad018b41c3b834eb73b5860bda",
       "version_major": 2,
       "version_minor": 0
      },
      "text/plain": [
       "Downloading https://raw.githubusercontent.com/stanfordnlp/stanza-resources/main/resources_1.4.1.json:   0%|   …"
      ]
     },
     "metadata": {},
     "output_type": "display_data"
    },
    {
     "name": "stderr",
     "output_type": "stream",
     "text": [
      "2022-12-05 01:25:55 INFO: Loading these models for language: en (English):\n",
      "============================\n",
      "| Processor    | Package   |\n",
      "----------------------------\n",
      "| tokenize     | combined  |\n",
      "| pos          | combined  |\n",
      "| lemma        | combined  |\n",
      "| depparse     | combined  |\n",
      "| sentiment    | sstplus   |\n",
      "| constituency | wsj       |\n",
      "| ner          | ontonotes |\n",
      "============================\n",
      "\n",
      "2022-12-05 01:25:55,787 - Loading these models for language: en (English):\n",
      "============================\n",
      "| Processor    | Package   |\n",
      "----------------------------\n",
      "| tokenize     | combined  |\n",
      "| pos          | combined  |\n",
      "| lemma        | combined  |\n",
      "| depparse     | combined  |\n",
      "| sentiment    | sstplus   |\n",
      "| constituency | wsj       |\n",
      "| ner          | ontonotes |\n",
      "============================\n",
      "\n",
      "2022-12-05 01:25:55 INFO: Use device: gpu\n",
      "2022-12-05 01:25:55,811 - Use device: gpu\n",
      "2022-12-05 01:25:55 INFO: Loading: tokenize\n",
      "2022-12-05 01:25:55,813 - Loading: tokenize\n",
      "2022-12-05 01:26:01 INFO: Loading: pos\n",
      "2022-12-05 01:26:01,005 - Loading: pos\n",
      "2022-12-05 01:26:01 INFO: Loading: lemma\n",
      "2022-12-05 01:26:01,715 - Loading: lemma\n",
      "2022-12-05 01:26:01 INFO: Loading: depparse\n",
      "2022-12-05 01:26:01,760 - Loading: depparse\n",
      "2022-12-05 01:26:02 INFO: Loading: sentiment\n",
      "2022-12-05 01:26:02,059 - Loading: sentiment\n",
      "2022-12-05 01:26:02 INFO: Loading: constituency\n",
      "2022-12-05 01:26:02,795 - Loading: constituency\n",
      "2022-12-05 01:26:03 INFO: Loading: ner\n",
      "2022-12-05 01:26:03,552 - Loading: ner\n",
      "2022-12-05 01:26:04 INFO: Done loading processors!\n",
      "2022-12-05 01:26:04,385 - Done loading processors!\n"
     ]
    }
   ],
   "source": [
    "\"\"\"Loads the packages.\"\"\"\n",
    "\n",
    "import sys\n",
    "sys.path.append(\"/home/hqs5468/hua/workspace/projects/convxai\")\n",
    "from convxai.writing_models.models import *\n",
    "from convxai_api.modules import *\n",
    "from convxai_api.xaiagent import ConvXAI\n",
    "\n",
    "import warnings\n",
    "warnings.filterwarnings(\"ignore\")\n",
    "os.environ[\"TOKENIZERS_PARALLELISM\"] = \"false\"\n"
   ]
  },
  {
   "cell_type": "markdown",
   "metadata": {},
   "source": [
    "### Interact with ConvXAI Agent (Single Turn Conversation)"
   ]
  },
  {
   "cell_type": "markdown",
   "metadata": {},
   "source": [
    "You can ask XAI request to the ConvXAI agent for different XAI questions and types.\n",
    "Below, we show how you can leverage `interact_single_turn` function to request 8 types AI explanations from ConvXAI class."
   ]
  },
  {
   "cell_type": "code",
   "execution_count": 2,
   "metadata": {},
   "outputs": [
    {
     "name": "stderr",
     "output_type": "stream",
     "text": [
      "2022-12-05 01:26:13,106 - \n",
      "Loading writing models to be explained......\n"
     ]
    }
   ],
   "source": [
    "\"\"\"Instantiates a ConvXAI agent.\"\"\"\n",
    "convxai_agent = ConvXAI(intent_detection_algorithm=\"rule_based\")\n"
   ]
  },
  {
   "cell_type": "code",
   "execution_count": 3,
   "metadata": {},
   "outputs": [
    {
     "name": "stdout",
     "output_type": "stream",
     "text": [
      "Detected User Input = counterfactual\n"
     ]
    },
    {
     "ename": "FileNotFoundError",
     "evalue": "[Errno 2] No such file or directory: '/home/hqs5468/hua/workspace/projects/convxai/convxai/xai_models/preprocessing/global_xai_statistics/embeddings_all-MiniLM-L6-v2.joblib'",
     "output_type": "error",
     "traceback": [
      "\u001b[0;31m---------------------------------------------------------------------------\u001b[0m",
      "\u001b[0;31mFileNotFoundError\u001b[0m                         Traceback (most recent call last)",
      "\u001b[0;32m/tmp/ipykernel_41010/3194724781.py\u001b[0m in \u001b[0;36m<module>\u001b[0;34m\u001b[0m\n\u001b[1;32m     12\u001b[0m \u001b[0;34m\u001b[0m\u001b[0m\n\u001b[1;32m     13\u001b[0m \u001b[0;31m# user_question_request = \"Which words in this sentence are most important for this prediction?\"\u001b[0m\u001b[0;34m\u001b[0m\u001b[0;34m\u001b[0m\u001b[0;34m\u001b[0m\u001b[0m\n\u001b[0;32m---> 14\u001b[0;31m \u001b[0mresponse\u001b[0m \u001b[0;34m=\u001b[0m \u001b[0mconvxai_agent\u001b[0m\u001b[0;34m.\u001b[0m\u001b[0minteract_single_turn\u001b[0m\u001b[0;34m(\u001b[0m\u001b[0muser_question_request\u001b[0m\u001b[0;34m,\u001b[0m \u001b[0mexplained_sentence\u001b[0m\u001b[0;34m,\u001b[0m \u001b[0mtarget_label\u001b[0m\u001b[0;34m,\u001b[0m \u001b[0mtarget_conference\u001b[0m\u001b[0;34m,\u001b[0m \u001b[0mvisualize\u001b[0m\u001b[0;34m)\u001b[0m\u001b[0;34m\u001b[0m\u001b[0;34m\u001b[0m\u001b[0m\n\u001b[0m",
      "\u001b[0;32m/data/hua/workspace/projects/convxai/notebooks/convxai_api/xaiagent.py\u001b[0m in \u001b[0;36minteract_single_turn\u001b[0;34m(self, user_input, explained_sentence, target_label, target_conference, visualize)\u001b[0m\n\u001b[1;32m     35\u001b[0m         \u001b[0muser_intent\u001b[0m \u001b[0;34m=\u001b[0m \u001b[0mself\u001b[0m\u001b[0;34m.\u001b[0m\u001b[0mnlu\u001b[0m\u001b[0;34m(\u001b[0m\u001b[0muser_input\u001b[0m\u001b[0;34m)\u001b[0m\u001b[0;34m\u001b[0m\u001b[0;34m\u001b[0m\u001b[0m\n\u001b[1;32m     36\u001b[0m         \u001b[0mprint\u001b[0m\u001b[0;34m(\u001b[0m\u001b[0;34mf\"Detected User Input = {user_intent}\"\u001b[0m\u001b[0;34m)\u001b[0m\u001b[0;34m\u001b[0m\u001b[0;34m\u001b[0m\u001b[0m\n\u001b[0;32m---> 37\u001b[0;31m         \u001b[0mexplanation_dict\u001b[0m \u001b[0;34m=\u001b[0m \u001b[0mself\u001b[0m\u001b[0;34m.\u001b[0m\u001b[0mexplainer\u001b[0m\u001b[0;34m.\u001b[0m\u001b[0mgenerate_explanation\u001b[0m\u001b[0;34m(\u001b[0m\u001b[0muser_intent\u001b[0m\u001b[0;34m,\u001b[0m \u001b[0mexplained_sentence\u001b[0m\u001b[0;34m,\u001b[0m \u001b[0mtarget_label\u001b[0m\u001b[0;34m,\u001b[0m \u001b[0mtarget_conference\u001b[0m\u001b[0;34m)\u001b[0m\u001b[0;34m\u001b[0m\u001b[0;34m\u001b[0m\u001b[0m\n\u001b[0m\u001b[1;32m     38\u001b[0m         \u001b[0mresponse\u001b[0m \u001b[0;34m=\u001b[0m \u001b[0mself\u001b[0m\u001b[0;34m.\u001b[0m\u001b[0mnlg\u001b[0m\u001b[0;34m(\u001b[0m\u001b[0muser_intent\u001b[0m\u001b[0;34m,\u001b[0m \u001b[0mexplanation_dict\u001b[0m\u001b[0;34m)\u001b[0m\u001b[0;34m\u001b[0m\u001b[0;34m\u001b[0m\u001b[0m\n\u001b[1;32m     39\u001b[0m         \u001b[0;32mif\u001b[0m \u001b[0mvisualize\u001b[0m\u001b[0;34m:\u001b[0m\u001b[0;34m\u001b[0m\u001b[0;34m\u001b[0m\u001b[0m\n",
      "\u001b[0;32m/data/hua/workspace/projects/convxai/notebooks/convxai_api/modules/explainer.py\u001b[0m in \u001b[0;36mgenerate_explanation\u001b[0;34m(self, user_intent_detection, writingInput, predictLabel, conference, **kwargs)\u001b[0m\n\u001b[1;32m     69\u001b[0m \u001b[0;34m\u001b[0m\u001b[0m\n\u001b[1;32m     70\u001b[0m         \u001b[0;32melif\u001b[0m \u001b[0muser_intent_detection\u001b[0m \u001b[0;34m==\u001b[0m \u001b[0mXAI_User_Intents\u001b[0m\u001b[0;34m[\u001b[0m\u001b[0;36m7\u001b[0m\u001b[0;34m]\u001b[0m\u001b[0;34m:\u001b[0m\u001b[0;34m\u001b[0m\u001b[0;34m\u001b[0m\u001b[0m\n\u001b[0;32m---> 71\u001b[0;31m             \u001b[0mexplanations\u001b[0m \u001b[0;34m=\u001b[0m \u001b[0mself\u001b[0m\u001b[0;34m.\u001b[0m\u001b[0mexplain_counterfactual\u001b[0m\u001b[0;34m(\u001b[0m\u001b[0mwritingInput\u001b[0m\u001b[0;34m,\u001b[0m \u001b[0mpredictLabel\u001b[0m\u001b[0;34m,\u001b[0m \u001b[0;34m**\u001b[0m\u001b[0mkwargs\u001b[0m\u001b[0;34m)\u001b[0m\u001b[0;34m\u001b[0m\u001b[0;34m\u001b[0m\u001b[0m\n\u001b[0m\u001b[1;32m     72\u001b[0m \u001b[0;34m\u001b[0m\u001b[0m\n\u001b[1;32m     73\u001b[0m \u001b[0;34m\u001b[0m\u001b[0m\n",
      "\u001b[0;32m/data/hua/workspace/projects/convxai/notebooks/convxai_api/modules/explainer.py\u001b[0m in \u001b[0;36mexplain_counterfactual\u001b[0;34m(self, input, predictLabel, **kwargs)\u001b[0m\n\u001b[1;32m    218\u001b[0m         \"\"\"\n\u001b[1;32m    219\u001b[0m         \u001b[0mcontrast_label_idx_input\u001b[0m \u001b[0;34m=\u001b[0m \u001b[0mlabel_mapping\u001b[0m\u001b[0;34m[\u001b[0m\u001b[0mkwargs\u001b[0m\u001b[0;34m[\u001b[0m\u001b[0;34m\"attributes\"\u001b[0m\u001b[0;34m]\u001b[0m\u001b[0;34m[\u001b[0m\u001b[0;34m\"contrast_label\"\u001b[0m\u001b[0;34m]\u001b[0m\u001b[0;34m]\u001b[0m \u001b[0;32mif\u001b[0m \u001b[0mkwargs\u001b[0m \u001b[0;32mand\u001b[0m \u001b[0mkwargs\u001b[0m\u001b[0;34m[\u001b[0m\u001b[0;34m\"attributes\"\u001b[0m\u001b[0;34m]\u001b[0m\u001b[0;34m[\u001b[0m\u001b[0;34m\"contrast_label\"\u001b[0m\u001b[0;34m]\u001b[0m \u001b[0;32mis\u001b[0m \u001b[0;32mnot\u001b[0m \u001b[0;32mNone\u001b[0m \u001b[0;32melse\u001b[0m \u001b[0;34m-\u001b[0m\u001b[0;36m2\u001b[0m\u001b[0;34m\u001b[0m\u001b[0;34m\u001b[0m\u001b[0m\n\u001b[0;32m--> 220\u001b[0;31m         \u001b[0mself\u001b[0m\u001b[0;34m.\u001b[0m\u001b[0mcounterfactual_explainer\u001b[0m \u001b[0;34m=\u001b[0m \u001b[0mCounterfactualExplainer\u001b[0m\u001b[0;34m(\u001b[0m\u001b[0;34m)\u001b[0m\u001b[0;34m\u001b[0m\u001b[0;34m\u001b[0m\u001b[0m\n\u001b[0m\u001b[1;32m    221\u001b[0m         \u001b[0moutput\u001b[0m \u001b[0;34m=\u001b[0m \u001b[0mself\u001b[0m\u001b[0;34m.\u001b[0m\u001b[0mcounterfactual_explainer\u001b[0m\u001b[0;34m.\u001b[0m\u001b[0mgenerate_counterfactual\u001b[0m\u001b[0;34m(\u001b[0m\u001b[0minput\u001b[0m\u001b[0;34m,\u001b[0m \u001b[0mcontrast_label_idx_input\u001b[0m\u001b[0;34m)\u001b[0m\u001b[0;34m\u001b[0m\u001b[0;34m\u001b[0m\u001b[0m\n\u001b[1;32m    222\u001b[0m         \u001b[0;32mif\u001b[0m \u001b[0mlen\u001b[0m\u001b[0;34m(\u001b[0m\u001b[0moutput\u001b[0m\u001b[0;34m)\u001b[0m \u001b[0;34m>\u001b[0m \u001b[0;36m0\u001b[0m\u001b[0;34m:\u001b[0m\u001b[0;34m\u001b[0m\u001b[0;34m\u001b[0m\u001b[0m\n",
      "\u001b[0;32m/data/hua/workspace/projects/convxai/notebooks/convxai_api/modules/explainers/counterfactual_explainer.py\u001b[0m in \u001b[0;36m__init__\u001b[0;34m(self, sentence_model_name)\u001b[0m\n\u001b[1;32m     91\u001b[0m \u001b[0;34m\u001b[0m\u001b[0m\n\u001b[1;32m     92\u001b[0m         \u001b[0;31m# load data\u001b[0m\u001b[0;34m\u001b[0m\u001b[0;34m\u001b[0m\u001b[0;34m\u001b[0m\u001b[0m\n\u001b[0;32m---> 93\u001b[0;31m         \u001b[0mself\u001b[0m\u001b[0;34m.\u001b[0m\u001b[0membeddings\u001b[0m \u001b[0;34m=\u001b[0m \u001b[0mjoblib\u001b[0m\u001b[0;34m.\u001b[0m\u001b[0mload\u001b[0m\u001b[0;34m(\u001b[0m\u001b[0mPath\u001b[0m\u001b[0;34m(\u001b[0m\u001b[0mdata_folder\u001b[0m\u001b[0;34m,\u001b[0m \u001b[0;34mf\"embeddings_{sentence_model_name}.joblib\"\u001b[0m\u001b[0;34m)\u001b[0m\u001b[0;34m)\u001b[0m\u001b[0;34m\u001b[0m\u001b[0;34m\u001b[0m\u001b[0m\n\u001b[0m\u001b[1;32m     94\u001b[0m         \u001b[0mself\u001b[0m\u001b[0;34m.\u001b[0m\u001b[0mtext_info\u001b[0m \u001b[0;34m=\u001b[0m \u001b[0mself\u001b[0m\u001b[0;34m.\u001b[0m\u001b[0mload_json\u001b[0m\u001b[0;34m(\u001b[0m\u001b[0mPath\u001b[0m\u001b[0;34m(\u001b[0m\u001b[0mdata_folder\u001b[0m\u001b[0;34m,\u001b[0m \u001b[0;34m\"text_info.json\"\u001b[0m\u001b[0;34m)\u001b[0m\u001b[0;34m)\u001b[0m\u001b[0;34m\u001b[0m\u001b[0;34m\u001b[0m\u001b[0m\n\u001b[1;32m     95\u001b[0m         \u001b[0mself\u001b[0m\u001b[0;34m.\u001b[0m\u001b[0mtext_info\u001b[0m \u001b[0;34m=\u001b[0m \u001b[0mpd\u001b[0m\u001b[0;34m.\u001b[0m\u001b[0mDataFrame\u001b[0m\u001b[0;34m(\u001b[0m\u001b[0mself\u001b[0m\u001b[0;34m.\u001b[0m\u001b[0mtext_info\u001b[0m\u001b[0;34m)\u001b[0m\u001b[0;34m\u001b[0m\u001b[0;34m\u001b[0m\u001b[0m\n",
      "\u001b[0;32m~/hua/anaconda3/envs/convxai/lib/python3.7/site-packages/joblib/numpy_pickle.py\u001b[0m in \u001b[0;36mload\u001b[0;34m(filename, mmap_mode)\u001b[0m\n\u001b[1;32m    577\u001b[0m             \u001b[0mobj\u001b[0m \u001b[0;34m=\u001b[0m \u001b[0m_unpickle\u001b[0m\u001b[0;34m(\u001b[0m\u001b[0mfobj\u001b[0m\u001b[0;34m)\u001b[0m\u001b[0;34m\u001b[0m\u001b[0;34m\u001b[0m\u001b[0m\n\u001b[1;32m    578\u001b[0m     \u001b[0;32melse\u001b[0m\u001b[0;34m:\u001b[0m\u001b[0;34m\u001b[0m\u001b[0;34m\u001b[0m\u001b[0m\n\u001b[0;32m--> 579\u001b[0;31m         \u001b[0;32mwith\u001b[0m \u001b[0mopen\u001b[0m\u001b[0;34m(\u001b[0m\u001b[0mfilename\u001b[0m\u001b[0;34m,\u001b[0m \u001b[0;34m'rb'\u001b[0m\u001b[0;34m)\u001b[0m \u001b[0;32mas\u001b[0m \u001b[0mf\u001b[0m\u001b[0;34m:\u001b[0m\u001b[0;34m\u001b[0m\u001b[0;34m\u001b[0m\u001b[0m\n\u001b[0m\u001b[1;32m    580\u001b[0m             \u001b[0;32mwith\u001b[0m \u001b[0m_read_fileobject\u001b[0m\u001b[0;34m(\u001b[0m\u001b[0mf\u001b[0m\u001b[0;34m,\u001b[0m \u001b[0mfilename\u001b[0m\u001b[0;34m,\u001b[0m \u001b[0mmmap_mode\u001b[0m\u001b[0;34m)\u001b[0m \u001b[0;32mas\u001b[0m \u001b[0mfobj\u001b[0m\u001b[0;34m:\u001b[0m\u001b[0;34m\u001b[0m\u001b[0;34m\u001b[0m\u001b[0m\n\u001b[1;32m    581\u001b[0m                 \u001b[0;32mif\u001b[0m \u001b[0misinstance\u001b[0m\u001b[0;34m(\u001b[0m\u001b[0mfobj\u001b[0m\u001b[0;34m,\u001b[0m \u001b[0mstr\u001b[0m\u001b[0;34m)\u001b[0m\u001b[0;34m:\u001b[0m\u001b[0;34m\u001b[0m\u001b[0;34m\u001b[0m\u001b[0m\n",
      "\u001b[0;31mFileNotFoundError\u001b[0m: [Errno 2] No such file or directory: '/home/hqs5468/hua/workspace/projects/convxai/convxai/xai_models/preprocessing/global_xai_statistics/embeddings_all-MiniLM-L6-v2.joblib'"
     ]
    }
   ],
   "source": [
    "### interact with ConvXAI agent using different free-text XAI requests.\n",
    "### use `visualize` to decide visualization.\n",
    "\n",
    "explained_sentence = \"It is unclear if existing interpretations of deep neural network models respond effectively to the needs of users .\"\n",
    "\n",
    "target_label = \"background\"\n",
    "target_conference = \"CHI\"\n",
    "visualize=True\n",
    "\n",
    "# Data Explanation\n",
    "user_question_request = \"How can I revise the input to get a different prediction?\"\n",
    "\n",
    "# user_question_request = \"Which words in this sentence are most important for this prediction?\"\n",
    "response = convxai_agent.interact_single_turn(user_question_request, explained_sentence, target_label, target_conference, visualize)"
   ]
  },
  {
   "cell_type": "code",
   "execution_count": null,
   "metadata": {},
   "outputs": [],
   "source": [
    "### interact with ConvXAI agent using different free-text XAI requests.\n",
    "### use `visualize` to decide visualization.\n",
    "\n",
    "explained_sentence = \"It is unclear if existing interpretations of deep neural network models respond effectively to the needs of users .\"\n",
    "\n",
    "target_label = \"background\"\n",
    "target_conference = \"CHI\"\n",
    "visualize=True\n",
    "\n",
    "# Data Explanation\n",
    "user_question_request = \"How can I revise the input to get a different prediction?\"\n",
    "\n",
    "# user_question_request = \"Which words in this sentence are most important for this prediction?\"\n",
    "response = convxai_agent.interact_single_turn(user_question_request, explained_sentence, target_label, target_conference, visualize)"
   ]
  },
  {
   "cell_type": "code",
   "execution_count": null,
   "metadata": {},
   "outputs": [],
   "source": []
  },
  {
   "cell_type": "code",
   "execution_count": null,
   "metadata": {},
   "outputs": [],
   "source": [
    "\n",
    "### interact with ConvXAI agent using different free-text XAI requests.\n",
    "### use `visualize` to decide visualization.\n",
    "\n",
    "explained_sentence = \"It is unclear if existing interpretations of deep neural network models respond effectively to the needs of users .\"\n",
    "target_label = \"background\"\n",
    "target_conference = \"CHI\"\n",
    "visualize=True\n",
    "\n",
    "# Data Explanation\n",
    "user_question_request = \"Which words in this sentence are most important for this prediction?\"\n",
    "response = convxai_agent.interact_single_turn(user_question_request, explained_sentence, target_label, target_conference, visualize)"
   ]
  },
  {
   "cell_type": "code",
   "execution_count": null,
   "metadata": {},
   "outputs": [],
   "source": [
    "\n",
    "### interact with ConvXAI agent using different free-text XAI requests.\n",
    "### use `visualize` to decide visualization.\n",
    "\n",
    "explained_sentence = \"It is unclear if existing interpretations of deep neural network models respond effectively to the needs of users .\"\n",
    "target_label = \"background\"\n",
    "target_conference = \"CHI\"\n",
    "visualize=True\n",
    "\n",
    "# Data Explanation\n",
    "user_question_request = \"Which words in this sentence are most important for this prediction?\"\n",
    "response = convxai_agent.interact_single_turn(user_question_request, explained_sentence, target_label, target_conference, visualize)"
   ]
  },
  {
   "cell_type": "code",
   "execution_count": null,
   "metadata": {},
   "outputs": [],
   "source": [
    "\n",
    "### interact with ConvXAI agent using different free-text XAI requests.\n",
    "### use `visualize` to decide visualization.\n",
    "\n",
    "explained_sentence = \"It is unclear if existing interpretations of deep neural network models respond effectively to the needs of users .\"\n",
    "target_label = \"background\"\n",
    "target_conference = \"CHI\"\n",
    "visualize=True\n",
    "\n",
    "# Data Explanation\n",
    "user_question_request = \"Which words in this sentence are most important for this prediction?\"\n",
    "response = convxai_agent.interact_single_turn(user_question_request, explained_sentence, target_label, target_conference, visualize)"
   ]
  },
  {
   "cell_type": "code",
   "execution_count": null,
   "metadata": {},
   "outputs": [],
   "source": [
    "\n",
    "### interact with ConvXAI agent using different free-text XAI requests.\n",
    "### use `visualize` to decide visualization.\n",
    "\n",
    "explained_sentence = \"It is unclear if existing interpretations of deep neural network models respond effectively to the needs of users .\"\n",
    "target_label = \"background\"\n",
    "target_conference = \"CHI\"\n",
    "visualize=True\n",
    "\n",
    "# Data Explanation\n",
    "user_question_request = \"Which words in this sentence are most important for this prediction?\"\n",
    "response = convxai_agent.interact_single_turn(user_question_request, explained_sentence, target_label, target_conference, visualize)"
   ]
  },
  {
   "cell_type": "code",
   "execution_count": null,
   "metadata": {},
   "outputs": [],
   "source": [
    "\n",
    "### interact with ConvXAI agent using different free-text XAI requests.\n",
    "### use `visualize` to decide visualization.\n",
    "\n",
    "explained_sentence = \"It is unclear if existing interpretations of deep neural network models respond effectively to the needs of users .\"\n",
    "target_label = \"background\"\n",
    "target_conference = \"CHI\"\n",
    "visualize=True\n",
    "\n",
    "# Data Explanation\n",
    "user_question_request = \"Which words in this sentence are most important for this prediction?\"\n",
    "response = convxai_agent.interact_single_turn(user_question_request, explained_sentence, target_label, target_conference, visualize)"
   ]
  },
  {
   "cell_type": "code",
   "execution_count": null,
   "metadata": {},
   "outputs": [],
   "source": [
    "\n",
    "### interact with ConvXAI agent using different free-text XAI requests.\n",
    "### use `visualize` to decide visualization.\n",
    "\n",
    "explained_sentence = \"It is unclear if existing interpretations of deep neural network models respond effectively to the needs of users .\"\n",
    "target_label = \"background\"\n",
    "target_conference = \"CHI\"\n",
    "visualize=True\n",
    "\n",
    "# Data Explanation\n",
    "user_question_request = \"Which words in this sentence are most important for this prediction?\"\n",
    "response = convxai_agent.interact_single_turn(user_question_request, explained_sentence, target_label, target_conference, visualize)"
   ]
  },
  {
   "cell_type": "code",
   "execution_count": null,
   "metadata": {},
   "outputs": [],
   "source": [
    "\n",
    "### interact with ConvXAI agent using different free-text XAI requests.\n",
    "### use `visualize` to decide visualization.\n",
    "\n",
    "explained_sentence = \"It is unclear if existing interpretations of deep neural network models respond effectively to the needs of users .\"\n",
    "target_label = \"background\"\n",
    "target_conference = \"CHI\"\n",
    "visualize=True\n",
    "\n",
    "# Data Explanation\n",
    "user_question_request = \"Which words in this sentence are most important for this prediction?\"\n",
    "response = convxai_agent.interact_single_turn(user_question_request, explained_sentence, target_label, target_conference, visualize)"
   ]
  },
  {
   "cell_type": "code",
   "execution_count": null,
   "metadata": {},
   "outputs": [],
   "source": [
    "\n",
    "### interact with ConvXAI agent using different free-text XAI requests.\n",
    "### use `visualize` to decide visualization.\n",
    "\n",
    "explained_sentence = \"It is unclear if existing interpretations of deep neural network models respond effectively to the needs of users .\"\n",
    "target_label = \"background\"\n",
    "target_conference = \"CHI\"\n",
    "visualize=True\n",
    "\n",
    "# Data Explanation\n",
    "user_question_request = \"Which words in this sentence are most important for this prediction?\"\n",
    "response = convxai_agent.interact_single_turn(user_question_request, explained_sentence, target_label, target_conference, visualize)"
   ]
  },
  {
   "cell_type": "code",
   "execution_count": null,
   "metadata": {},
   "outputs": [],
   "source": [
    "\n",
    "### interact with ConvXAI agent using different free-text XAI requests.\n",
    "### use `visualize` to decide visualization.\n",
    "\n",
    "explained_sentence = \"It is unclear if existing interpretations of deep neural network models respond effectively to the needs of users .\"\n",
    "target_label = \"background\"\n",
    "target_conference = \"CHI\"\n",
    "visualize=True\n",
    "\n",
    "# Data Explanation\n",
    "user_question_request = \"Which words in this sentence are most important for this prediction?\"\n",
    "response = convxai_agent.interact_single_turn(user_question_request, explained_sentence, target_label, target_conference, visualize)"
   ]
  },
  {
   "cell_type": "code",
   "execution_count": null,
   "metadata": {},
   "outputs": [],
   "source": [
    "\n",
    "### interact with ConvXAI agent using different free-text XAI requests.\n",
    "### use `visualize` to decide visualization.\n",
    "\n",
    "explained_sentence = \"It is unclear if existing interpretations of deep neural network models respond effectively to the needs of users .\"\n",
    "target_label = \"background\"\n",
    "target_conference = \"CHI\"\n",
    "visualize=True\n",
    "\n",
    "# Data Explanation\n",
    "user_question_request = \"Which words in this sentence are most important for this prediction?\"\n",
    "response = convxai_agent.interact_single_turn(user_question_request, explained_sentence, target_label, target_conference, visualize)"
   ]
  },
  {
   "cell_type": "code",
   "execution_count": null,
   "metadata": {},
   "outputs": [],
   "source": [
    "\n",
    "### interact with ConvXAI agent using different free-text XAI requests.\n",
    "### use `visualize` to decide visualization.\n",
    "\n",
    "explained_sentence = \"It is unclear if existing interpretations of deep neural network models respond effectively to the needs of users .\"\n",
    "target_label = \"background\"\n",
    "target_conference = \"CHI\"\n",
    "visualize=True\n",
    "\n",
    "# Data Explanation\n",
    "user_question_request = \"Which words in this sentence are most important for this prediction?\"\n",
    "response = convxai_agent.interact_single_turn(user_question_request, explained_sentence, target_label, target_conference, visualize)"
   ]
  },
  {
   "cell_type": "code",
   "execution_count": null,
   "metadata": {},
   "outputs": [],
   "source": [
    "\n",
    "### interact with ConvXAI agent using different free-text XAI requests.\n",
    "### use `visualize` to decide visualization.\n",
    "\n",
    "explained_sentence = \"It is unclear if existing interpretations of deep neural network models respond effectively to the needs of users .\"\n",
    "target_label = \"background\"\n",
    "target_conference = \"CHI\"\n",
    "visualize=True\n",
    "\n",
    "# Data Explanation\n",
    "user_question_request = \"What data did the system learn from?\"\n",
    "response = convxai_agent.interact_single_turn(user_question_request, explained_sentence, target_label, target_conference, visualize)"
   ]
  },
  {
   "cell_type": "code",
   "execution_count": null,
   "metadata": {},
   "outputs": [],
   "source": [
    "\n",
    "# Model Explanation\n",
    "user_question_request = \"What kind of models are used?\"\n",
    "response = convxai_agent.interact_single_turn(user_question_request, explained_sentence, target_label, target_conference, visualize)"
   ]
  },
  {
   "cell_type": "code",
   "execution_count": null,
   "metadata": {},
   "outputs": [],
   "source": [
    "\n",
    "# Quality Score Explanation\n",
    "user_question_request = \"What's the range of the style quality scores?\"\n",
    "response = convxai_agent.interact_single_turn(user_question_request, explained_sentence, target_label, target_conference, visualize)"
   ]
  },
  {
   "cell_type": "code",
   "execution_count": null,
   "metadata": {},
   "outputs": [],
   "source": [
    "\n",
    "# Label Distribution Explanation\n",
    "user_question_request = \"How are the structure labels distributed?\"\n",
    "response = convxai_agent.interact_single_turn(user_question_request, explained_sentence, target_label, target_conference, visualize)"
   ]
  },
  {
   "cell_type": "code",
   "execution_count": null,
   "metadata": {},
   "outputs": [],
   "source": [
    "\n",
    "# Sentence Length Explanation\n",
    "user_question_request = \"What's the statistics of the sentence lengths?\"\n",
    "response = convxai_agent.interact_single_turn(user_question_request,explained_sentence, target_label, target_conference, visualize)"
   ]
  },
  {
   "cell_type": "code",
   "execution_count": null,
   "metadata": {},
   "outputs": [],
   "source": [
    "\n",
    "# Model Confidence Explanation\n",
    "user_question_request = \"How confident is this prediction?\"\n",
    "response = convxai_agent.interact_single_turn(user_question_request, explained_sentence, target_label, target_conference, visualize)"
   ]
  },
  {
   "cell_type": "code",
   "execution_count": null,
   "metadata": {},
   "outputs": [],
   "source": [
    "\n",
    "# Example Explanation\n",
    "user_question_request = \"What are some published sentences that look similar to mine semantically?\"\n",
    "response = convxai_agent.interact_single_turn(user_question_request, explained_sentence, target_label, target_conference, visualize)"
   ]
  },
  {
   "cell_type": "code",
   "execution_count": null,
   "metadata": {},
   "outputs": [],
   "source": [
    "\n",
    "# Attribution Explanation\n",
    "user_question_request = \"Which words in this sentence are most important for this prediction?\"\n",
    "response = convxai_agent.interact_single_turn(user_question_request, explained_sentence, target_label, target_conference, visualize)"
   ]
  },
  {
   "cell_type": "code",
   "execution_count": null,
   "metadata": {},
   "outputs": [],
   "source": [
    "\n",
    "# Counterfactual Explanation\n",
    "user_question_request = \"How can I revise the input to get a different prediction?\"\n",
    "response = convxai_agent.interact_single_turn(user_question_request, explained_sentence, target_label, target_conference, visualize)"
   ]
  },
  {
   "cell_type": "markdown",
   "metadata": {},
   "source": [
    "Furthermore, you can directly check the output from each of the three ConvXAI modules, including the `user_intent_detection`, `ai_explainer` and `natural_language_generation`.\n",
    "\n",
    "We provide two examples as below.\n"
   ]
  },
  {
   "cell_type": "code",
   "execution_count": null,
   "metadata": {},
   "outputs": [],
   "source": [
    "#### Different user question requests direct to different XAI types.\n",
    "# user_question_request = \"What data did the system learn from?\"\n",
    "# user_question_request = \"What kind of models are used?\"\n",
    "# user_question_request = \"What's the range of the style quality scores?\"\n",
    "# user_question_request = \"How are the structure labels distributed?\"\n",
    "# user_question_request = \"What's the statistics of the sentence lengths?\"\n",
    "# user_question_request = \"How confident is this prediction?\"\n",
    "# user_question_request = \"What are some published sentences that look similar to mine semantically?\"\n",
    "# user_question_request = \"Which words in this sentence are most important for this prediction?\"\n",
    "user_question_request = \"How can I revise the input to get a different prediction?\"\n",
    "\n",
    "\n",
    "\n",
    "explained_sentence = \"It is unclear if existing interpretations of deep neural network models respond effectively to the needs of users .\"\n",
    "target_label = \"background\"\n",
    "target_conference = \"CHI\"\n",
    "visualize=False\n",
    "\n",
    "### Get User Intent\n",
    "user_intent = convxai_agent.nlu(user_question_request)\n",
    "print(f\"Detected User Input = {user_intent}\")\n"
   ]
  },
  {
   "cell_type": "code",
   "execution_count": null,
   "metadata": {},
   "outputs": [],
   "source": [
    "### Check the generated explanation variables\n",
    "explanation_dict = convxai_agent.explainer.generate_explanation(user_intent, explained_sentence, target_label, target_conference)\n",
    "print(f\"Generated Explanation Dictionary = {explanation_dict}\")\n"
   ]
  },
  {
   "cell_type": "code",
   "execution_count": null,
   "metadata": {},
   "outputs": [],
   "source": [
    "### Template-based response (in 'html' format)\n",
    "response = convxai_agent.nlg(user_intent, explanation_dict)\n",
    "print(f\"Template-based response = {response}\")\n"
   ]
  },
  {
   "cell_type": "code",
   "execution_count": null,
   "metadata": {},
   "outputs": [],
   "source": [
    "### Display the free-text explanations\n",
    "convxai_agent._visualize_single_turn_dialog(user_question_request, response)"
   ]
  },
  {
   "cell_type": "markdown",
   "metadata": {},
   "source": [
    "### Interact with ConvXAI Agent (Multi-turn Conversations)"
   ]
  },
  {
   "cell_type": "code",
   "execution_count": null,
   "metadata": {},
   "outputs": [],
   "source": []
  }
 ],
 "metadata": {
  "kernelspec": {
   "display_name": "Python 3.7.13 ('convxai')",
   "language": "python",
   "name": "python3"
  },
  "language_info": {
   "codemirror_mode": {
    "name": "ipython",
    "version": 3
   },
   "file_extension": ".py",
   "mimetype": "text/x-python",
   "name": "python",
   "nbconvert_exporter": "python",
   "pygments_lexer": "ipython3",
   "version": "3.7.13"
  },
  "orig_nbformat": 4,
  "vscode": {
   "interpreter": {
    "hash": "347be804384a984e363a1c4c2bbc012e3ea81df9ffd4ff22b2702561db5c40b7"
   }
  }
 },
 "nbformat": 4,
 "nbformat_minor": 2
}
