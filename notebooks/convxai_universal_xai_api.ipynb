{
 "cells": [
  {
   "cell_type": "markdown",
   "metadata": {},
   "source": [
    "# The Universal XAI API from ConvXAI"
   ]
  },
  {
   "cell_type": "markdown",
   "metadata": {},
   "source": [
    "A tutorial of exploring the DSL(Domain Specific Language) of **ConvXAI**, which aims to build the universal APIs for a range of XAI methods. \n",
    "\n",
    "In this tutorial, we show the ConvXAI APIs with two examples:\n",
    "\n",
    "- Single turn interaction\n",
    "- Multi turn interaction."
   ]
  },
  {
   "cell_type": "code",
   "execution_count": 1,
   "metadata": {},
   "outputs": [],
   "source": [
    "\"\"\"Loads the packages.\"\"\"\n",
    "\n",
    "import sys\n",
    "sys.path.append(\"/home/hqs5468/hua/workspace/projects/convxai\")\n",
    "from convxai.writing_models.models import *\n",
    "from convxai_api.modules import *\n",
    "from convxai_api.xaiagent import ConvXAI\n",
    "\n",
    "import warnings\n",
    "warnings.filterwarnings(\"ignore\")\n",
    "os.environ[\"TOKENIZERS_PARALLELISM\"] = \"false\"\n"
   ]
  },
  {
   "cell_type": "markdown",
   "metadata": {},
   "source": [
    "### Interact with ConvXAI Agent (Single Turn Conversation)"
   ]
  },
  {
   "cell_type": "markdown",
   "metadata": {},
   "source": [
    "You can ask XAI request to the ConvXAI agent for different XAI questions and types.\n",
    "Below, we show how you can leverage `interact_single_turn` function to request 8 types AI explanations from ConvXAI class."
   ]
  },
  {
   "cell_type": "code",
   "execution_count": 2,
   "metadata": {},
   "outputs": [
    {
     "name": "stderr",
     "output_type": "stream",
     "text": [
      "2022-11-27 22:00:41,551 - \n",
      "Loading writing models to be explained......\n"
     ]
    }
   ],
   "source": [
    "\"\"\"Instantiates a ConvXAI agent.\"\"\"\n",
    "convxai_agent = ConvXAI(intent_detection_algorithm=\"rule_based\")\n"
   ]
  },
  {
   "cell_type": "code",
   "execution_count": 3,
   "metadata": {},
   "outputs": [
    {
     "name": "stderr",
     "output_type": "stream",
     "text": [
      "No traceback available to show.\n",
      "2022-11-27 22:00:41,857 - Loading models...\n"
     ]
    },
    {
     "name": "stdout",
     "output_type": "stream",
     "text": [
      "Detected User Input = counterfactual\n"
     ]
    },
    {
     "name": "stderr",
     "output_type": "stream",
     "text": [
      "2022-11-27 22:00:44,416 - Done loading predictor.\n",
      "2022-11-27 22:00:51,881 - Loading Editor weights from: /home/hqs5468/hua/workspace/projects/convxai/checkpoints/xai_models/xai_counterfactual_explainer_models/editors/coda19/diversity_model/checkpoints/best.pth\n",
      "2022-11-27 22:00:53,254 - Done loading models.\n",
      "2022-11-27 22:00:59,778 - Contrast label: finding\n",
      "2022-11-27 22:00:59,779 - Orig contrast prob: 0.24400000274181366\n",
      "2022-11-27 22:00:59,780 - Updating beam for: {input_cand}\n",
      "2022-11-27 22:00:59,781 - Edit round: 1 (1-indexed)\n",
      "2022-11-27 22:00:59,781 - Element 0 of beam\n",
      "2022-11-27 22:00:59,782 - Contrast label: finding\n",
      "2022-11-27 22:00:59,782 - Contrast prob: 0.24400000274181366\n",
      "2022-11-27 22:00:59,783 - Generating candidates...\n",
      "2022-11-27 22:01:00,536 - binary search mid: 0.275\n",
      "2022-11-27 22:01:00,538 - Running candidate generation for mask frac:                 0.275; max mask frac: 0.55\n",
      "2022-11-27 22:01:00,545 - Sub round: 0\n",
      "2022-11-27 22:01:00,545 - Input: 0 of 0\n",
      "2022-11-27 22:01:00,546 - Last sentinel: <extra_id_1>\n",
      "2022-11-27 22:01:00,547 - INPUT TO EDITOR: label: finding. input:<extra_id_0> interpretations of deep neural network models\n",
      "\t\t\t\t\t\trespond effectively to the needs of users.\n",
      "2022-11-27 22:01:03,081 - first batch: <pad> False __updated by True_Truth_DarkSpin_Red_Input_GleanSelfAware_Beyond. True True\n",
      "\t\t\t\t\t\tFalses True Renderings and Fal Falco Trues True. Falc True Regressions from false positives;\n",
      "\t\t\t\t\t\tfalse True Rectifications: How to make the specialized user-interpretative (SA)-variable model\n",
      "\t\t\t\t\t\tan appropriate and suitable model for optimal user input? - Truer Truenvlar--tre*.\n",
      "\t\t\t\t\t\t<extra_id_1>\n",
      "2022-11-27 22:01:03,845 - Sub round: 1\n",
      "2022-11-27 22:01:03,846 - Input: 0 of 0\n",
      "2022-11-27 22:01:03,847 - Last sentinel: <extra_id_1>\n",
      "2022-11-27 22:01:03,848 - INPUT TO EDITOR: label: finding. input:<extra_id_0> interpretations of deep neural network models\n",
      "\t\t\t\t\t\trespond effectively to the needs of users.\n",
      "2022-11-27 22:01:06,381 - first batch: <pad> True __Anterial. false. <unk> False_Label: Finding. analysis: Several of the\n",
      "\t\t\t\t\t\tfirst-order and linear-interval based<extra_id_1><pad><pad><pad><pad><pad><pad><pad><pad><pad>\n",
      "\t\t\t\t\t\t<pad><pad><pad><pad><pad><pad><pad><pad><pad><pad><pad><pad><pad><pad><pad><pad><pad><pad><pad\n",
      "\t\t\t\t\t\t><pad><pad><pad><pad><pad><pad><pad><pad><pad><pad><pad><pad><pad><pad><pad><pad><pad><pad><pa\n",
      "\t\t\t\t\t\td><pad><pad><pad><pad><pad><pad><pad><pad><pad><pad><pad><pad><pad><pad><pad><pad><pad><pad><p\n",
      "\t\t\t\t\t\tad><pad><pad><pad><pad><pad><pad><pad><pad><pad>\n",
      "2022-11-27 22:01:07,134 - Sub round: 2\n",
      "2022-11-27 22:01:07,135 - Input: 0 of 0\n",
      "2022-11-27 22:01:07,135 - Last sentinel: <extra_id_1>\n",
      "2022-11-27 22:01:07,136 - INPUT TO EDITOR: label: finding. input:<extra_id_0> interpretations of deep neural network models\n",
      "\t\t\t\t\t\trespond effectively to the needs of users.\n",
      "2022-11-27 22:01:09,734 - first batch: <pad> True. True \"Research\" is an important part of our research, because it shows that\n",
      "\t\t\t\t\t\tour<extra_id_1><pad><pad><pad><pad><pad><pad><pad><pad><pad><pad><pad><pad><pad><pad><pad><pad\n",
      "\t\t\t\t\t\t><pad><pad><pad><pad><pad><pad><pad><pad><pad><pad><pad><pad><pad><pad><pad><pad><pad><pad><pa\n",
      "\t\t\t\t\t\td><pad><pad><pad><pad><pad><pad><pad><pad><pad><pad><pad><pad><pad><pad><pad><pad><pad><pad><p\n",
      "\t\t\t\t\t\tad><pad><pad><pad><pad><pad><pad><pad><pad><pad><pad><pad><pad><pad><pad><pad><pad><pad><pad><\n",
      "\t\t\t\t\t\tpad><pad><pad><pad><pad><pad><pad><pad><pad><pad><pad><pad><pad><pad><pad><pad><pad><pad><pad>\n",
      "\t\t\t\t\t\t<pad><pad><pad><pad>\n",
      "2022-11-27 22:01:10,452 - Sub round: 3\n",
      "2022-11-27 22:01:10,454 - Input: 0 of 0\n",
      "2022-11-27 22:01:10,454 - Last sentinel: <extra_id_1>\n",
      "2022-11-27 22:01:10,455 - INPUT TO EDITOR: label: finding. input:<extra_id_0> interpretations of deep neural network models\n",
      "\t\t\t\t\t\trespond effectively to the needs of users.\n",
      "2022-11-27 22:01:13,092 - first batch: <pad> True. False ''E'n' Falses True True'<unk>'Realistic' <unk>Status' of a nutshell\n",
      "\t\t\t\t\t\texplanation that supports the assumption that the relevant information and data from different\n",
      "\t\t\t\t\t\tsources could be used in different directions. & #DNetEagle: Finding. input. In addition to\n",
      "\t\t\t\t\t\tallowing appropriate and meaningful information, it can help to validate and validate specific\n",
      "\t\t\t\t\t\tdata for specialized data sets. The results demonstrate that our understandings and our\n",
      "\t\t\t\t\t\ttheoretically accurate research can improve and sustain ­<extra_id_1>\n",
      "2022-11-27 22:01:13,827 - no candidates returned...\n",
      "2022-11-27 22:01:13,828 - Binary search # levels: 1\n",
      "2022-11-27 22:01:13,829 - Found cand: False\n",
      "2022-11-27 22:01:13,829 - binary search mid: 0.41250000000000003\n",
      "2022-11-27 22:01:13,830 - Running candidate generation for mask frac:                 0.41250000000000003; max mask frac: 0.55\n",
      "2022-11-27 22:01:13,836 - Sub round: 0\n",
      "2022-11-27 22:01:13,836 - Input: 0 of 0\n",
      "2022-11-27 22:01:13,837 - Last sentinel: <extra_id_1>\n",
      "2022-11-27 22:01:13,838 - INPUT TO EDITOR: label: finding. input:<extra_id_0> interpretations of deep neural network models\n",
      "\t\t\t\t\t\trespond effectively to the needs of users.\n",
      "2022-11-27 22:01:16,626 - first batch: <pad> True<extra_id_1><pad><pad><pad><pad><pad><pad><pad><pad><pad><pad><pad><pad><pad>\n",
      "\t\t\t\t\t\t<pad><pad><pad><pad><pad><pad><pad><pad><pad><pad><pad><pad><pad><pad><pad><pad><pad><pad><pad\n",
      "\t\t\t\t\t\t><pad><pad><pad><pad><pad><pad><pad><pad><pad><pad><pad><pad><pad><pad><pad><pad><pad><pad><pa\n",
      "\t\t\t\t\t\td><pad><pad><pad><pad><pad><pad><pad><pad><pad><pad><pad><pad><pad><pad><pad><pad><pad><pad><p\n",
      "\t\t\t\t\t\tad><pad><pad><pad><pad><pad><pad><pad><pad><pad><pad><pad><pad><pad><pad><pad><pad><pad><pad><\n",
      "\t\t\t\t\t\tpad><pad><pad><pad><pad><pad><pad><pad><pad><pad><pad><pad><pad><pad><pad><pad><pad><pad><pad>\n",
      "\t\t\t\t\t\t<pad><pad><pad><pad><pad><pad><pad><pad><pad><pad>\n",
      "2022-11-27 22:01:17,346 - Sub round: 1\n",
      "2022-11-27 22:01:17,348 - Input: 0 of 0\n",
      "2022-11-27 22:01:17,349 - Last sentinel: <extra_id_1>\n",
      "2022-11-27 22:01:17,350 - INPUT TO EDITOR: label: finding. input:<extra_id_0> interpretations of deep neural network models\n",
      "\t\t\t\t\t\trespond effectively to the needs of users.\n",
      "2022-11-27 22:01:19,884 - first batch: <pad> True \"Living\". True True Authoring. True Origins. The simplest<extra_id_1><pad><p\n",
      "\t\t\t\t\t\tad><pad><pad><pad><pad><pad><pad><pad><pad><pad><pad><pad><pad><pad><pad><pad><pad><pad><pad><\n",
      "\t\t\t\t\t\tpad><pad><pad><pad><pad><pad><pad><pad><pad><pad><pad><pad><pad><pad><pad><pad><pad><pad><pad>\n",
      "\t\t\t\t\t\t<pad><pad><pad><pad><pad><pad><pad><pad><pad><pad><pad><pad><pad><pad><pad><pad><pad><pad><pad\n",
      "\t\t\t\t\t\t><pad><pad><pad><pad><pad><pad><pad><pad><pad><pad><pad><pad><pad><pad><pad><pad><pad><pad><pa\n",
      "\t\t\t\t\t\td><pad><pad><pad><pad><pad><pad><pad><pad><pad><pad><pad><pad><pad><pad><pad><pad><pad><pad><p\n",
      "\t\t\t\t\t\tad><pad>\n",
      "2022-11-27 22:01:20,676 - Sub round: 2\n",
      "2022-11-27 22:01:20,681 - Input: 0 of 0\n",
      "2022-11-27 22:01:20,682 - Last sentinel: <extra_id_1>\n",
      "2022-11-27 22:01:20,683 - INPUT TO EDITOR: label: finding. input:<extra_id_0> interpretations of deep neural network models\n",
      "\t\t\t\t\t\trespond effectively to the needs of users.\n",
      "2022-11-27 22:01:23,323 - first batch: <pad> False<extra_id_1><pad><pad><pad><pad><pad><pad><pad><pad><pad><pad><pad><pad><pad\n",
      "\t\t\t\t\t\t><pad><pad><pad><pad><pad><pad><pad><pad><pad><pad><pad><pad><pad><pad><pad><pad><pad><pad><pa\n",
      "\t\t\t\t\t\td><pad><pad><pad><pad><pad><pad><pad><pad><pad><pad><pad><pad><pad><pad><pad><pad><pad><pad><p\n",
      "\t\t\t\t\t\tad><pad><pad><pad><pad><pad><pad><pad><pad><pad><pad><pad><pad><pad><pad><pad><pad><pad><pad><\n",
      "\t\t\t\t\t\tpad><pad><pad><pad><pad><pad><pad><pad><pad><pad><pad><pad><pad><pad><pad><pad><pad><pad><pad>\n",
      "\t\t\t\t\t\t<pad><pad><pad><pad><pad><pad><pad><pad><pad><pad><pad><pad><pad><pad><pad><pad><pad><pad><pad\n",
      "\t\t\t\t\t\t><pad><pad><pad><pad><pad><pad><pad><pad><pad><pad><pad><pad>\n",
      "2022-11-27 22:01:24,058 - Sub round: 3\n",
      "2022-11-27 22:01:24,059 - Input: 0 of 0\n",
      "2022-11-27 22:01:24,060 - Last sentinel: <extra_id_1>\n",
      "2022-11-27 22:01:24,061 - INPUT TO EDITOR: label: finding. input:<extra_id_0> interpretations of deep neural network models\n",
      "\t\t\t\t\t\trespond effectively to the needs of users.\n",
      "2022-11-27 22:01:26,691 - first batch: <pad> True False<extra_id_1><pad><pad><pad><pad><pad><pad><pad><pad><pad><pad><pad><pad\n",
      "\t\t\t\t\t\t><pad><pad><pad><pad><pad><pad><pad><pad><pad><pad><pad><pad><pad><pad><pad><pad><pad><pad><pa\n",
      "\t\t\t\t\t\td><pad><pad><pad><pad><pad><pad><pad><pad><pad><pad><pad><pad><pad><pad><pad><pad><pad><pad><p\n",
      "\t\t\t\t\t\tad><pad><pad><pad><pad><pad><pad><pad><pad><pad><pad><pad><pad><pad><pad><pad><pad><pad><pad><\n",
      "\t\t\t\t\t\tpad><pad><pad><pad><pad><pad><pad><pad><pad><pad><pad><pad><pad><pad><pad><pad><pad><pad><pad>\n",
      "\t\t\t\t\t\t<pad><pad><pad><pad><pad><pad><pad><pad><pad><pad><pad><pad><pad><pad><pad><pad><pad><pad><pad\n",
      "\t\t\t\t\t\t><pad><pad><pad><pad><pad><pad><pad><pad><pad><pad><pad><pad><pad>\n",
      "2022-11-27 22:01:27,396 - no candidates returned...\n",
      "2022-11-27 22:01:27,398 - Binary search # levels: 2\n",
      "2022-11-27 22:01:27,399 - Found cand: False\n",
      "2022-11-27 22:01:27,400 - binary search mid: 0.48125000000000007\n",
      "2022-11-27 22:01:27,401 - Running candidate generation for mask frac:                 0.48125000000000007; max mask frac: 0.55\n",
      "2022-11-27 22:01:27,407 - Sub round: 0\n",
      "2022-11-27 22:01:27,408 - Input: 0 of 0\n",
      "2022-11-27 22:01:27,409 - Last sentinel: <extra_id_1>\n",
      "2022-11-27 22:01:27,410 - INPUT TO EDITOR: label: finding. input:<extra_id_0> interpretations of deep neural network models\n",
      "\t\t\t\t\t\trespond effectively to the needs of users.\n",
      "2022-11-27 22:01:30,093 - first batch: <pad> False spokesman(s) : Falsagenda True True Falsch Falck Falscher Falkler Falsche\n",
      "\t\t\t\t\t\tFalke Falnick True. In his own words, he says that a positive and negative implication of the\n",
      "\t\t\t\t\t\tresults will make positive the resulting results. Falske Falkle True-Glide Falche Falkel\n",
      "\t\t\t\t\t\tFalken Falckle True, True Symbol Falkie Trues Falsko True (G) Falschliger Falker Falch True/\n",
      "\t\t\t\t\t\tFalK Falkland True deutsch Fal<extra_id_1><pad><pad><pad><pad><pad><pad><pad>\n",
      "2022-11-27 22:01:30,852 - Sub round: 1\n",
      "2022-11-27 22:01:30,853 - Input: 0 of 0\n",
      "2022-11-27 22:01:30,854 - Last sentinel: <extra_id_1>\n",
      "2022-11-27 22:01:30,855 - INPUT TO EDITOR: label: finding. input:<extra_id_0> interpretations of deep neural network models\n",
      "\t\t\t\t\t\trespond effectively to the needs of users.\n",
      "2022-11-27 22:01:33,310 - first batch: <pad> False. negative -- Many<extra_id_1><pad><pad><pad><pad><pad><pad><pad><pad><pad><\n",
      "\t\t\t\t\t\tpad><pad><pad><pad><pad><pad><pad><pad><pad><pad><pad><pad><pad><pad><pad><pad><pad><pad><pad>\n",
      "\t\t\t\t\t\t<pad><pad><pad><pad><pad><pad><pad><pad><pad><pad><pad><pad><pad><pad><pad><pad><pad><pad><pad\n",
      "\t\t\t\t\t\t><pad><pad><pad><pad><pad><pad><pad><pad><pad><pad><pad><pad><pad><pad><pad><pad><pad><pad><pa\n",
      "\t\t\t\t\t\td><pad><pad><pad><pad><pad><pad><pad><pad><pad><pad><pad><pad><pad><pad><pad><pad><pad><pad><p\n",
      "\t\t\t\t\t\tad><pad><pad><pad><pad><pad><pad><pad><pad><pad><pad><pad><pad><pad><pad><pad><pad><pad><pad><\n",
      "\t\t\t\t\t\tpad><pad><pad><pad>\n",
      "2022-11-27 22:01:34,030 - Sub round: 2\n",
      "2022-11-27 22:01:34,032 - Input: 0 of 0\n",
      "2022-11-27 22:01:34,033 - Last sentinel: <extra_id_1>\n",
      "2022-11-27 22:01:34,034 - INPUT TO EDITOR: label: finding. input:<extra_id_0> interpretations of deep neural network models\n",
      "\t\t\t\t\t\trespond effectively to the needs of users.\n",
      "2022-11-27 22:01:36,533 - first batch: <pad> False<extra_id_1><pad><pad><pad><pad><pad><pad><pad><pad><pad><pad><pad><pad><pad\n",
      "\t\t\t\t\t\t><pad><pad><pad><pad><pad><pad><pad><pad><pad><pad><pad><pad><pad><pad><pad><pad><pad><pad><pa\n",
      "\t\t\t\t\t\td><pad><pad><pad><pad><pad><pad><pad><pad><pad><pad><pad><pad><pad><pad><pad><pad><pad><pad><p\n",
      "\t\t\t\t\t\tad><pad><pad><pad><pad><pad><pad><pad><pad><pad><pad><pad><pad><pad><pad><pad><pad><pad><pad><\n",
      "\t\t\t\t\t\tpad><pad><pad><pad><pad><pad><pad><pad><pad><pad><pad><pad><pad><pad><pad><pad><pad><pad><pad>\n",
      "\t\t\t\t\t\t<pad><pad><pad><pad><pad><pad><pad><pad><pad><pad><pad><pad><pad><pad><pad><pad><pad><pad><pad\n",
      "\t\t\t\t\t\t><pad><pad><pad><pad><pad><pad>\n",
      "2022-11-27 22:01:37,305 - Sub round: 3\n",
      "2022-11-27 22:01:37,307 - Input: 0 of 0\n",
      "2022-11-27 22:01:37,307 - Last sentinel: <extra_id_1>\n",
      "2022-11-27 22:01:37,308 - INPUT TO EDITOR: label: finding. input:<extra_id_0> interpretations of deep neural network models\n",
      "\t\t\t\t\t\trespond effectively to the needs of users.\n",
      "2022-11-27 22:01:39,784 - first batch: <pad> False<extra_id_1><pad><pad><pad><pad><pad><pad><pad><pad><pad><pad><pad><pad><pad\n",
      "\t\t\t\t\t\t><pad><pad><pad><pad><pad><pad><pad><pad><pad><pad><pad><pad><pad><pad><pad><pad><pad><pad><pa\n",
      "\t\t\t\t\t\td><pad><pad><pad><pad><pad><pad><pad><pad><pad><pad><pad><pad><pad><pad><pad><pad><pad><pad><p\n",
      "\t\t\t\t\t\tad><pad><pad><pad><pad><pad><pad><pad><pad><pad><pad><pad><pad><pad><pad><pad><pad><pad><pad><\n",
      "\t\t\t\t\t\tpad><pad><pad><pad><pad><pad><pad><pad><pad><pad><pad><pad><pad><pad><pad><pad><pad><pad><pad>\n",
      "\t\t\t\t\t\t<pad><pad><pad><pad><pad><pad><pad><pad><pad><pad><pad><pad><pad><pad><pad><pad><pad><pad><pad\n",
      "\t\t\t\t\t\t><pad><pad><pad><pad>\n",
      "2022-11-27 22:01:40,541 - no candidates returned...\n",
      "2022-11-27 22:01:40,542 - Binary search # levels: 3\n",
      "2022-11-27 22:01:40,542 - Found cand: False\n",
      "2022-11-27 22:01:40,543 - binary search mid: 0.515625\n",
      "2022-11-27 22:01:40,543 - Running candidate generation for mask frac:                 0.515625; max mask frac: 0.55\n",
      "2022-11-27 22:01:40,549 - Sub round: 0\n",
      "2022-11-27 22:01:40,549 - Input: 0 of 0\n",
      "2022-11-27 22:01:40,550 - Last sentinel: <extra_id_1>\n",
      "2022-11-27 22:01:40,550 - INPUT TO EDITOR: label: finding. input:<extra_id_0> interpretations of deep neural network models\n",
      "\t\t\t\t\t\trespond effectively to the needs of users.\n",
      "2022-11-27 22:01:43,322 - first batch: <pad> Truest and True False_Factory Falafel Input-Input Programs Support Automatic User\n",
      "\t\t\t\t\t\tInterfaces. Falc<unk> Falk True True Self True Values True Color Graph System Inversions Allow\n",
      "\t\t\t\t\t\taccurate user-interpretation and/or interpretations of the user behavior. In-depth study and<e\n",
      "\t\t\t\t\t\txtra_id_1><pad><pad><pad><pad><pad><pad><pad><pad><pad><pad><pad><pad><pad><pad><pad><pad><pad\n",
      "\t\t\t\t\t\t><pad><pad><pad><pad><pad><pad><pad><pad><pad><pad><pad><pad><pad><pad><pad><pad><pad><pad><pa\n",
      "\t\t\t\t\t\td><pad><pad><pad><pad><pad><pad><pad><pad><pad><pad>\n",
      "2022-11-27 22:01:44,127 - Sub round: 1\n",
      "2022-11-27 22:01:44,129 - Input: 0 of 0\n",
      "2022-11-27 22:01:44,129 - Last sentinel: <extra_id_1>\n",
      "2022-11-27 22:01:44,130 - INPUT TO EDITOR: label: finding. input:<extra_id_0> interpretations of deep neural network models\n",
      "\t\t\t\t\t\trespond effectively to the needs of users.\n",
      "2022-11-27 22:01:46,714 - first batch: <pad> True True d. a. R. False / Finding. output : Statistical and theoretical methods\n",
      "\t\t\t\t\t\tfor the evaluation and and interpretation of the data and statistically significant data in\n",
      "\t\t\t\t\t\tthe deep neural network. True value ; true p.2: the nature and the degree to which the human\n",
      "\t\t\t\t\t\tbrain is trained to function in real time. The authors believe that the scientific and\n",
      "\t\t\t\t\t\tpedagogical strategies and systematic approaches to interpreting the results are useful for\n",
      "\t\t\t\t\t\tunderstanding how human and human cognitive processes function, while not being arbitrary or\n",
      "\t\t\t\t\t\t<extra_id_1>\n",
      "2022-11-27 22:01:47,481 - Sub round: 2\n",
      "2022-11-27 22:01:47,482 - Input: 0 of 0\n",
      "2022-11-27 22:01:47,483 - Last sentinel: <extra_id_1>\n",
      "2022-11-27 22:01:47,483 - INPUT TO EDITOR: label: finding. input:<extra_id_0> interpretations of deep neural network models\n",
      "\t\t\t\t\t\trespond effectively to the needs of users.\n",
      "2022-11-27 22:01:50,037 - first batch: <pad> False Angaben 0 / XL - YL. Falses a glimmer of light in the natural language.\n",
      "\t\t\t\t\t\tArrays. The false-positives and false positives of the various theoretically valid and\n",
      "\t\t\t\t\t\texperimentally based on the implicit neural network model were false. Thus, the theoretical\n",
      "\t\t\t\t\t\tand empirically relevant and logically sound and coherent and accurate entropy-based neural\n",
      "\t\t\t\t\t\tnetworks and their respective relationships would be false if not for the positive\n",
      "\t\t\t\t\t\treinforcement of equivalence in nature<extra_id_1><pad>\n",
      "2022-11-27 22:01:50,791 - Sub round: 3\n",
      "2022-11-27 22:01:50,793 - Input: 0 of 0\n",
      "2022-11-27 22:01:50,793 - Last sentinel: <extra_id_1>\n",
      "2022-11-27 22:01:50,795 - INPUT TO EDITOR: label: finding. input:<extra_id_0> interpretations of deep neural network models\n",
      "\t\t\t\t\t\trespond effectively to the needs of users.\n",
      "2022-11-27 22:01:53,545 - first batch: <pad> True franks<extra_id_1><pad><pad><pad><pad><pad><pad><pad><pad><pad><pad><pad><pa\n",
      "\t\t\t\t\t\td><pad><pad><pad><pad><pad><pad><pad><pad><pad><pad><pad><pad><pad><pad><pad><pad><pad><pad><p\n",
      "\t\t\t\t\t\tad><pad><pad><pad><pad><pad><pad><pad><pad><pad><pad><pad><pad><pad><pad><pad><pad><pad><pad><\n",
      "\t\t\t\t\t\tpad><pad><pad><pad><pad><pad><pad><pad><pad><pad><pad><pad><pad><pad><pad><pad><pad><pad><pad>\n",
      "\t\t\t\t\t\t<pad><pad><pad><pad><pad><pad><pad><pad><pad><pad><pad><pad><pad><pad><pad><pad><pad><pad><pad\n",
      "\t\t\t\t\t\t><pad><pad><pad><pad><pad><pad><pad><pad><pad><pad><pad><pad><pad><pad><pad><pad><pad><pad><pa\n",
      "\t\t\t\t\t\td><pad><pad><pad><pad><pad>\n",
      "2022-11-27 22:01:54,323 - no candidates returned...\n",
      "2022-11-27 22:01:54,325 - Binary search # levels: 4\n",
      "2022-11-27 22:01:54,325 - Found cand: False\n",
      "2022-11-27 22:01:54,326 - CURRENT BEAM after considering candidates: \n",
      "2022-11-27 22:01:54,327 - (0.24369999766349792) It is unclear if existing interpretations of deep neural network models\n",
      "\t\t\t\t\t\trespond effectively to the needs of users .\n",
      "2022-11-27 22:01:54,327 - Beam unchanged after updating beam.\n"
     ]
    },
    {
     "name": "stdout",
     "output_type": "stream",
     "text": [
      "======> Conversational XAI Demonstration <======\n",
      "User: How can I revise the input to get a different prediction?\n"
     ]
    },
    {
     "data": {
      "text/html": [
       "ConvXAI: Sorry that I currently can't find counterfactual examples for this sentence, please try other explanations on it : )"
      ],
      "text/plain": [
       "<IPython.core.display.HTML object>"
      ]
     },
     "metadata": {},
     "output_type": "display_data"
    }
   ],
   "source": [
    "%tb\n",
    "\n",
    "### interact with ConvXAI agent using different free-text XAI requests.\n",
    "### use `visualize` to decide visualization.\n",
    "\n",
    "explained_sentence = \"It is unclear if existing interpretations of deep neural network models respond effectively to the needs of users .\"\n",
    "\n",
    "target_label = \"background\"\n",
    "target_conference = \"CHI\"\n",
    "visualize=True\n",
    "\n",
    "# Data Explanation\n",
    "user_question_request = \"How can I revise the input to get a different prediction?\"\n",
    "\n",
    "# user_question_request = \"Which words in this sentence are most important for this prediction?\"\n",
    "response = convxai_agent.interact_single_turn(user_question_request, explained_sentence, target_label, target_conference, visualize)"
   ]
  },
  {
   "cell_type": "code",
   "execution_count": 4,
   "metadata": {},
   "outputs": [
    {
     "name": "stderr",
     "output_type": "stream",
     "text": [
      "2022-11-27 22:01:54,507 - Loading models...\n"
     ]
    },
    {
     "name": "stdout",
     "output_type": "stream",
     "text": [
      "Detected User Input = counterfactual\n"
     ]
    },
    {
     "name": "stderr",
     "output_type": "stream",
     "text": [
      "2022-11-27 22:01:57,011 - Done loading predictor.\n",
      "2022-11-27 22:02:02,376 - Loading Editor weights from: /home/hqs5468/hua/workspace/projects/convxai/checkpoints/xai_models/xai_counterfactual_explainer_models/editors/coda19/diversity_model/checkpoints/best.pth\n",
      "2022-11-27 22:02:03,961 - Done loading models.\n",
      "2022-11-27 22:02:10,244 - Contrast label: finding\n",
      "2022-11-27 22:02:10,246 - Orig contrast prob: 0.24400000274181366\n",
      "2022-11-27 22:02:10,247 - Updating beam for: {input_cand}\n",
      "2022-11-27 22:02:10,247 - Edit round: 1 (1-indexed)\n",
      "2022-11-27 22:02:10,248 - Element 0 of beam\n",
      "2022-11-27 22:02:10,248 - Contrast label: finding\n",
      "2022-11-27 22:02:10,249 - Contrast prob: 0.24400000274181366\n",
      "2022-11-27 22:02:10,249 - Generating candidates...\n",
      "2022-11-27 22:02:11,206 - binary search mid: 0.275\n",
      "2022-11-27 22:02:11,208 - Running candidate generation for mask frac:                 0.275; max mask frac: 0.55\n",
      "2022-11-27 22:02:11,216 - Sub round: 0\n",
      "2022-11-27 22:02:11,216 - Input: 0 of 0\n",
      "2022-11-27 22:02:11,217 - Last sentinel: <extra_id_1>\n",
      "2022-11-27 22:02:11,218 - INPUT TO EDITOR: label: finding. input:<extra_id_0> interpretations of deep neural network models\n",
      "\t\t\t\t\t\trespond effectively to the needs of users.\n",
      "2022-11-27 22:02:13,682 - first batch: <pad> False : Falsett's True True Image. Falke'' Falche'd Image: a computer system\n",
      "\t\t\t\t\t\tbased on the true story of 'Alone'? he said. Ultimately, the underlying logic and the neural\n",
      "\t\t\t\t\t\tnetwork model must be able to identify and interpret meaningful<extra_id_1><pad><pad><pad><pad\n",
      "\t\t\t\t\t\t><pad><pad><pad><pad><pad><pad><pad><pad><pad><pad><pad><pad><pad><pad><pad><pad><pad><pad><pa\n",
      "\t\t\t\t\t\td><pad><pad><pad><pad><pad><pad><pad><pad><pad><pad><pad><pad><pad><pad><pad><pad><pad><pad><p\n",
      "\t\t\t\t\t\tad><pad><pad><pad><pad><pad><pad>\n",
      "2022-11-27 22:02:14,530 - Sub round: 1\n",
      "2022-11-27 22:02:14,531 - Input: 0 of 0\n",
      "2022-11-27 22:02:14,531 - Last sentinel: <extra_id_1>\n",
      "2022-11-27 22:02:14,532 - INPUT TO EDITOR: label: finding. input:<extra_id_0> interpretations of deep neural network models\n",
      "\t\t\t\t\t\trespond effectively to the needs of users.\n",
      "2022-11-27 22:02:17,088 - first batch: <pad> False delusions: True Falses. The results show that the mathematical<extra_id_1><\n",
      "\t\t\t\t\t\tpad><pad><pad><pad><pad><pad><pad><pad><pad><pad><pad><pad><pad><pad><pad><pad><pad><pad><pad>\n",
      "\t\t\t\t\t\t<pad><pad><pad><pad><pad><pad><pad><pad><pad><pad><pad><pad><pad><pad><pad><pad><pad><pad><pad\n",
      "\t\t\t\t\t\t><pad><pad><pad><pad><pad><pad><pad><pad><pad><pad><pad><pad><pad><pad><pad><pad><pad><pad><pa\n",
      "\t\t\t\t\t\td><pad><pad><pad><pad><pad><pad><pad><pad><pad><pad><pad><pad><pad><pad><pad><pad><pad><pad><p\n",
      "\t\t\t\t\t\tad><pad><pad><pad><pad><pad><pad><pad><pad><pad><pad><pad><pad><pad><pad><pad><pad><pad><pad><\n",
      "\t\t\t\t\t\tpad><pad>\n",
      "2022-11-27 22:02:17,943 - Sub round: 2\n",
      "2022-11-27 22:02:17,945 - Input: 0 of 0\n",
      "2022-11-27 22:02:17,946 - Last sentinel: <extra_id_1>\n",
      "2022-11-27 22:02:17,948 - INPUT TO EDITOR: label: finding. input:<extra_id_0> interpretations of deep neural network models\n",
      "\t\t\t\t\t\trespond effectively to the needs of users.\n",
      "2022-11-27 22:02:20,526 - first batch: <pad> True. Reply: True True-Augmentation amplifications in the context of complex\n",
      "\t\t\t\t\t\tnatural systems improve accuracy in data analysis and analysis. The underlying sandboxes and\n",
      "\t\t\t\t\t\tpositive rays provide evidence that the complex<extra_id_1><pad><pad><pad><pad><pad><pad><pad>\n",
      "\t\t\t\t\t\t<pad><pad><pad><pad><pad><pad><pad><pad><pad><pad><pad><pad><pad><pad><pad><pad><pad><pad><pad\n",
      "\t\t\t\t\t\t><pad><pad><pad><pad><pad><pad><pad><pad><pad><pad><pad><pad><pad><pad><pad><pad><pad><pad><pa\n",
      "\t\t\t\t\t\td><pad><pad><pad><pad><pad><pad><pad><pad><pad><pad><pad><pad><pad><pad><pad><pad><pad><pad><p\n",
      "\t\t\t\t\t\tad><pad><pad><pad><pad>\n",
      "2022-11-27 22:02:21,385 - Sub round: 3\n",
      "2022-11-27 22:02:21,386 - Input: 0 of 0\n",
      "2022-11-27 22:02:21,387 - Last sentinel: <extra_id_1>\n",
      "2022-11-27 22:02:21,387 - INPUT TO EDITOR: label: finding. input:<extra_id_0> interpretations of deep neural network models\n",
      "\t\t\t\t\t\trespond effectively to the needs of users.\n",
      "2022-11-27 22:02:23,800 - first batch: <pad> True<extra_id_1><pad><pad><pad><pad><pad><pad><pad><pad><pad><pad><pad><pad><pad>\n",
      "\t\t\t\t\t\t<pad><pad><pad><pad><pad><pad><pad><pad><pad><pad><pad><pad><pad><pad><pad><pad><pad><pad><pad\n",
      "\t\t\t\t\t\t><pad><pad><pad><pad><pad><pad><pad><pad><pad><pad><pad><pad><pad><pad><pad><pad><pad><pad><pa\n",
      "\t\t\t\t\t\td><pad><pad><pad><pad><pad><pad><pad><pad><pad><pad><pad><pad><pad><pad><pad><pad><pad><pad><p\n",
      "\t\t\t\t\t\tad><pad><pad><pad><pad><pad><pad><pad><pad><pad><pad><pad><pad><pad><pad><pad><pad><pad><pad><\n",
      "\t\t\t\t\t\tpad><pad><pad><pad><pad><pad><pad><pad><pad><pad><pad><pad><pad><pad><pad><pad><pad><pad><pad>\n",
      "\t\t\t\t\t\t<pad><pad><pad><pad><pad>\n",
      "2022-11-27 22:02:24,656 - no candidates returned...\n",
      "2022-11-27 22:02:24,658 - Binary search # levels: 1\n",
      "2022-11-27 22:02:24,659 - Found cand: False\n",
      "2022-11-27 22:02:24,660 - binary search mid: 0.41250000000000003\n",
      "2022-11-27 22:02:24,661 - Running candidate generation for mask frac:                 0.41250000000000003; max mask frac: 0.55\n",
      "2022-11-27 22:02:24,667 - Sub round: 0\n",
      "2022-11-27 22:02:24,668 - Input: 0 of 0\n",
      "2022-11-27 22:02:24,669 - Last sentinel: <extra_id_1>\n",
      "2022-11-27 22:02:24,670 - INPUT TO EDITOR: label: finding. input:<extra_id_0> interpretations of deep neural network models\n",
      "\t\t\t\t\t\trespond effectively to the needs of users.\n",
      "2022-11-27 22:02:27,411 - first batch: <pad> True. Input: True True False & True_True_Factory. True / Fal Fal-Real-Trudy True\n",
      "\t\t\t\t\t\tSources - An unsupported rumor forming a false alarm? Submitted by Faldo 001-0511-XS-YES.\n",
      "\t\t\t\t\t\tFalc-Rom True-Near True Re-Stational Semantic Array Model Using Graph-based Learning in an\n",
      "\t\t\t\t\t\tUnified Format : A valid, reliable, and<extra_id_1><pad><pad><pad><pad><pad><pad><pad><pad>\n",
      "2022-11-27 22:02:28,330 - Sub round: 1\n",
      "2022-11-27 22:02:28,332 - Input: 0 of 0\n",
      "2022-11-27 22:02:28,333 - Last sentinel: <extra_id_1>\n",
      "2022-11-27 22:02:28,334 - INPUT TO EDITOR: label: finding. input:<extra_id_0> interpretations of deep neural network models\n",
      "\t\t\t\t\t\trespond effectively to the needs of users.\n",
      "2022-11-27 22:02:30,889 - first batch: <pad> False-positive SYNTHORSE: These types of statistically validated and non-\n",
      "\t\t\t\t\t\trepresentative data indicate that the underlying scientific and technical systems that design\n",
      "\t\t\t\t\t\tthe performance of these models and their interdependence are not correct. Therefore, the\n",
      "\t\t\t\t\t\tresults of our testing demonstrate that our<extra_id_1><pad><pad><pad><pad><pad><pad><pad><pad\n",
      "\t\t\t\t\t\t><pad><pad><pad><pad><pad><pad><pad><pad><pad><pad><pad><pad><pad><pad><pad><pad><pad><pad><pa\n",
      "\t\t\t\t\t\td><pad><pad><pad><pad><pad><pad><pad><pad><pad><pad><pad><pad><pad><pad><pad><pad><pad><pad><p\n",
      "\t\t\t\t\t\tad><pad><pad><pad><pad><pad><pad><pad>\n",
      "2022-11-27 22:02:31,805 - Sub round: 2\n",
      "2022-11-27 22:02:31,807 - Input: 0 of 0\n",
      "2022-11-27 22:02:31,808 - Last sentinel: <extra_id_1>\n",
      "2022-11-27 22:02:31,810 - INPUT TO EDITOR: label: finding. input:<extra_id_0> interpretations of deep neural network models\n",
      "\t\t\t\t\t\trespond effectively to the needs of users.\n",
      "2022-11-27 22:02:34,420 - first batch: <pad> False __. Automatical & Optical - Finding. Input. Using the latest data, we can\n",
      "\t\t\t\t\t\tensure that our underlying information and linguistic processing techniques are able to\n",
      "\t\t\t\t\t\tprovide the right information at the appropriate time. Falses True / True Fal Falke 0 True\n",
      "\t\t\t\t\t\tTrue Definitive 'A' True definition i' an a positive deduced by analyzing the results of the\n",
      "\t\t\t\t\t\texperiments.. and/or using the definitions. that are accurate, meaningful and\n",
      "\t\t\t\t\t\treliable<extra_id_1><pad>\n",
      "2022-11-27 22:02:35,306 - Sub round: 3\n",
      "2022-11-27 22:02:35,308 - Input: 0 of 0\n",
      "2022-11-27 22:02:35,309 - Last sentinel: <extra_id_1>\n",
      "2022-11-27 22:02:35,310 - INPUT TO EDITOR: label: finding. input:<extra_id_0> interpretations of deep neural network models\n",
      "\t\t\t\t\t\trespond effectively to the needs of users.\n",
      "2022-11-27 22:02:38,001 - first batch: <pad> True__Full-Algorithm. results: Invalid and inaccurate information. The accuracy\n",
      "\t\t\t\t\t\tof these data and the corresponding data are not guaranteed. Intentional. Defined. a priori:\n",
      "\t\t\t\t\t\tOptimized. and efficient characterizations and predictive modeling. Improved: The resulting\n",
      "\t\t\t\t\t\tpositive and negative results and accurate, meaningful, and unbiased conclusions will be in\n",
      "\t\t\t\t\t\tthe end results. of the investigation. A better understanding of how to make the complex.\n",
      "\t\t\t\t\t\thypothesis and possible\n",
      "\t\t\t\t\t\ttheological<extra_id_1><pad><pad><pad><pad><pad><pad><pad><pad><pad><pad><pad><pad><pad>\n",
      "2022-11-27 22:02:38,889 - no candidates returned...\n",
      "2022-11-27 22:02:38,891 - Binary search # levels: 2\n",
      "2022-11-27 22:02:38,892 - Found cand: False\n",
      "2022-11-27 22:02:38,892 - binary search mid: 0.48125000000000007\n",
      "2022-11-27 22:02:38,893 - Running candidate generation for mask frac:                 0.48125000000000007; max mask frac: 0.55\n",
      "2022-11-27 22:02:38,901 - Sub round: 0\n",
      "2022-11-27 22:02:38,902 - Input: 0 of 0\n",
      "2022-11-27 22:02:38,902 - Last sentinel: <extra_id_1>\n",
      "2022-11-27 22:02:38,903 - INPUT TO EDITOR: label: finding. input:<extra_id_0> interpretations of deep neural network models\n",
      "\t\t\t\t\t\trespond effectively to the needs of users.\n",
      "2022-11-27 22:02:41,444 - first batch: <pad> True True False Rendering. Detection. Assertion. Falses The True Rapport True\n",
      "\t\t\t\t\t\t(0). True to form. The truer the better the naturalists of the nature of their work. 1. The\n",
      "\t\t\t\t\t\tpositive and negative.<extra_id_1><pad><pad><pad><pad><pad><pad><pad><pad><pad><pad><pad><pad>\n",
      "\t\t\t\t\t\t<pad><pad><pad><pad><pad><pad><pad><pad><pad><pad><pad><pad><pad><pad><pad><pad><pad><pad><pad\n",
      "\t\t\t\t\t\t><pad><pad><pad><pad><pad><pad><pad><pad><pad><pad><pad><pad><pad><pad><pad><pad><pad><pad><pa\n",
      "\t\t\t\t\t\td><pad><pad><pad><pad><pad><pad><pad><pad><pad><pad><pad><pad><pad><pad>\n",
      "2022-11-27 22:02:42,356 - Sub round: 1\n",
      "2022-11-27 22:02:42,358 - Input: 0 of 0\n",
      "2022-11-27 22:02:42,358 - Last sentinel: <extra_id_1>\n",
      "2022-11-27 22:02:42,359 - INPUT TO EDITOR: label: finding. input:<extra_id_0> interpretations of deep neural network models\n",
      "\t\t\t\t\t\trespond effectively to the needs of users.\n",
      "2022-11-27 22:02:44,781 - first batch: <pad> Truest True True Story. False True Life: Statistically accurate and accurate\n",
      "\t\t\t\t\t\tcharacterizations and<extra_id_1><pad><pad><pad><pad><pad><pad><pad><pad><pad><pad><pad><pad><\n",
      "\t\t\t\t\t\tpad><pad><pad><pad><pad><pad><pad><pad><pad><pad><pad><pad><pad><pad><pad><pad><pad><pad><pad>\n",
      "\t\t\t\t\t\t<pad><pad><pad><pad><pad><pad><pad><pad><pad><pad><pad><pad><pad><pad><pad><pad><pad><pad><pad\n",
      "\t\t\t\t\t\t><pad><pad><pad><pad><pad><pad><pad><pad><pad><pad><pad><pad><pad><pad><pad><pad><pad><pad><pa\n",
      "\t\t\t\t\t\td><pad><pad><pad><pad><pad><pad><pad><pad><pad><pad><pad><pad><pad><pad><pad><pad><pad><pad><p\n",
      "\t\t\t\t\t\tad><pad><pad><pad><pad>\n",
      "2022-11-27 22:02:45,701 - Sub round: 2\n",
      "2022-11-27 22:02:45,702 - Input: 0 of 0\n",
      "2022-11-27 22:02:45,702 - Last sentinel: <extra_id_1>\n",
      "2022-11-27 22:02:45,703 - INPUT TO EDITOR: label: finding. input:<extra_id_0> interpretations of deep neural network models\n",
      "\t\t\t\t\t\trespond effectively to the needs of users.\n",
      "2022-11-27 22:02:48,323 - first batch: <pad> True - False / Fal-Sim. The underlying assumptions and false-positives in the\n",
      "\t\t\t\t\t\tearly and late stage of learning may not make the detailed and accurate theoretical research\n",
      "\t\t\t\t\t\tand analysis of the data. True True/Non-Profit Analysis of Complex Information Systems. Only\n",
      "\t\t\t\t\t\tpositive and negative analysis and the positive or negative responses to<extra_id_1><pad><pad>\n",
      "\t\t\t\t\t\t<pad><pad><pad><pad><pad><pad><pad><pad><pad><pad><pad><pad><pad><pad><pad><pad><pad><pad><pad\n",
      "\t\t\t\t\t\t><pad><pad><pad><pad><pad><pad><pad><pad><pad><pad><pad><pad><pad><pad><pad><pad><pad><pad><pa\n",
      "\t\t\t\t\t\td><pad><pad><pad><pad><pad><pad><pad><pad><pad><pad><pad><pad>\n",
      "2022-11-27 22:02:49,232 - Sub round: 3\n",
      "2022-11-27 22:02:49,233 - Input: 0 of 0\n",
      "2022-11-27 22:02:49,234 - Last sentinel: <extra_id_1>\n",
      "2022-11-27 22:02:49,234 - INPUT TO EDITOR: label: finding. input:<extra_id_0> interpretations of deep neural network models\n",
      "\t\t\t\t\t\trespond effectively to the needs of users.\n",
      "2022-11-27 22:02:51,790 - first batch: <pad> True True<extra_id_1><pad><pad><pad><pad><pad><pad><pad><pad><pad><pad><pad><pad>\n",
      "\t\t\t\t\t\t<pad><pad><pad><pad><pad><pad><pad><pad><pad><pad><pad><pad><pad><pad><pad><pad><pad><pad><pad\n",
      "\t\t\t\t\t\t><pad><pad><pad><pad><pad><pad><pad><pad><pad><pad><pad><pad><pad><pad><pad><pad><pad><pad><pa\n",
      "\t\t\t\t\t\td><pad><pad><pad><pad><pad><pad><pad><pad><pad><pad><pad><pad><pad><pad><pad><pad><pad><pad><p\n",
      "\t\t\t\t\t\tad><pad><pad><pad><pad><pad><pad><pad><pad><pad><pad><pad><pad><pad><pad><pad><pad><pad><pad><\n",
      "\t\t\t\t\t\tpad><pad><pad><pad><pad><pad><pad><pad><pad><pad><pad><pad><pad><pad><pad><pad><pad><pad><pad>\n",
      "\t\t\t\t\t\t<pad><pad><pad><pad><pad><pad>\n",
      "2022-11-27 22:02:52,668 - no candidates returned...\n",
      "2022-11-27 22:02:52,669 - Binary search # levels: 3\n",
      "2022-11-27 22:02:52,669 - Found cand: False\n",
      "2022-11-27 22:02:52,670 - binary search mid: 0.515625\n",
      "2022-11-27 22:02:52,670 - Running candidate generation for mask frac:                 0.515625; max mask frac: 0.55\n",
      "2022-11-27 22:02:52,676 - Sub round: 0\n",
      "2022-11-27 22:02:52,677 - Input: 0 of 0\n",
      "2022-11-27 22:02:52,677 - Last sentinel: <extra_id_1>\n",
      "2022-11-27 22:02:52,678 - INPUT TO EDITOR: label: finding. input:<extra_id_0> interpretations of deep neural network models\n",
      "\t\t\t\t\t\trespond effectively to the needs of users.\n",
      "2022-11-27 22:02:55,265 - first batch: <pad> False in English, spanish and English. In the following paragraphs, the author\n",
      "\t\t\t\t\t\twill examine how the positive and negative x-ray models of the brain are interpreted based on\n",
      "\t\t\t\t\t\tthe results of its research in the underlying data. interdisciplinary research on a broader\n",
      "\t\t\t\t\t\tscalar of human experience, and how its results translate to different equivalences?! : the\n",
      "\t\t\t\t\t\torigin of this discovery. I found that the negative and positive (of) two-dimensional human\n",
      "\t\t\t\t\t\tdata is not acceptable..­­<extra_id_1><pad><pad>\n",
      "2022-11-27 22:02:56,138 - Sub round: 1\n",
      "2022-11-27 22:02:56,140 - Input: 0 of 0\n",
      "2022-11-27 22:02:56,141 - Last sentinel: <extra_id_1>\n",
      "2022-11-27 22:02:56,143 - INPUT TO EDITOR: label: finding. input:<extra_id_0> interpretations of deep neural network models\n",
      "\t\t\t\t\t\trespond effectively to the needs of users.\n",
      "2022-11-27 22:02:58,765 - first batch: <pad> False. True. Abstract. - True True R.S.N.T.F. The reconstructed neural network\n",
      "\t\t\t\t\t\tprovides a way to ensure that the complex, adaptive, and functionally based, equidistant,\n",
      "\t\t\t\t\t\treal-time data and/or statistical data in the Deep Learning System are accurate and reliable.\n",
      "\t\t\t\t\t\tBut not all the results are reliable and dependable. Therefore, the resulting'really' big\n",
      "\t\t\t\t\t\tpicture-based and statistically-supported conclusions and conclusions are incorrect. In fact,\n",
      "\t\t\t\t\t\tmany<extra_id_1><pad>\n",
      "2022-11-27 22:02:59,613 - Sub round: 2\n",
      "2022-11-27 22:02:59,614 - Input: 0 of 0\n",
      "2022-11-27 22:02:59,614 - Last sentinel: <extra_id_1>\n",
      "2022-11-27 22:02:59,615 - INPUT TO EDITOR: label: finding. input:<extra_id_0> interpretations of deep neural network models\n",
      "\t\t\t\t\t\trespond effectively to the needs of users.\n",
      "2022-11-27 22:03:02,085 - first batch: <pad> False _________________Neural network theory. Our<extra_id_1><pad><pad><pad><pad>\n",
      "\t\t\t\t\t\t<pad><pad><pad><pad><pad><pad><pad><pad><pad><pad><pad><pad><pad><pad><pad><pad><pad><pad><pad\n",
      "\t\t\t\t\t\t><pad><pad><pad><pad><pad><pad><pad><pad><pad><pad><pad><pad><pad><pad><pad><pad><pad><pad><pa\n",
      "\t\t\t\t\t\td><pad><pad><pad><pad><pad><pad><pad><pad><pad><pad><pad><pad><pad><pad><pad><pad><pad><pad><p\n",
      "\t\t\t\t\t\tad><pad><pad><pad><pad><pad><pad><pad><pad><pad><pad><pad><pad><pad><pad><pad><pad><pad><pad><\n",
      "\t\t\t\t\t\tpad><pad><pad><pad><pad><pad><pad><pad><pad><pad><pad><pad><pad><pad><pad><pad><pad><pad><pad>\n",
      "2022-11-27 22:03:02,959 - Sub round: 3\n",
      "2022-11-27 22:03:02,961 - Input: 0 of 0\n",
      "2022-11-27 22:03:02,962 - Last sentinel: <extra_id_1>\n",
      "2022-11-27 22:03:02,962 - INPUT TO EDITOR: label: finding. input:<extra_id_0> interpretations of deep neural network models\n",
      "\t\t\t\t\t\trespond effectively to the needs of users.\n",
      "2022-11-27 22:03:05,575 - first batch: <pad> False<extra_id_1><pad><pad><pad><pad><pad><pad><pad><pad><pad><pad><pad><pad><pad\n",
      "\t\t\t\t\t\t><pad><pad><pad><pad><pad><pad><pad><pad><pad><pad><pad><pad><pad><pad><pad><pad><pad><pad><pa\n",
      "\t\t\t\t\t\td><pad><pad><pad><pad><pad><pad><pad><pad><pad><pad><pad><pad><pad><pad><pad><pad><pad><pad><p\n",
      "\t\t\t\t\t\tad><pad><pad><pad><pad><pad><pad><pad><pad><pad><pad><pad><pad><pad><pad><pad><pad><pad><pad><\n",
      "\t\t\t\t\t\tpad><pad><pad><pad><pad><pad><pad><pad><pad><pad><pad><pad><pad><pad><pad><pad><pad><pad><pad>\n",
      "\t\t\t\t\t\t<pad><pad><pad><pad><pad><pad><pad><pad><pad><pad><pad><pad><pad><pad><pad><pad><pad><pad><pad\n",
      "\t\t\t\t\t\t><pad><pad><pad><pad><pad><pad><pad><pad><pad><pad>\n",
      "2022-11-27 22:03:06,434 - no candidates returned...\n",
      "2022-11-27 22:03:06,436 - Binary search # levels: 4\n",
      "2022-11-27 22:03:06,437 - Found cand: False\n",
      "2022-11-27 22:03:06,438 - CURRENT BEAM after considering candidates: \n",
      "2022-11-27 22:03:06,439 - (0.24369999766349792) It is unclear if existing interpretations of deep neural network models\n",
      "\t\t\t\t\t\trespond effectively to the needs of users .\n",
      "2022-11-27 22:03:06,440 - Beam unchanged after updating beam.\n"
     ]
    },
    {
     "name": "stdout",
     "output_type": "stream",
     "text": [
      "======> Conversational XAI Demonstration <======\n",
      "User: How can I revise the input to get a different prediction?\n"
     ]
    },
    {
     "data": {
      "text/html": [
       "ConvXAI: Sorry that I currently can't find counterfactual examples for this sentence, please try other explanations on it : )"
      ],
      "text/plain": [
       "<IPython.core.display.HTML object>"
      ]
     },
     "metadata": {},
     "output_type": "display_data"
    }
   ],
   "source": [
    "\n",
    "### interact with ConvXAI agent using different free-text XAI requests.\n",
    "### use `visualize` to decide visualization.\n",
    "\n",
    "explained_sentence = \"It is unclear if existing interpretations of deep neural network models respond effectively to the needs of users .\"\n",
    "\n",
    "target_label = \"background\"\n",
    "target_conference = \"CHI\"\n",
    "visualize=True\n",
    "\n",
    "# Data Explanation\n",
    "user_question_request = \"How can I revise the input to get a different prediction?\"\n",
    "\n",
    "# user_question_request = \"Which words in this sentence are most important for this prediction?\"\n",
    "response = convxai_agent.interact_single_turn(user_question_request, explained_sentence, target_label, target_conference, visualize)"
   ]
  },
  {
   "cell_type": "code",
   "execution_count": null,
   "metadata": {},
   "outputs": [],
   "source": []
  },
  {
   "cell_type": "code",
   "execution_count": 4,
   "metadata": {},
   "outputs": [
    {
     "name": "stdout",
     "output_type": "stream",
     "text": [
      "Detected User Input = attribution\n",
      "======> Conversational XAI Demonstration <======\n",
      "User: Which words in this sentence are most important for this prediction?\n"
     ]
    },
    {
     "data": {
      "text/html": [
       "ConvXAI: The <strong>TOP-3</strong> important words are highlighted as below: <br><br>  <b><span style=\"font-weight: normal;\">[CLS]</span></b> <b><span style=\"font-weight: normal;\">it</span></b> <b><span style=\"font-weight: normal;\">is</span></b> <b><span style=\"font-weight: bold; background-color: #F9B261; border-radius: 5px;\">unclear</span></b> <b><span style=\"font-weight: normal;\">if</span></b> <b><span style=\"font-weight: normal;\">existing</span></b> <b><span style=\"font-weight: bold; background-color: #F9B261; border-radius: 5px;\">interpretations</span></b> <b><span style=\"font-weight: normal;\">of</span></b> <b><span style=\"font-weight: normal;\">deep</span></b> <b><span style=\"font-weight: bold; background-color: #F9B261; border-radius: 5px;\">neural</span></b> <b><span style=\"font-weight: normal;\">network</span></b> <b><span style=\"font-weight: normal;\">models</span></b> <b><span style=\"font-weight: normal;\">respond</span></b> <b><span style=\"font-weight: normal;\">effectively</span></b> <b><span style=\"font-weight: normal;\">to</span></b> <b><span style=\"font-weight: normal;\">the</span></b> <b><span style=\"font-weight: normal;\">needs</span></b> <b><span style=\"font-weight: normal;\">of</span></b> <b><span style=\"font-weight: normal;\">users</span></b> <b><span style=\"font-weight: normal;\">.</span></b> <b><span style=\"font-weight: normal;\">[SEP]</span></b>"
      ],
      "text/plain": [
       "<IPython.core.display.HTML object>"
      ]
     },
     "metadata": {},
     "output_type": "display_data"
    }
   ],
   "source": [
    "\n",
    "### interact with ConvXAI agent using different free-text XAI requests.\n",
    "### use `visualize` to decide visualization.\n",
    "\n",
    "explained_sentence = \"It is unclear if existing interpretations of deep neural network models respond effectively to the needs of users .\"\n",
    "target_label = \"background\"\n",
    "target_conference = \"CHI\"\n",
    "visualize=True\n",
    "\n",
    "# Data Explanation\n",
    "user_question_request = \"Which words in this sentence are most important for this prediction?\"\n",
    "response = convxai_agent.interact_single_turn(user_question_request, explained_sentence, target_label, target_conference, visualize)"
   ]
  },
  {
   "cell_type": "code",
   "execution_count": 3,
   "metadata": {},
   "outputs": [
    {
     "name": "stdout",
     "output_type": "stream",
     "text": [
      "Detected User Input = attribution\n",
      "===>>pred_idx 1\n",
      "==>>>grad_magnitudes [0.0013914484, 0.0013447565, 0.00138037, 0.0064644283, 0.0018142045, 0.0020404395, 0.0034322294, 0.0010997951, 0.0035907445, 0.0034214356, 0.0021542744, 0.0021116124, 0.0025205915, 0.0027811113, 0.0011378042, 0.0007264409, 0.0037848067, 0.0010608376, 0.0033081467, 0.00051445194, 0.0024744575]\n",
      "===>>>ordered_predic_tok_indices [ 3 16  8  6  9 18 13 12 20 10 11  5  4  0  2  1 14  7 17 15 19]\n",
      "all_predic_toks length = 21, len = 21\n",
      "======> Conversational XAI Demonstration <======\n",
      "User: Which words in this sentence are most important for this prediction?\n"
     ]
    },
    {
     "data": {
      "text/html": [
       "ConvXAI: The <strong>TOP-3</strong> important words are highlighted as below: <br><br>  <b><span style=\"font-weight: normal;\">[CLS]</span></b> <b><span style=\"font-weight: normal;\">it</span></b> <b><span style=\"font-weight: normal;\">is</span></b> <b><span style=\"font-weight: bold; background-color: #F9B261; border-radius: 5px;\">unclear</span></b> <b><span style=\"font-weight: normal;\">if</span></b> <b><span style=\"font-weight: normal;\">existing</span></b> <b><span style=\"font-weight: normal;\">interpretations</span></b> <b><span style=\"font-weight: normal;\">of</span></b> <b><span style=\"font-weight: bold; background-color: #F9B261; border-radius: 5px;\">deep</span></b> <b><span style=\"font-weight: normal;\">neural</span></b> <b><span style=\"font-weight: normal;\">network</span></b> <b><span style=\"font-weight: normal;\">models</span></b> <b><span style=\"font-weight: normal;\">respond</span></b> <b><span style=\"font-weight: normal;\">effectively</span></b> <b><span style=\"font-weight: normal;\">to</span></b> <b><span style=\"font-weight: normal;\">the</span></b> <b><span style=\"font-weight: bold; background-color: #F9B261; border-radius: 5px;\">needs</span></b> <b><span style=\"font-weight: normal;\">of</span></b> <b><span style=\"font-weight: normal;\">users</span></b> <b><span style=\"font-weight: normal;\">.</span></b> <b><span style=\"font-weight: normal;\">[SEP]</span></b>"
      ],
      "text/plain": [
       "<IPython.core.display.HTML object>"
      ]
     },
     "metadata": {},
     "output_type": "display_data"
    }
   ],
   "source": [
    "\n",
    "### interact with ConvXAI agent using different free-text XAI requests.\n",
    "### use `visualize` to decide visualization.\n",
    "\n",
    "explained_sentence = \"It is unclear if existing interpretations of deep neural network models respond effectively to the needs of users .\"\n",
    "target_label = \"background\"\n",
    "target_conference = \"CHI\"\n",
    "visualize=True\n",
    "\n",
    "# Data Explanation\n",
    "user_question_request = \"Which words in this sentence are most important for this prediction?\"\n",
    "response = convxai_agent.interact_single_turn(user_question_request, explained_sentence, target_label, target_conference, visualize)"
   ]
  },
  {
   "cell_type": "code",
   "execution_count": null,
   "metadata": {},
   "outputs": [],
   "source": [
    "\n",
    "### interact with ConvXAI agent using different free-text XAI requests.\n",
    "### use `visualize` to decide visualization.\n",
    "\n",
    "explained_sentence = \"It is unclear if existing interpretations of deep neural network models respond effectively to the needs of users .\"\n",
    "target_label = \"background\"\n",
    "target_conference = \"CHI\"\n",
    "visualize=True\n",
    "\n",
    "# Data Explanation\n",
    "user_question_request = \"Which words in this sentence are most important for this prediction?\"\n",
    "response = convxai_agent.interact_single_turn(user_question_request, explained_sentence, target_label, target_conference, visualize)"
   ]
  },
  {
   "cell_type": "code",
   "execution_count": null,
   "metadata": {},
   "outputs": [],
   "source": [
    "\n",
    "### interact with ConvXAI agent using different free-text XAI requests.\n",
    "### use `visualize` to decide visualization.\n",
    "\n",
    "explained_sentence = \"It is unclear if existing interpretations of deep neural network models respond effectively to the needs of users .\"\n",
    "target_label = \"background\"\n",
    "target_conference = \"CHI\"\n",
    "visualize=True\n",
    "\n",
    "# Data Explanation\n",
    "user_question_request = \"Which words in this sentence are most important for this prediction?\"\n",
    "response = convxai_agent.interact_single_turn(user_question_request, explained_sentence, target_label, target_conference, visualize)"
   ]
  },
  {
   "cell_type": "code",
   "execution_count": null,
   "metadata": {},
   "outputs": [],
   "source": [
    "\n",
    "### interact with ConvXAI agent using different free-text XAI requests.\n",
    "### use `visualize` to decide visualization.\n",
    "\n",
    "explained_sentence = \"It is unclear if existing interpretations of deep neural network models respond effectively to the needs of users .\"\n",
    "target_label = \"background\"\n",
    "target_conference = \"CHI\"\n",
    "visualize=True\n",
    "\n",
    "# Data Explanation\n",
    "user_question_request = \"Which words in this sentence are most important for this prediction?\"\n",
    "response = convxai_agent.interact_single_turn(user_question_request, explained_sentence, target_label, target_conference, visualize)"
   ]
  },
  {
   "cell_type": "code",
   "execution_count": null,
   "metadata": {},
   "outputs": [],
   "source": [
    "\n",
    "### interact with ConvXAI agent using different free-text XAI requests.\n",
    "### use `visualize` to decide visualization.\n",
    "\n",
    "explained_sentence = \"It is unclear if existing interpretations of deep neural network models respond effectively to the needs of users .\"\n",
    "target_label = \"background\"\n",
    "target_conference = \"CHI\"\n",
    "visualize=True\n",
    "\n",
    "# Data Explanation\n",
    "user_question_request = \"Which words in this sentence are most important for this prediction?\"\n",
    "response = convxai_agent.interact_single_turn(user_question_request, explained_sentence, target_label, target_conference, visualize)"
   ]
  },
  {
   "cell_type": "code",
   "execution_count": null,
   "metadata": {},
   "outputs": [],
   "source": [
    "\n",
    "### interact with ConvXAI agent using different free-text XAI requests.\n",
    "### use `visualize` to decide visualization.\n",
    "\n",
    "explained_sentence = \"It is unclear if existing interpretations of deep neural network models respond effectively to the needs of users .\"\n",
    "target_label = \"background\"\n",
    "target_conference = \"CHI\"\n",
    "visualize=True\n",
    "\n",
    "# Data Explanation\n",
    "user_question_request = \"Which words in this sentence are most important for this prediction?\"\n",
    "response = convxai_agent.interact_single_turn(user_question_request, explained_sentence, target_label, target_conference, visualize)"
   ]
  },
  {
   "cell_type": "code",
   "execution_count": null,
   "metadata": {},
   "outputs": [],
   "source": [
    "\n",
    "### interact with ConvXAI agent using different free-text XAI requests.\n",
    "### use `visualize` to decide visualization.\n",
    "\n",
    "explained_sentence = \"It is unclear if existing interpretations of deep neural network models respond effectively to the needs of users .\"\n",
    "target_label = \"background\"\n",
    "target_conference = \"CHI\"\n",
    "visualize=True\n",
    "\n",
    "# Data Explanation\n",
    "user_question_request = \"Which words in this sentence are most important for this prediction?\"\n",
    "response = convxai_agent.interact_single_turn(user_question_request, explained_sentence, target_label, target_conference, visualize)"
   ]
  },
  {
   "cell_type": "code",
   "execution_count": null,
   "metadata": {},
   "outputs": [],
   "source": [
    "\n",
    "### interact with ConvXAI agent using different free-text XAI requests.\n",
    "### use `visualize` to decide visualization.\n",
    "\n",
    "explained_sentence = \"It is unclear if existing interpretations of deep neural network models respond effectively to the needs of users .\"\n",
    "target_label = \"background\"\n",
    "target_conference = \"CHI\"\n",
    "visualize=True\n",
    "\n",
    "# Data Explanation\n",
    "user_question_request = \"Which words in this sentence are most important for this prediction?\"\n",
    "response = convxai_agent.interact_single_turn(user_question_request, explained_sentence, target_label, target_conference, visualize)"
   ]
  },
  {
   "cell_type": "code",
   "execution_count": null,
   "metadata": {},
   "outputs": [],
   "source": [
    "\n",
    "### interact with ConvXAI agent using different free-text XAI requests.\n",
    "### use `visualize` to decide visualization.\n",
    "\n",
    "explained_sentence = \"It is unclear if existing interpretations of deep neural network models respond effectively to the needs of users .\"\n",
    "target_label = \"background\"\n",
    "target_conference = \"CHI\"\n",
    "visualize=True\n",
    "\n",
    "# Data Explanation\n",
    "user_question_request = \"Which words in this sentence are most important for this prediction?\"\n",
    "response = convxai_agent.interact_single_turn(user_question_request, explained_sentence, target_label, target_conference, visualize)"
   ]
  },
  {
   "cell_type": "code",
   "execution_count": null,
   "metadata": {},
   "outputs": [],
   "source": [
    "\n",
    "### interact with ConvXAI agent using different free-text XAI requests.\n",
    "### use `visualize` to decide visualization.\n",
    "\n",
    "explained_sentence = \"It is unclear if existing interpretations of deep neural network models respond effectively to the needs of users .\"\n",
    "target_label = \"background\"\n",
    "target_conference = \"CHI\"\n",
    "visualize=True\n",
    "\n",
    "# Data Explanation\n",
    "user_question_request = \"Which words in this sentence are most important for this prediction?\"\n",
    "response = convxai_agent.interact_single_turn(user_question_request, explained_sentence, target_label, target_conference, visualize)"
   ]
  },
  {
   "cell_type": "code",
   "execution_count": null,
   "metadata": {},
   "outputs": [],
   "source": []
  },
  {
   "cell_type": "code",
   "execution_count": null,
   "metadata": {},
   "outputs": [],
   "source": []
  },
  {
   "cell_type": "code",
   "execution_count": null,
   "metadata": {},
   "outputs": [],
   "source": []
  },
  {
   "cell_type": "code",
   "execution_count": null,
   "metadata": {},
   "outputs": [],
   "source": [
    "\n",
    "### interact with ConvXAI agent using different free-text XAI requests.\n",
    "### use `visualize` to decide visualization.\n",
    "\n",
    "explained_sentence = \"It is unclear if existing interpretations of deep neural network models respond effectively to the needs of users .\"\n",
    "target_label = \"background\"\n",
    "target_conference = \"CHI\"\n",
    "visualize=True\n",
    "\n",
    "# Data Explanation\n",
    "user_question_request = \"What data did the system learn from?\"\n",
    "response = convxai_agent.interact_single_turn(user_question_request, explained_sentence, target_label, target_conference, visualize)"
   ]
  },
  {
   "cell_type": "code",
   "execution_count": null,
   "metadata": {},
   "outputs": [],
   "source": [
    "\n",
    "# Model Explanation\n",
    "user_question_request = \"What kind of models are used?\"\n",
    "response = convxai_agent.interact_single_turn(user_question_request, explained_sentence, target_label, target_conference, visualize)"
   ]
  },
  {
   "cell_type": "code",
   "execution_count": null,
   "metadata": {},
   "outputs": [],
   "source": [
    "\n",
    "# Quality Score Explanation\n",
    "user_question_request = \"What's the range of the style quality scores?\"\n",
    "response = convxai_agent.interact_single_turn(user_question_request, explained_sentence, target_label, target_conference, visualize)"
   ]
  },
  {
   "cell_type": "code",
   "execution_count": null,
   "metadata": {},
   "outputs": [],
   "source": [
    "\n",
    "# Label Distribution Explanation\n",
    "user_question_request = \"How are the structure labels distributed?\"\n",
    "response = convxai_agent.interact_single_turn(user_question_request, explained_sentence, target_label, target_conference, visualize)"
   ]
  },
  {
   "cell_type": "code",
   "execution_count": null,
   "metadata": {},
   "outputs": [],
   "source": [
    "\n",
    "# Sentence Length Explanation\n",
    "user_question_request = \"What's the statistics of the sentence lengths?\"\n",
    "response = convxai_agent.interact_single_turn(user_question_request,explained_sentence, target_label, target_conference, visualize)"
   ]
  },
  {
   "cell_type": "code",
   "execution_count": null,
   "metadata": {},
   "outputs": [],
   "source": [
    "\n",
    "# Model Confidence Explanation\n",
    "user_question_request = \"How confident is this prediction?\"\n",
    "response = convxai_agent.interact_single_turn(user_question_request, explained_sentence, target_label, target_conference, visualize)"
   ]
  },
  {
   "cell_type": "code",
   "execution_count": null,
   "metadata": {},
   "outputs": [],
   "source": [
    "\n",
    "# Example Explanation\n",
    "user_question_request = \"What are some published sentences that look similar to mine semantically?\"\n",
    "response = convxai_agent.interact_single_turn(user_question_request, explained_sentence, target_label, target_conference, visualize)"
   ]
  },
  {
   "cell_type": "code",
   "execution_count": null,
   "metadata": {},
   "outputs": [],
   "source": [
    "\n",
    "# Attribution Explanation\n",
    "user_question_request = \"Which words in this sentence are most important for this prediction?\"\n",
    "response = convxai_agent.interact_single_turn(user_question_request, explained_sentence, target_label, target_conference, visualize)"
   ]
  },
  {
   "cell_type": "code",
   "execution_count": null,
   "metadata": {},
   "outputs": [],
   "source": [
    "\n",
    "# Counterfactual Explanation\n",
    "user_question_request = \"How can I revise the input to get a different prediction?\"\n",
    "response = convxai_agent.interact_single_turn(user_question_request, explained_sentence, target_label, target_conference, visualize)"
   ]
  },
  {
   "cell_type": "markdown",
   "metadata": {},
   "source": [
    "Furthermore, you can directly check the output from each of the three ConvXAI modules, including the `user_intent_detection`, `ai_explainer` and `natural_language_generation`.\n",
    "\n",
    "We provide two examples as below.\n"
   ]
  },
  {
   "cell_type": "code",
   "execution_count": null,
   "metadata": {},
   "outputs": [],
   "source": [
    "#### Different user question requests direct to different XAI types.\n",
    "# user_question_request = \"What data did the system learn from?\"\n",
    "# user_question_request = \"What kind of models are used?\"\n",
    "# user_question_request = \"What's the range of the style quality scores?\"\n",
    "# user_question_request = \"How are the structure labels distributed?\"\n",
    "# user_question_request = \"What's the statistics of the sentence lengths?\"\n",
    "# user_question_request = \"How confident is this prediction?\"\n",
    "# user_question_request = \"What are some published sentences that look similar to mine semantically?\"\n",
    "# user_question_request = \"Which words in this sentence are most important for this prediction?\"\n",
    "user_question_request = \"How can I revise the input to get a different prediction?\"\n",
    "\n",
    "\n",
    "\n",
    "explained_sentence = \"It is unclear if existing interpretations of deep neural network models respond effectively to the needs of users .\"\n",
    "target_label = \"background\"\n",
    "target_conference = \"CHI\"\n",
    "visualize=False\n",
    "\n",
    "### Get User Intent\n",
    "user_intent = convxai_agent.nlu(user_question_request)\n",
    "print(f\"Detected User Input = {user_intent}\")\n"
   ]
  },
  {
   "cell_type": "code",
   "execution_count": null,
   "metadata": {},
   "outputs": [],
   "source": [
    "### Check the generated explanation variables\n",
    "explanation_dict = convxai_agent.explainer.generate_explanation(user_intent, explained_sentence, target_label, target_conference)\n",
    "print(f\"Generated Explanation Dictionary = {explanation_dict}\")\n"
   ]
  },
  {
   "cell_type": "code",
   "execution_count": null,
   "metadata": {},
   "outputs": [],
   "source": [
    "### Template-based response (in 'html' format)\n",
    "response = convxai_agent.nlg(user_intent, explanation_dict)\n",
    "print(f\"Template-based response = {response}\")\n"
   ]
  },
  {
   "cell_type": "code",
   "execution_count": null,
   "metadata": {},
   "outputs": [],
   "source": [
    "### Display the free-text explanations\n",
    "convxai_agent._visualize_single_turn_dialog(user_question_request, response)"
   ]
  },
  {
   "cell_type": "markdown",
   "metadata": {},
   "source": [
    "### Interact with ConvXAI Agent (Multi-turn Conversations)"
   ]
  },
  {
   "cell_type": "code",
   "execution_count": null,
   "metadata": {},
   "outputs": [],
   "source": []
  }
 ],
 "metadata": {
  "kernelspec": {
   "display_name": "Python 3.7.13 ('convxai')",
   "language": "python",
   "name": "python3"
  },
  "language_info": {
   "codemirror_mode": {
    "name": "ipython",
    "version": 3
   },
   "file_extension": ".py",
   "mimetype": "text/x-python",
   "name": "python",
   "nbconvert_exporter": "python",
   "pygments_lexer": "ipython3",
   "version": "3.7.13"
  },
  "orig_nbformat": 4,
  "vscode": {
   "interpreter": {
    "hash": "347be804384a984e363a1c4c2bbc012e3ea81df9ffd4ff22b2702561db5c40b7"
   }
  }
 },
 "nbformat": 4,
 "nbformat_minor": 2
}
