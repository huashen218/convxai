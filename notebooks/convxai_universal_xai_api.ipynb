{
 "cells": [
  {
   "cell_type": "markdown",
   "metadata": {},
   "source": [
    "# The Universal XAI API from ConvXAI"
   ]
  },
  {
   "cell_type": "markdown",
   "metadata": {},
   "source": [
    "A tutorial of exploring the DSL(Domain Specific Language) of **ConvXAI**, which aims to build the universal APIs for a range of XAI methods. \n",
    "\n",
    "In this tutorial, we show the ConvXAI APIs with two examples:\n",
    "\n",
    "- Single turn interaction\n",
    "- Multi turn interaction."
   ]
  },
  {
   "cell_type": "code",
   "execution_count": 3,
   "metadata": {},
   "outputs": [
    {
     "name": "stderr",
     "output_type": "stream",
     "text": [
      "2022-11-29 11:44:44 INFO: Checking for updates to resources.json in case models have been updated.  Note: this behavior can be turned off with download_method=None or download_method=DownloadMethod.REUSE_RESOURCES\n",
      "2022-11-29 11:44:44,436 - Checking for updates to resources.json in case models have been updated.  Note: this behavior can be turned off with download_method=None or download_method=DownloadMethod.REUSE_RESOURCES\n"
     ]
    },
    {
     "data": {
      "application/vnd.jupyter.widget-view+json": {
       "model_id": "2d45abac7cfd4a32af840b0a4a9481d6",
       "version_major": 2,
       "version_minor": 0
      },
      "text/plain": [
       "Downloading https://raw.githubusercontent.com/stanfordnlp/stanza-resources/main/resources_1.4.1.json:   0%|   …"
      ]
     },
     "metadata": {},
     "output_type": "display_data"
    },
    {
     "name": "stderr",
     "output_type": "stream",
     "text": [
      "2022-11-29 11:44:46 INFO: Loading these models for language: en (English):\n",
      "============================\n",
      "| Processor    | Package   |\n",
      "----------------------------\n",
      "| tokenize     | combined  |\n",
      "| pos          | combined  |\n",
      "| lemma        | combined  |\n",
      "| depparse     | combined  |\n",
      "| sentiment    | sstplus   |\n",
      "| constituency | wsj       |\n",
      "| ner          | ontonotes |\n",
      "============================\n",
      "\n",
      "2022-11-29 11:44:46,559 - Loading these models for language: en (English):\n",
      "============================\n",
      "| Processor    | Package   |\n",
      "----------------------------\n",
      "| tokenize     | combined  |\n",
      "| pos          | combined  |\n",
      "| lemma        | combined  |\n",
      "| depparse     | combined  |\n",
      "| sentiment    | sstplus   |\n",
      "| constituency | wsj       |\n",
      "| ner          | ontonotes |\n",
      "============================\n",
      "\n",
      "2022-11-29 11:44:46 INFO: Use device: gpu\n",
      "2022-11-29 11:44:46,582 - Use device: gpu\n",
      "2022-11-29 11:44:46 INFO: Loading: tokenize\n",
      "2022-11-29 11:44:46,583 - Loading: tokenize\n",
      "2022-11-29 11:44:51 INFO: Loading: pos\n",
      "2022-11-29 11:44:51,297 - Loading: pos\n",
      "2022-11-29 11:44:52 INFO: Loading: lemma\n",
      "2022-11-29 11:44:52,027 - Loading: lemma\n",
      "2022-11-29 11:44:52 INFO: Loading: depparse\n",
      "2022-11-29 11:44:52,080 - Loading: depparse\n",
      "2022-11-29 11:44:52 INFO: Loading: sentiment\n",
      "2022-11-29 11:44:52,400 - Loading: sentiment\n",
      "2022-11-29 11:44:53 INFO: Loading: constituency\n",
      "2022-11-29 11:44:53,010 - Loading: constituency\n",
      "2022-11-29 11:44:53 INFO: Loading: ner\n",
      "2022-11-29 11:44:53,688 - Loading: ner\n",
      "2022-11-29 11:44:54 INFO: Done loading processors!\n",
      "2022-11-29 11:44:54,590 - Done loading processors!\n"
     ]
    }
   ],
   "source": [
    "\"\"\"Loads the packages.\"\"\"\n",
    "\n",
    "import sys\n",
    "# sys.path.append(\"/home/hqs5468/hua/workspace/projects/convxai\")\n",
    "sys.path.append(\"/home/huashen218/workspace/convxai\")\n",
    "\n",
    "from convxai.writing_models.models import *\n",
    "from convxai_api.modules import *\n",
    "from convxai_api.xaiagent import ConvXAI\n",
    "\n",
    "import warnings\n",
    "warnings.filterwarnings(\"ignore\")\n",
    "os.environ[\"TOKENIZERS_PARALLELISM\"] = \"false\"\n"
   ]
  },
  {
   "cell_type": "markdown",
   "metadata": {},
   "source": [
    "### Interact with ConvXAI Agent (Single Turn Conversation)"
   ]
  },
  {
   "cell_type": "markdown",
   "metadata": {},
   "source": [
    "You can ask XAI request to the ConvXAI agent for different XAI questions and types.\n",
    "Below, we show how you can leverage `interact_single_turn` function to request 8 types AI explanations from ConvXAI class."
   ]
  },
  {
   "cell_type": "code",
   "execution_count": 4,
   "metadata": {},
   "outputs": [
    {
     "name": "stderr",
     "output_type": "stream",
     "text": [
<<<<<<< HEAD
      "504 Server Error: Gateway Time-out for url: https://huggingface.co/huashen218/convxai-diversity-model/resolve/main/config.json\n"
     ]
    },
    {
     "ename": "OSError",
     "evalue": "Can't load config for 'huashen218/convxai-diversity-model'. Make sure that:\n\n- 'huashen218/convxai-diversity-model' is a correct model identifier listed on 'https://huggingface.co/models'\n  (make sure 'huashen218/convxai-diversity-model' is not a path to a local directory with something else, in that case)\n\n- or 'huashen218/convxai-diversity-model' is the correct path to a directory containing a config.json file\n\n",
     "output_type": "error",
     "traceback": [
      "\u001b[0;31m---------------------------------------------------------------------------\u001b[0m",
      "\u001b[0;31mHTTPError\u001b[0m                                 Traceback (most recent call last)",
      "\u001b[0;32m~/anaconda3/envs/convxai_system/lib/python3.7/site-packages/transformers/configuration_utils.py\u001b[0m in \u001b[0;36mget_config_dict\u001b[0;34m(cls, pretrained_model_name_or_path, **kwargs)\u001b[0m\n\u001b[1;32m    557\u001b[0m                 \u001b[0muse_auth_token\u001b[0m\u001b[0;34m=\u001b[0m\u001b[0muse_auth_token\u001b[0m\u001b[0;34m,\u001b[0m\u001b[0;34m\u001b[0m\u001b[0;34m\u001b[0m\u001b[0m\n\u001b[0;32m--> 558\u001b[0;31m                 \u001b[0muser_agent\u001b[0m\u001b[0;34m=\u001b[0m\u001b[0muser_agent\u001b[0m\u001b[0;34m,\u001b[0m\u001b[0;34m\u001b[0m\u001b[0;34m\u001b[0m\u001b[0m\n\u001b[0m\u001b[1;32m    559\u001b[0m             )\n",
      "\u001b[0;32m~/anaconda3/envs/convxai_system/lib/python3.7/site-packages/transformers/file_utils.py\u001b[0m in \u001b[0;36mcached_path\u001b[0;34m(url_or_filename, cache_dir, force_download, proxies, resume_download, user_agent, extract_compressed_file, force_extract, use_auth_token, local_files_only)\u001b[0m\n\u001b[1;32m   1498\u001b[0m             \u001b[0muse_auth_token\u001b[0m\u001b[0;34m=\u001b[0m\u001b[0muse_auth_token\u001b[0m\u001b[0;34m,\u001b[0m\u001b[0;34m\u001b[0m\u001b[0;34m\u001b[0m\u001b[0m\n\u001b[0;32m-> 1499\u001b[0;31m             \u001b[0mlocal_files_only\u001b[0m\u001b[0;34m=\u001b[0m\u001b[0mlocal_files_only\u001b[0m\u001b[0;34m,\u001b[0m\u001b[0;34m\u001b[0m\u001b[0;34m\u001b[0m\u001b[0m\n\u001b[0m\u001b[1;32m   1500\u001b[0m         )\n",
      "\u001b[0;32m~/anaconda3/envs/convxai_system/lib/python3.7/site-packages/transformers/file_utils.py\u001b[0m in \u001b[0;36mget_from_cache\u001b[0;34m(url, cache_dir, force_download, proxies, etag_timeout, resume_download, user_agent, use_auth_token, local_files_only)\u001b[0m\n\u001b[1;32m   1662\u001b[0m             \u001b[0mr\u001b[0m \u001b[0;34m=\u001b[0m \u001b[0mrequests\u001b[0m\u001b[0;34m.\u001b[0m\u001b[0mhead\u001b[0m\u001b[0;34m(\u001b[0m\u001b[0murl\u001b[0m\u001b[0;34m,\u001b[0m \u001b[0mheaders\u001b[0m\u001b[0;34m=\u001b[0m\u001b[0mheaders\u001b[0m\u001b[0;34m,\u001b[0m \u001b[0mallow_redirects\u001b[0m\u001b[0;34m=\u001b[0m\u001b[0;32mFalse\u001b[0m\u001b[0;34m,\u001b[0m \u001b[0mproxies\u001b[0m\u001b[0;34m=\u001b[0m\u001b[0mproxies\u001b[0m\u001b[0;34m,\u001b[0m \u001b[0mtimeout\u001b[0m\u001b[0;34m=\u001b[0m\u001b[0metag_timeout\u001b[0m\u001b[0;34m)\u001b[0m\u001b[0;34m\u001b[0m\u001b[0;34m\u001b[0m\u001b[0m\n\u001b[0;32m-> 1663\u001b[0;31m             \u001b[0mr\u001b[0m\u001b[0;34m.\u001b[0m\u001b[0mraise_for_status\u001b[0m\u001b[0;34m(\u001b[0m\u001b[0;34m)\u001b[0m\u001b[0;34m\u001b[0m\u001b[0;34m\u001b[0m\u001b[0m\n\u001b[0m\u001b[1;32m   1664\u001b[0m             \u001b[0metag\u001b[0m \u001b[0;34m=\u001b[0m \u001b[0mr\u001b[0m\u001b[0;34m.\u001b[0m\u001b[0mheaders\u001b[0m\u001b[0;34m.\u001b[0m\u001b[0mget\u001b[0m\u001b[0;34m(\u001b[0m\u001b[0;34m\"X-Linked-Etag\"\u001b[0m\u001b[0;34m)\u001b[0m \u001b[0;32mor\u001b[0m \u001b[0mr\u001b[0m\u001b[0;34m.\u001b[0m\u001b[0mheaders\u001b[0m\u001b[0;34m.\u001b[0m\u001b[0mget\u001b[0m\u001b[0;34m(\u001b[0m\u001b[0;34m\"ETag\"\u001b[0m\u001b[0;34m)\u001b[0m\u001b[0;34m\u001b[0m\u001b[0;34m\u001b[0m\u001b[0m\n",
      "\u001b[0;32m~/anaconda3/envs/convxai_system/lib/python3.7/site-packages/requests/models.py\u001b[0m in \u001b[0;36mraise_for_status\u001b[0;34m(self)\u001b[0m\n\u001b[1;32m    952\u001b[0m         \u001b[0;32mif\u001b[0m \u001b[0mhttp_error_msg\u001b[0m\u001b[0;34m:\u001b[0m\u001b[0;34m\u001b[0m\u001b[0;34m\u001b[0m\u001b[0m\n\u001b[0;32m--> 953\u001b[0;31m             \u001b[0;32mraise\u001b[0m \u001b[0mHTTPError\u001b[0m\u001b[0;34m(\u001b[0m\u001b[0mhttp_error_msg\u001b[0m\u001b[0;34m,\u001b[0m \u001b[0mresponse\u001b[0m\u001b[0;34m=\u001b[0m\u001b[0mself\u001b[0m\u001b[0;34m)\u001b[0m\u001b[0;34m\u001b[0m\u001b[0;34m\u001b[0m\u001b[0m\n\u001b[0m\u001b[1;32m    954\u001b[0m \u001b[0;34m\u001b[0m\u001b[0m\n",
      "\u001b[0;31mHTTPError\u001b[0m: 504 Server Error: Gateway Time-out for url: https://huggingface.co/huashen218/convxai-diversity-model/resolve/main/config.json",
      "\nDuring handling of the above exception, another exception occurred:\n",
      "\u001b[0;31mOSError\u001b[0m                                   Traceback (most recent call last)",
      "\u001b[0;32m/tmp/ipykernel_22009/2229787024.py\u001b[0m in \u001b[0;36m<module>\u001b[0;34m\u001b[0m\n\u001b[1;32m      1\u001b[0m \u001b[0;34m\"\"\"Instantiates a ConvXAI agent.\"\"\"\u001b[0m\u001b[0;34m\u001b[0m\u001b[0;34m\u001b[0m\u001b[0m\n\u001b[0;32m----> 2\u001b[0;31m \u001b[0mconvxai_agent\u001b[0m \u001b[0;34m=\u001b[0m \u001b[0mConvXAI\u001b[0m\u001b[0;34m(\u001b[0m\u001b[0mintent_detection_algorithm\u001b[0m\u001b[0;34m=\u001b[0m\u001b[0;34m\"rule_based\"\u001b[0m\u001b[0;34m)\u001b[0m\u001b[0;34m\u001b[0m\u001b[0;34m\u001b[0m\u001b[0m\n\u001b[0m",
      "\u001b[0;32m~/workspace/convxai/notebooks/convxai_api/xaiagent.py\u001b[0m in \u001b[0;36m__init__\u001b[0;34m(self, intent_detection_algorithm, model)\u001b[0m\n\u001b[1;32m     25\u001b[0m         \u001b[0;31m# # ****** Load config file ****** #\u001b[0m\u001b[0;34m\u001b[0m\u001b[0;34m\u001b[0m\u001b[0;34m\u001b[0m\u001b[0m\n\u001b[1;32m     26\u001b[0m         \u001b[0mself\u001b[0m\u001b[0;34m.\u001b[0m\u001b[0mconfigs\u001b[0m \u001b[0;34m=\u001b[0m \u001b[0mparse_system_config_file\u001b[0m\u001b[0;34m(\u001b[0m\u001b[0;34m)\u001b[0m\u001b[0;34m\u001b[0m\u001b[0;34m\u001b[0m\u001b[0m\n\u001b[0;32m---> 27\u001b[0;31m         \u001b[0mmodel\u001b[0m  \u001b[0;34m=\u001b[0m \u001b[0mDiversityModel\u001b[0m\u001b[0;34m(\u001b[0m\u001b[0msaved_model_dir\u001b[0m\u001b[0;34m=\u001b[0m\u001b[0mself\u001b[0m\u001b[0;34m.\u001b[0m\u001b[0mconfigs\u001b[0m\u001b[0;34m[\u001b[0m\u001b[0;34m\"scientific_writing\"\u001b[0m\u001b[0;34m]\u001b[0m\u001b[0;34m[\u001b[0m\u001b[0;34m\"diversity_model_dir\"\u001b[0m\u001b[0;34m]\u001b[0m\u001b[0;34m)\u001b[0m \u001b[0;32mif\u001b[0m \u001b[0mmodel\u001b[0m \u001b[0;32mis\u001b[0m \u001b[0;32mNone\u001b[0m \u001b[0;32melse\u001b[0m \u001b[0mmodel\u001b[0m\u001b[0;34m\u001b[0m\u001b[0;34m\u001b[0m\u001b[0m\n\u001b[0m\u001b[1;32m     28\u001b[0m         \u001b[0;31m# ****** Set up Convxai modules ****** #\u001b[0m\u001b[0;34m\u001b[0m\u001b[0;34m\u001b[0m\u001b[0;34m\u001b[0m\u001b[0m\n\u001b[1;32m     29\u001b[0m         \u001b[0mself\u001b[0m\u001b[0;34m.\u001b[0m\u001b[0mnlu\u001b[0m \u001b[0;34m=\u001b[0m \u001b[0mXAI_NLU_Module\u001b[0m\u001b[0;34m(\u001b[0m\u001b[0mself\u001b[0m\u001b[0;34m.\u001b[0m\u001b[0mconfigs\u001b[0m\u001b[0;34m,\u001b[0m \u001b[0mintent_detection_algorithm\u001b[0m\u001b[0;34m)\u001b[0m\u001b[0;34m\u001b[0m\u001b[0;34m\u001b[0m\u001b[0m\n",
      "\u001b[0;32m~/workspace/convxai/convxai/writing_models/models/diversity_model.py\u001b[0m in \u001b[0;36m__init__\u001b[0;34m(self, saved_model_dir)\u001b[0m\n\u001b[1;32m     54\u001b[0m             self.model = AutoModelForSequenceClassification.from_pretrained(\n\u001b[1;32m     55\u001b[0m                 saved_model_dir, config=config).to(device)\n\u001b[0;32m---> 56\u001b[0;31m             \u001b[0mself\u001b[0m\u001b[0;34m.\u001b[0m\u001b[0mtokenizer\u001b[0m \u001b[0;34m=\u001b[0m \u001b[0mAutoTokenizer\u001b[0m\u001b[0;34m.\u001b[0m\u001b[0mfrom_pretrained\u001b[0m\u001b[0;34m(\u001b[0m\u001b[0msaved_model_dir\u001b[0m\u001b[0;34m)\u001b[0m\u001b[0;34m\u001b[0m\u001b[0;34m\u001b[0m\u001b[0m\n\u001b[0m\u001b[1;32m     57\u001b[0m         \u001b[0;32melse\u001b[0m\u001b[0;34m:\u001b[0m\u001b[0;34m\u001b[0m\u001b[0;34m\u001b[0m\u001b[0m\n\u001b[1;32m     58\u001b[0m             config = AutoConfig.from_pretrained(\n",
      "\u001b[0;32m~/anaconda3/envs/convxai_system/lib/python3.7/site-packages/transformers/models/auto/tokenization_auto.py\u001b[0m in \u001b[0;36mfrom_pretrained\u001b[0;34m(cls, pretrained_model_name_or_path, *inputs, **kwargs)\u001b[0m\n\u001b[1;32m    468\u001b[0m         \u001b[0;32mif\u001b[0m \u001b[0mconfig_tokenizer_class\u001b[0m \u001b[0;32mis\u001b[0m \u001b[0;32mNone\u001b[0m\u001b[0;34m:\u001b[0m\u001b[0;34m\u001b[0m\u001b[0;34m\u001b[0m\u001b[0m\n\u001b[1;32m    469\u001b[0m             \u001b[0;32mif\u001b[0m \u001b[0;32mnot\u001b[0m \u001b[0misinstance\u001b[0m\u001b[0;34m(\u001b[0m\u001b[0mconfig\u001b[0m\u001b[0;34m,\u001b[0m \u001b[0mPretrainedConfig\u001b[0m\u001b[0;34m)\u001b[0m\u001b[0;34m:\u001b[0m\u001b[0;34m\u001b[0m\u001b[0;34m\u001b[0m\u001b[0m\n\u001b[0;32m--> 470\u001b[0;31m                 \u001b[0mconfig\u001b[0m \u001b[0;34m=\u001b[0m \u001b[0mAutoConfig\u001b[0m\u001b[0;34m.\u001b[0m\u001b[0mfrom_pretrained\u001b[0m\u001b[0;34m(\u001b[0m\u001b[0mpretrained_model_name_or_path\u001b[0m\u001b[0;34m,\u001b[0m \u001b[0;34m**\u001b[0m\u001b[0mkwargs\u001b[0m\u001b[0;34m)\u001b[0m\u001b[0;34m\u001b[0m\u001b[0;34m\u001b[0m\u001b[0m\n\u001b[0m\u001b[1;32m    471\u001b[0m             \u001b[0mconfig_tokenizer_class\u001b[0m \u001b[0;34m=\u001b[0m \u001b[0mconfig\u001b[0m\u001b[0;34m.\u001b[0m\u001b[0mtokenizer_class\u001b[0m\u001b[0;34m\u001b[0m\u001b[0;34m\u001b[0m\u001b[0m\n\u001b[1;32m    472\u001b[0m \u001b[0;34m\u001b[0m\u001b[0m\n",
      "\u001b[0;32m~/anaconda3/envs/convxai_system/lib/python3.7/site-packages/transformers/models/auto/configuration_auto.py\u001b[0m in \u001b[0;36mfrom_pretrained\u001b[0;34m(cls, pretrained_model_name_or_path, **kwargs)\u001b[0m\n\u001b[1;32m    556\u001b[0m         \"\"\"\n\u001b[1;32m    557\u001b[0m         \u001b[0mkwargs\u001b[0m\u001b[0;34m[\u001b[0m\u001b[0;34m\"_from_auto\"\u001b[0m\u001b[0;34m]\u001b[0m \u001b[0;34m=\u001b[0m \u001b[0;32mTrue\u001b[0m\u001b[0;34m\u001b[0m\u001b[0;34m\u001b[0m\u001b[0m\n\u001b[0;32m--> 558\u001b[0;31m         \u001b[0mconfig_dict\u001b[0m\u001b[0;34m,\u001b[0m \u001b[0m_\u001b[0m \u001b[0;34m=\u001b[0m \u001b[0mPretrainedConfig\u001b[0m\u001b[0;34m.\u001b[0m\u001b[0mget_config_dict\u001b[0m\u001b[0;34m(\u001b[0m\u001b[0mpretrained_model_name_or_path\u001b[0m\u001b[0;34m,\u001b[0m \u001b[0;34m**\u001b[0m\u001b[0mkwargs\u001b[0m\u001b[0;34m)\u001b[0m\u001b[0;34m\u001b[0m\u001b[0;34m\u001b[0m\u001b[0m\n\u001b[0m\u001b[1;32m    559\u001b[0m         \u001b[0;32mif\u001b[0m \u001b[0;34m\"model_type\"\u001b[0m \u001b[0;32min\u001b[0m \u001b[0mconfig_dict\u001b[0m\u001b[0;34m:\u001b[0m\u001b[0;34m\u001b[0m\u001b[0;34m\u001b[0m\u001b[0m\n\u001b[1;32m    560\u001b[0m             \u001b[0mconfig_class\u001b[0m \u001b[0;34m=\u001b[0m \u001b[0mCONFIG_MAPPING\u001b[0m\u001b[0;34m[\u001b[0m\u001b[0mconfig_dict\u001b[0m\u001b[0;34m[\u001b[0m\u001b[0;34m\"model_type\"\u001b[0m\u001b[0;34m]\u001b[0m\u001b[0;34m]\u001b[0m\u001b[0;34m\u001b[0m\u001b[0;34m\u001b[0m\u001b[0m\n",
      "\u001b[0;32m~/anaconda3/envs/convxai_system/lib/python3.7/site-packages/transformers/configuration_utils.py\u001b[0m in \u001b[0;36mget_config_dict\u001b[0;34m(cls, pretrained_model_name_or_path, **kwargs)\u001b[0m\n\u001b[1;32m    573\u001b[0m                 \u001b[0mmsg\u001b[0m \u001b[0;34m+=\u001b[0m \u001b[0;34mf\"- or '{revision}' is a valid git identifier (branch name, a tag name, or a commit id) that exists for this model name as listed on its model page on 'https://huggingface.co/models'\\n\\n\"\u001b[0m\u001b[0;34m\u001b[0m\u001b[0;34m\u001b[0m\u001b[0m\n\u001b[1;32m    574\u001b[0m \u001b[0;34m\u001b[0m\u001b[0m\n\u001b[0;32m--> 575\u001b[0;31m             \u001b[0;32mraise\u001b[0m \u001b[0mEnvironmentError\u001b[0m\u001b[0;34m(\u001b[0m\u001b[0mmsg\u001b[0m\u001b[0;34m)\u001b[0m\u001b[0;34m\u001b[0m\u001b[0;34m\u001b[0m\u001b[0m\n\u001b[0m\u001b[1;32m    576\u001b[0m \u001b[0;34m\u001b[0m\u001b[0m\n\u001b[1;32m    577\u001b[0m         \u001b[0;32mexcept\u001b[0m \u001b[0;34m(\u001b[0m\u001b[0mjson\u001b[0m\u001b[0;34m.\u001b[0m\u001b[0mJSONDecodeError\u001b[0m\u001b[0;34m,\u001b[0m \u001b[0mUnicodeDecodeError\u001b[0m\u001b[0;34m)\u001b[0m\u001b[0;34m:\u001b[0m\u001b[0;34m\u001b[0m\u001b[0;34m\u001b[0m\u001b[0m\n",
      "\u001b[0;31mOSError\u001b[0m: Can't load config for 'huashen218/convxai-diversity-model'. Make sure that:\n\n- 'huashen218/convxai-diversity-model' is a correct model identifier listed on 'https://huggingface.co/models'\n  (make sure 'huashen218/convxai-diversity-model' is not a path to a local directory with something else, in that case)\n\n- or 'huashen218/convxai-diversity-model' is the correct path to a directory containing a config.json file\n\n"
=======
      "2022-11-29 11:45:01,036 - \n",
      "Loading writing models to be explained......\n"
>>>>>>> d3fd24bf8c95fbceacc75e5bde1b0d7107419489
     ]
    }
   ],
   "source": [
    "\"\"\"Instantiates a ConvXAI agent.\"\"\"\n",
    "convxai_agent = ConvXAI(intent_detection_algorithm=\"rule_based\")\n"
   ]
  },
  {
   "cell_type": "code",
   "execution_count": 4,
   "metadata": {},
   "outputs": [
    {
     "name": "stdout",
     "output_type": "stream",
     "text": [
      "Detected User Input = meta-data\n",
      "======> Conversational XAI Demonstration <======\n",
      "User: What data did the system learn from?\n"
     ]
    },
    {
     "data": {
      "text/html": [
       "ConvXAI: Sure! We are comparing your writing with our collected <strong>CHI Paper Abstract</strong> dataset to generate the above review. The dataset includes <strong>21643 sentences</strong> in <strong>3235 papers</strong>. \n",
       "        "
      ],
      "text/plain": [
       "<IPython.core.display.HTML object>"
      ]
     },
     "metadata": {},
     "output_type": "display_data"
    }
   ],
   "source": [
    "\n",
    "### interact with ConvXAI agent using different free-text XAI requests.\n",
    "### use `visualize` to decide visualization.\n",
    "\n",
    "explained_sentence = \"It is unclear if existing interpretations of deep neural network models respond effectively to the needs of users .\"\n",
    "target_label = \"background\"\n",
    "target_conference = \"CHI\"\n",
    "visualize=True\n",
    "\n",
    "# Data Explanation\n",
    "user_question_request = \"What data did the system learn from?\"\n",
    "response = convxai_agent.interact_single_turn(user_question_request, explained_sentence, target_label, target_conference, visualize)"
   ]
  },
  {
   "cell_type": "code",
   "execution_count": 5,
   "metadata": {},
   "outputs": [
    {
     "name": "stdout",
     "output_type": "stream",
     "text": [
      "Detected User Input = meta-model\n",
      "======> Conversational XAI Demonstration <======\n",
      "User: What kind of models are used?\n"
     ]
    },
    {
     "data": {
      "text/html": [
       "ConvXAI: Of course! The <strong>Writing Structure Model</strong> is a <a class='post-link' href='https://arxiv.org/pdf/1903.10676.pdf' target='_blank'>SciBERT</a> based classifier finetuned with the <a class='post-link' href='https://arxiv.org/pdf/2005.02367.pdf' target='_blank'>CODA-19</a> dataset. Also, the <strong>Writing Style Model</strong> is a <a class='post-link' href='https://openai.com/blog/tags/gpt-2/' target='_blank'>GPT-2</a> based generative model finetuned with <strong>9935 abstracts</strong> from <a class='post-link' href='https://dl.acm.org/conference/chi' target='_blank'>CHI</a>, <a class='post-link' href='https://aclanthology.org/venues/acl/' target='_blank'>ACL</a> and <a class='post-link' href='https://iclr.cc/Conferences/2023' target='_blank'>ICLR</a> papers (click the terms to view more)."
      ],
      "text/plain": [
       "<IPython.core.display.HTML object>"
      ]
     },
     "metadata": {},
     "output_type": "display_data"
    }
   ],
   "source": [
    "\n",
    "# Model Explanation\n",
    "user_question_request = \"What kind of models are used?\"\n",
    "response = convxai_agent.interact_single_turn(user_question_request, explained_sentence, target_label, target_conference, visualize)"
   ]
  },
  {
   "cell_type": "code",
   "execution_count": 6,
   "metadata": {},
   "outputs": [
    {
     "name": "stdout",
     "output_type": "stream",
     "text": [
      "Detected User Input = quality-score\n",
      "======> Conversational XAI Demonstration <======\n",
      "User: What's the range of the style quality scores?\n"
     ]
    },
    {
     "data": {
      "text/html": [
       "ConvXAI: \n",
       "        We use each sentence's <strong>Perplexity</strong> value (predicted by the GPT-2 model) to derive the <strong>Quality Score</strong>. Lower perplexity means your writing is more similar to the CHI papers.\n",
       "        <br>\n",
       "        We divide into five levels as below based on [20-th, 40-th, 60-th, 80-th] percentiles of the CHI papers' perplexity scores (i.e., [45, 57, 71, 92]).\n",
       "        \n",
       "        <br>\n",
       "        <style>\n",
       "            .demo {\n",
       "                border:1px solid #EDEDED;\n",
       "                border-collapse:separate;\n",
       "                border-spacing:2px;\n",
       "                padding:5px;\n",
       "            }\n",
       "            .demo th {\n",
       "                border:1px solid #EDEDED;\n",
       "                padding:5px;\n",
       "                background:#D6D6D6;\n",
       "            }\n",
       "            .demo td {\n",
       "                border:1px solid #EDEDED;\n",
       "                text-align:center;\n",
       "                padding:5px;\n",
       "                background:#F5F5F5;\n",
       "            }\n",
       "        </style>\n",
       "        \n",
       "        <table class=\"demo\">\n",
       "            <caption><br></caption>\n",
       "            <thead>\n",
       "            <tr>\n",
       "                <th>Quality Score</th>\n",
       "                <th>Perplexity (PPL)</th>\n",
       "            </tr>\n",
       "            </thead>\n",
       "            <tbody>\n",
       "            <tr>\n",
       "                <td>1 (lowest)</td>\n",
       "                <td>92 &lt; PPL<br></td>\n",
       "            </tr>\n",
       "            <tr>\n",
       "                <td>2</td>\n",
       "                <td>71 &lt; PPL &lt;= 92&nbsp;</td>\n",
       "            </tr>\n",
       "            <tr>\n",
       "                <td>3</td>\n",
       "                <td>57 &lt; PPL &lt;= 71&nbsp;</td>\n",
       "            </tr>\n",
       "            <tr>\n",
       "                <td>4</td>\n",
       "                <td>45 &lt; PPL &lt;= 57&nbsp;</td>\n",
       "            </tr>\n",
       "            <tr>\n",
       "                <td>5 (highest)</td>\n",
       "                <td>PPL &lt;= 45&nbsp;</td>\n",
       "            </tr>\n",
       "            <tbody>\n",
       "        </table>\n",
       "        "
      ],
      "text/plain": [
       "<IPython.core.display.HTML object>"
      ]
     },
     "metadata": {},
     "output_type": "display_data"
    }
   ],
   "source": [
    "\n",
    "# Quality Score Explanation\n",
    "user_question_request = \"What's the range of the style quality scores?\"\n",
    "response = convxai_agent.interact_single_turn(user_question_request, explained_sentence, target_label, target_conference, visualize)"
   ]
  },
  {
   "cell_type": "code",
   "execution_count": 7,
   "metadata": {},
   "outputs": [
    {
     "name": "stdout",
     "output_type": "stream",
     "text": [
      "Detected User Input = label-distribution\n",
      "======> Conversational XAI Demonstration <======\n",
      "User: How are the structure labels distributed?\n"
     ]
    },
    {
     "data": {
      "text/html": [
       "ConvXAI: We use the Research Aspects Model to generate <strong>aspect sequences</strong> of all 9935 paper abstracts. Then we cluster these sequences into <strong>five patterns</strong> as below. We compare your writing with these patterns for review.\n",
       "        <br>\n",
       "        <style>\n",
       "            .demo {\n",
       "                border:1px solid #EDEDED;\n",
       "                border-collapse:separate;\n",
       "                border-spacing:2px;\n",
       "                padding:5px;\n",
       "            }\n",
       "            .demo th {\n",
       "                border:1px solid #EDEDED;\n",
       "                padding:5px;\n",
       "                background:#D6D6D6;\n",
       "            }\n",
       "            .demo td {\n",
       "                border:1px solid #EDEDED;\n",
       "                text-align:center;\n",
       "                padding:5px;\n",
       "                background:#F5F5F5;\n",
       "            }\n",
       "        </style>\n",
       "         \n",
       "        <table class=\"demo\">\n",
       "            <caption><br></caption>\n",
       "            <thead>\n",
       "            <tr>\n",
       "                <th>Types</th>\n",
       "                <th>Patterns</th>\n",
       "            </tr>\n",
       "            </thead>\n",
       "            <tbody>\n",
       "            <tr>\n",
       "                <td>Pattern1</td>\n",
       "                <td>'background' (42.9%) -&gt; 'purpose' (14.3%)  -&gt; 'finding' (42.9%)</td>\n",
       "            </tr>\n",
       "            <tr>\n",
       "                <td>Pattern2&nbsp;</td>\n",
       "                <td>'background' (22.2%) -&gt; 'purpose' (11.2%) -&gt; 'method' (33.3%) -&gt; 'finding' (33.3%)</td>\n",
       "            </tr>\n",
       "            <tr>\n",
       "                <td>Pattern3&nbsp;</td>\n",
       "                <td>'background' (33.3%) -&gt; 'purpose' (16.7%) -&gt; 'method' (16.7%)  -&gt; 'finding' (33.3%)</td>\n",
       "            </tr>\n",
       "            <tr>\n",
       "                <td>Pattern4</td>\n",
       "                <td>'background' (33.3%) -&gt; 'method' (16.7%)  -&gt;  'finding' (50%)</td>\n",
       "            </tr>\n",
       "            <tr>\n",
       "                <td>Pattern5</td>\n",
       "                <td>'background' (20%)   -&gt; 'finding' (6.7%)  -&gt;  'background' (13.3%) -&gt; 'purpose' (6.7%) -&gt; 'background' (13.3%) -&gt; 'finding' (6.7%) -&gt; 'method' (6.7%) -&gt; 'finding' (26.7%)</td>\n",
       "            </tr>\n",
       "            <tbody>\n",
       "        </table>\n",
       "        "
      ],
      "text/plain": [
       "<IPython.core.display.HTML object>"
      ]
     },
     "metadata": {},
     "output_type": "display_data"
    }
   ],
   "source": [
    "\n",
    "# Label Distribution Explanation\n",
    "user_question_request = \"How are the structure labels distributed?\"\n",
    "response = convxai_agent.interact_single_turn(user_question_request, explained_sentence, target_label, target_conference, visualize)"
   ]
  },
  {
   "cell_type": "code",
   "execution_count": 8,
   "metadata": {},
   "outputs": [
    {
     "name": "stdout",
     "output_type": "stream",
     "text": [
      "Detected User Input = sentence-length\n",
      "======> Conversational XAI Demonstration <======\n",
      "User: What's the statistics of the sentence lengths?\n"
     ]
    },
    {
     "data": {
      "text/html": [
       "ConvXAI: \n",
       "        The [mean-2*std, mean-std, mean, mean+std, mean+2*std] percentiles of the sentence lengths in the CHI conference are <strong>{'all': [4, 14, 25, 36, 46], 'background': [5, 14, 22, 31, 40], 'purpose': [6, 17, 27, 38, 49], 'method': [4, 15, 27, 39, 51], 'finding': [4, 15, 26, 37, 48], 'other': [-3, 0, 4, 7, 11]}</strong> words. \n",
       "        "
      ],
      "text/plain": [
       "<IPython.core.display.HTML object>"
      ]
     },
     "metadata": {},
     "output_type": "display_data"
    }
   ],
   "source": [
    "\n",
    "# Sentence Length Explanation\n",
    "user_question_request = \"What's the statistics of the sentence lengths?\"\n",
    "response = convxai_agent.interact_single_turn(user_question_request,explained_sentence, target_label, target_conference, visualize)"
   ]
  },
  {
   "cell_type": "code",
   "execution_count": 9,
   "metadata": {},
   "outputs": [
    {
     "name": "stdout",
     "output_type": "stream",
     "text": [
      "Detected User Input = confidence\n",
      "======> Conversational XAI Demonstration <======\n",
      "User: How confident is this prediction?\n"
     ]
    },
    {
     "data": {
      "text/html": [
       "ConvXAI: Given your selected sentence = <span class='text-info'>It is unclear if existing interpretations of deep neural network models respond effectively to the needs of users .</span>, the model predicts a <strong>'background' aspect</strong> label with <strong>confidence score = 0.8926</strong>. "
      ],
      "text/plain": [
       "<IPython.core.display.HTML object>"
      ]
     },
     "metadata": {},
     "output_type": "display_data"
    }
   ],
   "source": [
    "\n",
    "# Model Confidence Explanation\n",
    "user_question_request = \"How confident is this prediction?\"\n",
    "response = convxai_agent.interact_single_turn(user_question_request, explained_sentence, target_label, target_conference, visualize)"
   ]
  },
  {
   "cell_type": "code",
   "execution_count": 10,
   "metadata": {},
   "outputs": [
    {
     "name": "stdout",
     "output_type": "stream",
     "text": [
      "Detected User Input = example\n",
      "======> Conversational XAI Demonstration <======\n",
      "User: What are some published sentences that look similar to mine semantically?\n"
     ]
    },
    {
     "data": {
      "text/html": [
       "ConvXAI: The top-3 similar examples (i.e., of selected-sentence = '<i><span class='text-info'>It is unclear if existing interpretations of deep neural network models respond effectively to the needs of users .</span>') from the <strong>CHI</strong> dataset are (Conditioned on <strong>label=0</strong>):<br> <strong>sample-5392</strong> - <a class='post-link' href='https://doi.org/10.1145/3290605.3300547' target='_blank'>We contribute to the theoretical aspect of this research by presenting an ethnographic study on alternative farming practices, in which the farm is not so much a system but an assemblage characterized by multiple systems or rationalities always evolving and changing</a>.<br> <strong>sample-4793</strong> - <a class='post-link' href='https://doi.org/10.1145/3290605.3300446' target='_blank'>We present findings from an accessibility design workshop that was carried out with a mixture of 197 developers and digital technology students</a>.<br> <strong>sample-1176</strong> - <a class='post-link' href='https://doi.org/10.1145/3173574.3173597' target='_blank'>Our natural tendency to be curious is increasingly important now that we are exposed to vast amounts of information</a>."
      ],
      "text/plain": [
       "<IPython.core.display.HTML object>"
      ]
     },
     "metadata": {},
     "output_type": "display_data"
    }
   ],
   "source": [
    "\n",
    "# Example Explanation\n",
    "user_question_request = \"What are some published sentences that look similar to mine semantically?\"\n",
    "response = convxai_agent.interact_single_turn(user_question_request, explained_sentence, target_label, target_conference, visualize)"
   ]
  },
  {
   "cell_type": "code",
   "execution_count": 11,
   "metadata": {},
   "outputs": [
    {
     "name": "stdout",
     "output_type": "stream",
     "text": [
      "Detected User Input = attribution\n",
      "======> Conversational XAI Demonstration <======\n",
      "User: Which words in this sentence are most important for this prediction?\n"
     ]
    },
    {
     "data": {
      "text/html": [
       "ConvXAI: The <strong>TOP-3</strong> important words are highlighted as below: <br><br>  <b><span style=\"font-weight: normal;\">it</span></b> <b><span style=\"font-weight: normal;\">is</span></b> <b><span style=\"font-weight: bold; background-color: #F9B261; border-radius: 5px;\">unclear</span></b> <b><span style=\"font-weight: normal;\">if</span></b> <b><span style=\"font-weight: normal;\">existing</span></b> <b><span style=\"font-weight: bold; background-color: #F9B261; border-radius: 5px;\">interpretations</span></b> <b><span style=\"font-weight: normal;\">of</span></b> <b><span style=\"font-weight: normal;\">deep</span></b> <b><span style=\"font-weight: bold; background-color: #F9B261; border-radius: 5px;\">neural</span></b> <b><span style=\"font-weight: normal;\">network</span></b> <b><span style=\"font-weight: normal;\">models</span></b> <b><span style=\"font-weight: normal;\">respond</span></b> <b><span style=\"font-weight: normal;\">effectively</span></b> <b><span style=\"font-weight: normal;\">to</span></b> <b><span style=\"font-weight: normal;\">the</span></b> <b><span style=\"font-weight: normal;\">needs</span></b> <b><span style=\"font-weight: normal;\">of</span></b> <b><span style=\"font-weight: normal;\">users</span></b> <b><span style=\"font-weight: normal;\">.</span></b>"
      ],
      "text/plain": [
       "<IPython.core.display.HTML object>"
      ]
     },
     "metadata": {},
     "output_type": "display_data"
    }
   ],
   "source": [
    "\n",
    "# Attribution Explanation\n",
    "user_question_request = \"Which words in this sentence are most important for this prediction?\"\n",
    "response = convxai_agent.interact_single_turn(user_question_request, explained_sentence, target_label, target_conference, visualize)"
   ]
  },
  {
   "cell_type": "code",
   "execution_count": null,
   "metadata": {},
   "outputs": [],
   "source": [
    "\n",
    "# Counterfactual Explanation\n",
    "user_question_request = \"How can I revise the input to get a different prediction?\"\n",
    "response = convxai_agent.interact_single_turn(user_question_request, explained_sentence, target_label, target_conference, visualize)"
   ]
  },
  {
   "cell_type": "markdown",
   "metadata": {},
   "source": [
    "Furthermore, you can directly check the output from each of the three ConvXAI modules, including the `user_intent_detection`, `ai_explainer` and `natural_language_generation`.\n",
    "\n",
    "We provide two examples as below.\n"
   ]
  },
  {
   "cell_type": "code",
   "execution_count": 12,
   "metadata": {},
   "outputs": [
    {
     "name": "stdout",
     "output_type": "stream",
     "text": [
      "Detected User Input = example\n"
     ]
    }
   ],
   "source": [
    "#### Different user question requests direct to different XAI types.\n",
    "# user_question_request = \"What data did the system learn from?\"\n",
    "# user_question_request = \"What kind of models are used?\"\n",
    "# user_question_request = \"What's the range of the style quality scores?\"\n",
    "# user_question_request = \"How are the structure labels distributed?\"\n",
    "# user_question_request = \"What's the statistics of the sentence lengths?\"\n",
    "# user_question_request = \"How confident is this prediction?\"\n",
    "user_question_request = \"What are some published sentences that look similar to mine semantically?\"\n",
    "# user_question_request = \"Which words in this sentence are most important for this prediction?\"\n",
    "# user_question_request = \"How can I revise the input to get a different prediction?\"\n",
    "\n",
    "\n",
    "\n",
    "explained_sentence = \"It is unclear if existing interpretations of deep neural network models respond effectively to the needs of users .\"\n",
    "target_label = \"background\"\n",
    "target_conference = \"CHI\"\n",
    "visualize=False\n",
    "\n",
    "### Get User Intent\n",
    "user_intent = convxai_agent.nlu(user_question_request)\n",
    "print(f\"Detected User Input = {user_intent}\")\n"
   ]
  },
  {
   "cell_type": "code",
   "execution_count": 13,
   "metadata": {},
   "outputs": [
    {
     "name": "stdout",
     "output_type": "stream",
     "text": [
      "Generated Explanation Dictionary = {'top_k': 3, 'input': 'It is unclear if existing interpretations of deep neural network models respond effectively to the needs of users .', 'conference': 'CHI', 'label': 0, 'final_top_index': array([5391, 4792, 1175]), 'top_link': array([b'https://doi.org/10.1145/3173574.3173575',\n",
      "       b'https://doi.org/10.1145/3173574.3173575',\n",
      "       b'https://doi.org/10.1145/3173574.3173575', ...,\n",
      "       b'https://doi.org/10.1145/3491102.3502033',\n",
      "       b'https://doi.org/10.1145/3491102.3502033',\n",
      "       b'https://doi.org/10.1145/3491102.3502033'], dtype=object), 'top_text': array([b'News coverage of security and privacy (S&P) events is pervasive and may affect the salience of S&P threats to the public',\n",
      "       b\"To better understand this coverage and its effects, we asked: What types of S&P news come into people's awareness? How do people hear about and share this news? Over two years, we recruited 1999 participants to fill out a survey on emergent S&P news events\",\n",
      "       b'We identified four types of S&P news: financial data breaches, corporate personal data breaches, high sensitivity systems breaches, and politicized / activist cybersecurity',\n",
      "       ...,\n",
      "       b'The toolkit consists of: (1) a scent generation kit, a set of electronics and accessories that supported three common scent vaporization techniques; (2) a module construction kit, a set of primitive cardboard modules for assembling permutable functional structures; (3) a design manual, a step-by-step design thinking framework that directs the decision-making and prototyping process',\n",
      "       b'We organized a formal workshop with 19 participants and four solo DIY trials to evaluate the capability of the toolkit, the overall user engagement, the creations in both sessions, and the iterative suggestions',\n",
      "       b'Finally, design implications and future opportunities were discussed for further research.'],\n",
      "      dtype=object)}\n"
     ]
    }
   ],
   "source": [
    "### Check the generated explanation variables\n",
    "explanation_dict = convxai_agent.explainer.generate_explanation(user_intent, explained_sentence, target_label, target_conference)\n",
    "print(f\"Generated Explanation Dictionary = {explanation_dict}\")\n"
   ]
  },
  {
   "cell_type": "code",
   "execution_count": 14,
   "metadata": {},
   "outputs": [
    {
     "name": "stdout",
     "output_type": "stream",
     "text": [
      "Template-based response = The top-3 similar examples (i.e., of selected-sentence = '<i><span class='text-info'>It is unclear if existing interpretations of deep neural network models respond effectively to the needs of users .</span>') from the <strong>CHI</strong> dataset are (Conditioned on <strong>label=0</strong>):<br> <strong>sample-5392</strong> - <a class='post-link' href='https://doi.org/10.1145/3290605.3300547' target='_blank'>We contribute to the theoretical aspect of this research by presenting an ethnographic study on alternative farming practices, in which the farm is not so much a system but an assemblage characterized by multiple systems or rationalities always evolving and changing</a>.<br> <strong>sample-4793</strong> - <a class='post-link' href='https://doi.org/10.1145/3290605.3300446' target='_blank'>We present findings from an accessibility design workshop that was carried out with a mixture of 197 developers and digital technology students</a>.<br> <strong>sample-1176</strong> - <a class='post-link' href='https://doi.org/10.1145/3173574.3173597' target='_blank'>Our natural tendency to be curious is increasingly important now that we are exposed to vast amounts of information</a>.\n"
     ]
    }
   ],
   "source": [
    "### Template-based response (in 'html' format)\n",
    "response = convxai_agent.nlg(user_intent, explanation_dict)\n",
    "print(f\"Template-based response = {response}\")\n"
   ]
  },
  {
   "cell_type": "code",
   "execution_count": 15,
   "metadata": {},
   "outputs": [
    {
     "name": "stdout",
     "output_type": "stream",
     "text": [
      "======> Conversational XAI Demonstration <======\n",
      "User: What are some published sentences that look similar to mine semantically?\n"
     ]
    },
    {
     "data": {
      "text/html": [
       "ConvXAI: The top-3 similar examples (i.e., of selected-sentence = '<i><span class='text-info'>It is unclear if existing interpretations of deep neural network models respond effectively to the needs of users .</span>') from the <strong>CHI</strong> dataset are (Conditioned on <strong>label=0</strong>):<br> <strong>sample-5392</strong> - <a class='post-link' href='https://doi.org/10.1145/3290605.3300547' target='_blank'>We contribute to the theoretical aspect of this research by presenting an ethnographic study on alternative farming practices, in which the farm is not so much a system but an assemblage characterized by multiple systems or rationalities always evolving and changing</a>.<br> <strong>sample-4793</strong> - <a class='post-link' href='https://doi.org/10.1145/3290605.3300446' target='_blank'>We present findings from an accessibility design workshop that was carried out with a mixture of 197 developers and digital technology students</a>.<br> <strong>sample-1176</strong> - <a class='post-link' href='https://doi.org/10.1145/3173574.3173597' target='_blank'>Our natural tendency to be curious is increasingly important now that we are exposed to vast amounts of information</a>."
      ],
      "text/plain": [
       "<IPython.core.display.HTML object>"
      ]
     },
     "metadata": {},
     "output_type": "display_data"
    }
   ],
   "source": [
    "### Display the free-text explanations\n",
    "convxai_agent._visualize_single_turn_dialog(user_question_request, response)"
   ]
  },
  {
   "cell_type": "markdown",
   "metadata": {},
   "source": [
    "### Interact with ConvXAI Agent (Multi-turn Conversations)"
   ]
  },
  {
   "cell_type": "code",
   "execution_count": null,
   "metadata": {},
   "outputs": [],
   "source": []
  }
 ],
 "metadata": {
  "kernelspec": {
   "display_name": "Python 3.7.13 ('convxai_system')",
   "language": "python",
   "name": "python3"
  },
  "language_info": {
   "codemirror_mode": {
    "name": "ipython",
    "version": 3
   },
   "file_extension": ".py",
   "mimetype": "text/x-python",
   "name": "python",
   "nbconvert_exporter": "python",
   "pygments_lexer": "ipython3",
   "version": "3.7.13"
  },
  "orig_nbformat": 4,
  "vscode": {
   "interpreter": {
    "hash": "823cf206c434705dd9a64e92184d66beed56f21a987c6e2047fce748c5fc11e6"
   }
  }
 },
 "nbformat": 4,
 "nbformat_minor": 2
}
