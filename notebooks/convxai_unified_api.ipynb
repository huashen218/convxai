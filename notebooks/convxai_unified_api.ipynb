{
 "cells": [
  {
   "attachments": {},
   "cell_type": "markdown",
   "metadata": {},
   "source": [
    "### A Unified API for Heterogeneous XAIs in [ConvXAI<img src=\"../assets/logo_wotext.png\" width=\"30\">](https://arxiv.org/pdf/2305.09770.pdf)"
   ]
  },
  {
   "attachments": {},
   "cell_type": "markdown",
   "metadata": {},
   "source": [
    "This tutorial aims to demonstrate *how to use the **ConvXAI's unified API** to generate **heterogenous AI explanations***.\n",
    "\n",
    "\n",
    "1. **[Demonstration]**: Below, we demonstrate the examples for generating **10 types of AI explanations** on interpreting the **diversity_model**'s predictions. (See details of the diversity_model and 10 types XAI at [this paper](https://arxiv.org/pdf/2305.09770.pdf)).\n",
    "\n",
    "2. **[Add your owm AI & XAI models]**: However, note that the **ConvXAI API is inherently agnostic to AI models and XAI methods** -- with that said, you can add your own AI models and AI explainers to the `/convxai/ai_models` and `/convxai_ai_explainers` folders, respectively.\n",
    "\n",
    "3. **[Train your own XAI User Intent Classifier]**: If you want to train your own XAI user intern classifier, we used ChatGPT to help generate the data and a Deberta-baed model for classifier. Please see [this folder's README](https://github.com/huashen218/convxai/tree/main/convxai/xai_models/preprocessing/xai_user_intent_classification) for your need. \n",
    "\n",
    "4. **[Multi-Turn XAI Conversation for Customization]**: We currently enabled three local AI explanations with two-turn XAI customization functionality, please see '*local-ask-xai-example*', '*local-ask-feature-attribution*', '*local-ask-counterfactual*' XAI methods below."
   ]
  },
  {
   "cell_type": "code",
   "execution_count": 1,
   "metadata": {},
   "outputs": [
    {
     "name": "stderr",
     "output_type": "stream",
     "text": [
      "2023-06-19 16:58:58 INFO: Checking for updates to resources.json in case models have been updated.  Note: this behavior can be turned off with download_method=None or download_method=DownloadMethod.REUSE_RESOURCES\n",
      "2023-06-19 16:58:58,709 - Checking for updates to resources.json in case models have been updated.  Note: this behavior can be turned off with download_method=None or download_method=DownloadMethod.REUSE_RESOURCES\n"
     ]
    },
    {
     "data": {
      "application/vnd.jupyter.widget-view+json": {
       "model_id": "1dc41782263747559d9dbfc898199345",
       "version_major": 2,
       "version_minor": 0
      },
      "text/plain": [
       "Downloading https://raw.githubusercontent.com/stanfordnlp/stanza-resources/main/resources_1.4.1.json:   0%|   …"
      ]
     },
     "metadata": {},
     "output_type": "display_data"
    },
    {
     "name": "stderr",
     "output_type": "stream",
     "text": [
      "2023-06-19 16:59:01 INFO: Loading these models for language: en (English):\n",
      "============================\n",
      "| Processor    | Package   |\n",
      "----------------------------\n",
      "| tokenize     | combined  |\n",
      "| pos          | combined  |\n",
      "| lemma        | combined  |\n",
      "| depparse     | combined  |\n",
      "| sentiment    | sstplus   |\n",
      "| constituency | wsj       |\n",
      "| ner          | ontonotes |\n",
      "============================\n",
      "\n",
      "2023-06-19 16:59:01,062 - Loading these models for language: en (English):\n",
      "============================\n",
      "| Processor    | Package   |\n",
      "----------------------------\n",
      "| tokenize     | combined  |\n",
      "| pos          | combined  |\n",
      "| lemma        | combined  |\n",
      "| depparse     | combined  |\n",
      "| sentiment    | sstplus   |\n",
      "| constituency | wsj       |\n",
      "| ner          | ontonotes |\n",
      "============================\n",
      "\n",
      "2023-06-19 16:59:01 INFO: Use device: gpu\n",
      "2023-06-19 16:59:01,088 - Use device: gpu\n",
      "2023-06-19 16:59:01 INFO: Loading: tokenize\n",
      "2023-06-19 16:59:01,090 - Loading: tokenize\n",
      "2023-06-19 16:59:05 INFO: Loading: pos\n",
      "2023-06-19 16:59:05,162 - Loading: pos\n",
      "2023-06-19 16:59:05 INFO: Loading: lemma\n",
      "2023-06-19 16:59:05,874 - Loading: lemma\n",
      "2023-06-19 16:59:05 INFO: Loading: depparse\n",
      "2023-06-19 16:59:05,927 - Loading: depparse\n",
      "2023-06-19 16:59:06 INFO: Loading: sentiment\n",
      "2023-06-19 16:59:06,190 - Loading: sentiment\n",
      "2023-06-19 16:59:06 INFO: Loading: constituency\n",
      "2023-06-19 16:59:06,705 - Loading: constituency\n",
      "2023-06-19 16:59:07 INFO: Loading: ner\n",
      "2023-06-19 16:59:07,321 - Loading: ner\n",
      "2023-06-19 16:59:08 INFO: Done loading processors!\n",
      "2023-06-19 16:59:08,144 - Done loading processors!\n",
      "2023-06-19 16:59:11,272 - \n",
      "Loading writing models to be explained......\n"
     ]
    }
   ],
   "source": [
    "\"\"\"Loads the packages and ConvXAI agent.\"\"\"\n",
    "\n",
    "import sys\n",
    "import os\n",
    "\n",
    "from convxai import *\n",
    "\n",
    "import warnings\n",
    "warnings.filterwarnings(\"ignore\")\n",
    "os.environ[\"TOKENIZERS_PARALLELISM\"] = \"false\"\n",
    "\n",
    "\n",
    "convxai_agent = ConvXAI()\n"
   ]
  },
  {
   "cell_type": "code",
   "execution_count": 2,
   "metadata": {},
   "outputs": [],
   "source": [
    "\"\"\"Set the AI model input, prediction and other settings.\"\"\"\n",
    "\n",
    "ai_input = \"It is unclear if existing interpretations of deep neural network models respond effectively to the needs of users .\"\n",
    "ai_predict_output = \"background\"\n",
    "conference = \"CHI\"\n",
    "multi_turn=False\n",
    "visualize=True\n"
   ]
  },
  {
   "cell_type": "code",
   "execution_count": 3,
   "metadata": {},
   "outputs": [],
   "source": [
    "\"\"\"Human-ConvXAI Interaction with the unified API\"\"\"\n",
    "\n",
    "### 10 Types of AI Explanation Questions\n",
    "user_xai_questions = {\n",
    "    \"global-ask-data\":                \"What data did the system learn from?\",\n",
    "    \"global-ask-model\":               \"What kind of models are used?\",\n",
    "    \"global-ask-quality-score\":       \"What's the range of the style quality scores?\",\n",
    "    \"global-ask-label-distribution\":  \"How are structure labels distributed in the dataset?\",\n",
    "    \"global-ask-sent-length\":         \"What's the statistics of the sentence lengths?\",\n",
    "    \"local-ask-model-confidence\":     \"How confident is this prediction?\",\n",
    "    \"local-ask-xai-example\":          \"What are some published sentences that look similar to mine semantically?\",\n",
    "    \"local-ask-feature-attribution\":  \"Which words in this sentence are most important for this prediction?\",\n",
    "    \"local-ask-counterfactual\":       \"How can I revise the input to get a different prediction?\",\n",
    "    \"others\":                         \"Who are you?\"\n",
    "    }"
   ]
  },
  {
   "attachments": {},
   "cell_type": "markdown",
   "metadata": {},
   "source": [
    "### Global AI Explanations -- generating AI explanation for meta information"
   ]
  },
  {
   "attachments": {},
   "cell_type": "markdown",
   "metadata": {},
   "source": [
    "**[XAI Type 1]** - global AI explanation for describing dataset"
   ]
  },
  {
   "cell_type": "code",
   "execution_count": 4,
   "metadata": {},
   "outputs": [
    {
     "data": {
      "text/html": [
       "<div style='float: left; width: 50%; padding: 4px 10px; border-radius: 6px 6px 1px 6px; background: #347AB7; color: white;'>\n",
       "            what data did the system learn from?\n",
       "        </div>\n",
       "        <div style='float: left;'>\n",
       "            :👩🏻‍💻\n",
       "        </div>\n",
       "        "
      ],
      "text/plain": [
       "<IPython.core.display.HTML object>"
      ]
     },
     "metadata": {},
     "output_type": "display_data"
    },
    {
     "data": {
      "text/html": [
       "\n",
       "        <div style='float: left;'>\n",
       "            👨🏼‍🏫:\n",
       "        </div>\n",
       "        <div style='float: left; width: 50%; padding: 4px 10px; border-radius: 6px 6px 6px 1px; background: #B1CFE7;'>\n",
       "            Sure! We are comparing your writing with our collected <strong>CHI Paper Abstract</strong> dataset to generate the above review. The dataset includes <strong>21643 sentences</strong> in <strong>3235 papers</strong>. \n",
       "    \n",
       "        </div>\n",
       "        "
      ],
      "text/plain": [
       "<IPython.core.display.HTML object>"
      ]
     },
     "metadata": {},
     "output_type": "display_data"
    }
   ],
   "source": [
    "user_xai_question = user_xai_questions['global-ask-data']\n",
    "response = convxai_agent.explain(\n",
    "    user_xai_question, \n",
    "    ai_input, \n",
    "    ai_predict_output, \n",
    "    conference, \n",
    "    visualize=visualize\n",
    "    )"
   ]
  },
  {
   "attachments": {},
   "cell_type": "markdown",
   "metadata": {},
   "source": [
    "**[XAI Type 2]** - global AI explanation for describing models"
   ]
  },
  {
   "cell_type": "code",
   "execution_count": 5,
   "metadata": {},
   "outputs": [
    {
     "data": {
      "text/html": [
       "<div style='float: left; width: 50%; padding: 4px 10px; border-radius: 6px 6px 1px 6px; background: #347AB7; color: white;'>\n",
       "            what kind of models are used?\n",
       "        </div>\n",
       "        <div style='float: left;'>\n",
       "            :👩🏻‍💻\n",
       "        </div>\n",
       "        "
      ],
      "text/plain": [
       "<IPython.core.display.HTML object>"
      ]
     },
     "metadata": {},
     "output_type": "display_data"
    },
    {
     "data": {
      "text/html": [
       "\n",
       "        <div style='float: left;'>\n",
       "            👨🏼‍🏫:\n",
       "        </div>\n",
       "        <div style='float: left; width: 50%; padding: 4px 10px; border-radius: 6px 6px 6px 1px; background: #B1CFE7;'>\n",
       "            Of course! The <strong>Writing Structure Model</strong> is a <a class='post-link' href='https://arxiv.org/pdf/1903.10676.pdf' target='_blank'>SciBERT</a> based classifier finetuned with the <a class='post-link' href='https://arxiv.org/pdf/2005.02367.pdf' target='_blank'>CODA-19</a> dataset. Also, the <strong>Writing Style Model</strong> is a <a class='post-link' href='https://openai.com/blog/tags/gpt-2/' target='_blank'>GPT-2</a> based generative model finetuned with <strong>9935 abstracts</strong> from <a class='post-link' href='https://dl.acm.org/conference/chi' target='_blank'>CHI</a>, <a class='post-link' href='https://aclanthology.org/venues/acl/' target='_blank'>ACL</a> and <a class='post-link' href='https://iclr.cc/Conferences/2023' target='_blank'>ICLR</a> papers (click the terms to view more).\n",
       "        </div>\n",
       "        "
      ],
      "text/plain": [
       "<IPython.core.display.HTML object>"
      ]
     },
     "metadata": {},
     "output_type": "display_data"
    }
   ],
   "source": [
    "user_xai_question = user_xai_questions['global-ask-model']\n",
    "response = convxai_agent.explain(\n",
    "    user_xai_question, \n",
    "    ai_input, \n",
    "    ai_predict_output, \n",
    "    conference, \n",
    "    visualize=visualize\n",
    "    )"
   ]
  },
  {
   "attachments": {},
   "cell_type": "markdown",
   "metadata": {},
   "source": [
    "**[XAI Type 3]** - global AI explanation for describing quality scores"
   ]
  },
  {
   "cell_type": "code",
   "execution_count": 6,
   "metadata": {},
   "outputs": [
    {
     "data": {
      "text/html": [
       "<div style='float: left; width: 50%; padding: 4px 10px; border-radius: 6px 6px 1px 6px; background: #347AB7; color: white;'>\n",
       "            what's the range of the style quality scores?\n",
       "        </div>\n",
       "        <div style='float: left;'>\n",
       "            :👩🏻‍💻\n",
       "        </div>\n",
       "        "
      ],
      "text/plain": [
       "<IPython.core.display.HTML object>"
      ]
     },
     "metadata": {},
     "output_type": "display_data"
    },
    {
     "data": {
      "text/html": [
       "\n",
       "        <div style='float: left;'>\n",
       "            👨🏼‍🏫:\n",
       "        </div>\n",
       "        <div style='float: left; width: 50%; padding: 4px 10px; border-radius: 6px 6px 6px 1px; background: #B1CFE7;'>\n",
       "            \n",
       "    We use each sentence's <strong>Perplexity</strong> value (predicted by the GPT-2 model) to compute the <strong>Quality Style Score</strong>. Lower perplexity score means better quality for CHI.\n",
       "    <br>\n",
       "    <br>\n",
       "    We set the criteria by dividing into five levels based on [20-th, 40-th, 60-th, 80-th] percentiles of all the CHI papers' perplexity scores.\n",
       "    <br>\n",
       "    <br>\n",
       "    For example, the percentiles = [61.8875, 77.8445, 95.7494, 124.9658]), resulting in the criterion:\n",
       "    \n",
       "    <br>\n",
       "    <style>\n",
       "        .demo {\n",
       "            border:1px solid #EDEDED;\n",
       "            border-collapse:separate;\n",
       "            border-spacing:2px;\n",
       "            padding:5px;\n",
       "        }\n",
       "        .demo th {\n",
       "            border:1px solid #EDEDED;\n",
       "            padding:5px;\n",
       "            background:#D6D6D6;\n",
       "        }\n",
       "        .demo td {\n",
       "            border:1px solid #EDEDED;\n",
       "            text-align:center;\n",
       "            padding:5px;\n",
       "            background:#F5F5F5;\n",
       "        }\n",
       "    </style>\n",
       "    \n",
       "    <table class=\"demo\">\n",
       "        <caption><br></caption>\n",
       "        <thead>\n",
       "        <tr>\n",
       "            <th>Quality Score</th>\n",
       "            <th>Perplexity (PPL)</th>\n",
       "        </tr>\n",
       "        </thead>\n",
       "        <tbody>\n",
       "        <tr>\n",
       "            <td>1 (lowest)</td>\n",
       "            <td>124.9658 &lt; PPL<br></td>\n",
       "        </tr>\n",
       "        <tr>\n",
       "            <td>2</td>\n",
       "            <td>95.7494 &lt; PPL &lt;= 124.9658&nbsp;</td>\n",
       "        </tr>\n",
       "        <tr>\n",
       "            <td>3</td>\n",
       "            <td>77.8445 &lt; PPL &lt;= 95.7494&nbsp;</td>\n",
       "        </tr>\n",
       "        <tr>\n",
       "            <td>4</td>\n",
       "            <td>61.8875 &lt; PPL &lt;= 77.8445&nbsp;</td>\n",
       "        </tr>\n",
       "        <tr>\n",
       "            <td>5 (highest)</td>\n",
       "            <td>PPL &lt;= 61.8875&nbsp;</td>\n",
       "        </tr>\n",
       "        <tbody>\n",
       "    </table>\n",
       "    \n",
       "        </div>\n",
       "        "
      ],
      "text/plain": [
       "<IPython.core.display.HTML object>"
      ]
     },
     "metadata": {},
     "output_type": "display_data"
    }
   ],
   "source": [
    "user_xai_question = user_xai_questions['global-ask-quality-score']\n",
    "response = convxai_agent.explain(\n",
    "    user_xai_question, \n",
    "    ai_input, \n",
    "    ai_predict_output, \n",
    "    conference, \n",
    "    visualize=visualize\n",
    "    )"
   ]
  },
  {
   "attachments": {},
   "cell_type": "markdown",
   "metadata": {},
   "source": [
    "**[XAI Type 4]** - global AI explanation for describing label distribution in dataset"
   ]
  },
  {
   "cell_type": "code",
   "execution_count": 7,
   "metadata": {},
   "outputs": [
    {
     "data": {
      "text/html": [
       "<div style='float: left; width: 50%; padding: 4px 10px; border-radius: 6px 6px 1px 6px; background: #347AB7; color: white;'>\n",
       "            how are structure labels distributed in the dataset?\n",
       "        </div>\n",
       "        <div style='float: left;'>\n",
       "            :👩🏻‍💻\n",
       "        </div>\n",
       "        "
      ],
      "text/plain": [
       "<IPython.core.display.HTML object>"
      ]
     },
     "metadata": {},
     "output_type": "display_data"
    },
    {
     "data": {
      "text/html": [
       "\n",
       "        <div style='float: left;'>\n",
       "            👨🏼‍🏫:\n",
       "        </div>\n",
       "        <div style='float: left; width: 50%; padding: 4px 10px; border-radius: 6px 6px 6px 1px; background: #B1CFE7;'>\n",
       "            We use the Research Aspects Model to generate <strong>aspect sequences</strong> of all 9935 paper abstracts. Then we cluster these sequences into <strong>five patterns</strong> as below. We compare your writing with these patterns for review.\n",
       "    <br>\n",
       "    <style>\n",
       "        .demo {\n",
       "            border:1px solid #EDEDED;\n",
       "            border-collapse:separate;\n",
       "            border-spacing:2px;\n",
       "            padding:5px;\n",
       "        }\n",
       "        .demo th {\n",
       "            border:1px solid #EDEDED;\n",
       "            padding:5px;\n",
       "            background:#D6D6D6;\n",
       "        }\n",
       "        .demo td {\n",
       "            border:1px solid #EDEDED;\n",
       "            text-align:center;\n",
       "            padding:5px;\n",
       "            background:#F5F5F5;\n",
       "        }\n",
       "    </style>\n",
       "     \n",
       "    <table class=\"demo\">\n",
       "        <caption><br></caption>\n",
       "        <thead>\n",
       "        <tr>\n",
       "            <th>Types</th>\n",
       "            <th>Patterns</th>\n",
       "        </tr>\n",
       "        </thead>\n",
       "        <tbody>\n",
       "        <tr>\n",
       "            <td>Pattern1</td>\n",
       "            <td>'background' (42.9%) -&gt; 'purpose' (14.3%)  -&gt; 'finding' (42.9%)</td>\n",
       "        </tr>\n",
       "        <tr>\n",
       "            <td>Pattern2&nbsp;</td>\n",
       "            <td>'background' (22.2%) -&gt; 'purpose' (11.2%) -&gt; 'method' (33.3%) -&gt; 'finding' (33.3%)</td>\n",
       "        </tr>\n",
       "        <tr>\n",
       "            <td>Pattern3&nbsp;</td>\n",
       "            <td>'background' (33.3%) -&gt; 'purpose' (16.7%) -&gt; 'method' (16.7%)  -&gt; 'finding' (33.3%)</td>\n",
       "        </tr>\n",
       "        <tr>\n",
       "            <td>Pattern4</td>\n",
       "            <td>'background' (33.3%) -&gt; 'method' (16.7%)  -&gt;  'finding' (50%)</td>\n",
       "        </tr>\n",
       "        <tr>\n",
       "            <td>Pattern5</td>\n",
       "            <td>'background' (20%)   -&gt; 'finding' (6.7%)  -&gt;  'background' (13.3%) -&gt; 'purpose' (6.7%) -&gt; 'background' (13.3%) -&gt; 'finding' (6.7%) -&gt; 'method' (6.7%) -&gt; 'finding' (26.7%)</td>\n",
       "        </tr>\n",
       "        <tbody>\n",
       "    </table>\n",
       "    \n",
       "        </div>\n",
       "        "
      ],
      "text/plain": [
       "<IPython.core.display.HTML object>"
      ]
     },
     "metadata": {},
     "output_type": "display_data"
    }
   ],
   "source": [
    "user_xai_question = user_xai_questions['global-ask-label-distribution']\n",
    "response = convxai_agent.explain(\n",
    "    user_xai_question, \n",
    "    ai_input, \n",
    "    ai_predict_output, \n",
    "    conference, \n",
    "    visualize=visualize\n",
    "    )"
   ]
  },
  {
   "attachments": {},
   "cell_type": "markdown",
   "metadata": {},
   "source": [
    "**[XAI Type 5]** - global AI explanation for describing sentence length distribution in dataset"
   ]
  },
  {
   "cell_type": "code",
   "execution_count": 8,
   "metadata": {},
   "outputs": [
    {
     "data": {
      "text/html": [
       "<div style='float: left; width: 50%; padding: 4px 10px; border-radius: 6px 6px 1px 6px; background: #347AB7; color: white;'>\n",
       "            what's the statistics of the sentence lengths?\n",
       "        </div>\n",
       "        <div style='float: left;'>\n",
       "            :👩🏻‍💻\n",
       "        </div>\n",
       "        "
      ],
      "text/plain": [
       "<IPython.core.display.HTML object>"
      ]
     },
     "metadata": {},
     "output_type": "display_data"
    },
    {
     "data": {
      "text/html": [
       "\n",
       "        <div style='float: left;'>\n",
       "            👨🏼‍🏫:\n",
       "        </div>\n",
       "        <div style='float: left; width: 50%; padding: 4px 10px; border-radius: 6px 6px 6px 1px; background: #B1CFE7;'>\n",
       "            \n",
       "    The [20th, 40th, 50th, 60th, 80th] percentiles of the sentence lengths in the CHI conference are <strong>{'all': [17.0, 21.0, 24.0, 26.0, 33.0], 'background': [15.0, 20.0, 22.0, 24.0, 29.0], 'purpose': [19.0, 24.0, 26.0, 28.0, 35.0], 'method': [18.0, 23.0, 25.0, 28.0, 35.0], 'finding': [17.0, 22.0, 24.0, 27.0, 33.0], 'other': [2.0, 3.8, 6.5, 7.2, 10.0]}</strong> words. \n",
       "    \n",
       "        </div>\n",
       "        "
      ],
      "text/plain": [
       "<IPython.core.display.HTML object>"
      ]
     },
     "metadata": {},
     "output_type": "display_data"
    }
   ],
   "source": [
    "user_xai_question = user_xai_questions['global-ask-sent-length']\n",
    "response = convxai_agent.explain(\n",
    "    user_xai_question, \n",
    "    ai_input, \n",
    "    ai_predict_output, \n",
    "    conference, \n",
    "    visualize=visualize\n",
    "    )"
   ]
  },
  {
   "attachments": {},
   "cell_type": "markdown",
   "metadata": {},
   "source": [
    "### Local AI Explanations -- generating instance-wise AI explanation."
   ]
  },
  {
   "attachments": {},
   "cell_type": "markdown",
   "metadata": {},
   "source": [
    "**[XAI Type 6]** - local AI explanation for generating model confidence score"
   ]
  },
  {
   "cell_type": "code",
   "execution_count": 9,
   "metadata": {},
   "outputs": [
    {
     "data": {
      "text/html": [
       "<div style='float: left; width: 50%; padding: 4px 10px; border-radius: 6px 6px 1px 6px; background: #347AB7; color: white;'>\n",
       "            how confident is this prediction?\n",
       "        </div>\n",
       "        <div style='float: left;'>\n",
       "            :👩🏻‍💻\n",
       "        </div>\n",
       "        "
      ],
      "text/plain": [
       "<IPython.core.display.HTML object>"
      ]
     },
     "metadata": {},
     "output_type": "display_data"
    },
    {
     "data": {
      "text/html": [
       "\n",
       "        <div style='float: left;'>\n",
       "            👨🏼‍🏫:\n",
       "        </div>\n",
       "        <div style='float: left; width: 50%; padding: 4px 10px; border-radius: 6px 6px 6px 1px; background: #B1CFE7;'>\n",
       "            Given your selected sentence = <span class='text-info'>It is unclear if existing interpretations of deep neural network models respond effectively to the needs of users .</span>, the model predicts a <strong>'background' aspect</strong> label with <strong>confidence score = 0.8926</strong>. \n",
       "        </div>\n",
       "        "
      ],
      "text/plain": [
       "<IPython.core.display.HTML object>"
      ]
     },
     "metadata": {},
     "output_type": "display_data"
    }
   ],
   "source": [
    "user_xai_question = user_xai_questions['local-ask-model-confidence']\n",
    "response = convxai_agent.explain(\n",
    "    user_xai_question, \n",
    "    ai_input, \n",
    "    ai_predict_output, \n",
    "    conference, \n",
    "    visualize=visualize\n",
    "    )"
   ]
  },
  {
   "attachments": {},
   "cell_type": "markdown",
   "metadata": {},
   "source": [
    "**[XAI Type 7]** - **[Two-turn XAI Customization]** local AI explanation for generating similar examples with customization"
   ]
  },
  {
   "cell_type": "code",
   "execution_count": 10,
   "metadata": {},
   "outputs": [
    {
     "data": {
      "text/html": [
       "<div style='float: left; width: 50%; padding: 4px 10px; border-radius: 6px 6px 1px 6px; background: #347AB7; color: white;'>\n",
       "            what are some published sentences that look similar to mine semantically?\n",
       "        </div>\n",
       "        <div style='float: left;'>\n",
       "            :👩🏻‍💻\n",
       "        </div>\n",
       "        "
      ],
      "text/plain": [
       "<IPython.core.display.HTML object>"
      ]
     },
     "metadata": {},
     "output_type": "display_data"
    },
    {
     "data": {
      "text/html": [
       "\n",
       "        <div style='float: left;'>\n",
       "            👨🏼‍🏫:\n",
       "        </div>\n",
       "        <div style='float: left; width: 50%; padding: 4px 10px; border-radius: 6px 6px 6px 1px; background: #B1CFE7;'>\n",
       "            The top-3 similar examples (i.e., of selected-sentence = '<i><span class='text-info'>It is unclear if existing interpretations of deep neural network models respond effectively to the needs of users .</span>') from the <strong>CHI</strong> dataset are (<strong>label=background, rank=None</strong>):<br> <strong>sample-16698</strong> - <a class='post-link' href='https://doi.org/10.1145/3411764.3445204' target='_blank'>It is unclear whether the decision process varies by age</a>.<br> <strong>sample-14896</strong> - <a class='post-link' href='https://doi.org/10.1145/3411764.3445472' target='_blank'>However, there is limited knowledge on the potential of these systems</a>.<br> <strong>sample-3639</strong> - <a class='post-link' href='https://doi.org/10.1145/3290605.3300256' target='_blank'>However, it is unclear how context impacts users' sharing decisions</a>.\n",
       "        </div>\n",
       "        "
      ],
      "text/plain": [
       "<IPython.core.display.HTML object>"
      ]
     },
     "metadata": {},
     "output_type": "display_data"
    },
    {
     "data": {
      "text/html": [
       "\n",
       "        <div style='float: left;'>\n",
       "            👨🏼‍🏫:\n",
       "        </div>\n",
       "        <div style='float: left; width: 50%; padding: 4px 10px; border-radius: 6px 6px 6px 1px; background: #B1CFE7;'>\n",
       "            Want to check more examples with other conditions?\n",
       "                        <br><br>\n",
       "                        You can specify:\n",
       "                        <br> -<span class='text-danger font-weight-bold'>label:your_label</span>.  The selected examples are all predicted as this label.\n",
       "                        <br> -<span class='text-danger font-weight-bold'>keyword:your_keyword</span>.  All selected exampls contain this keyword.\n",
       "                        <br> -<span class='text-danger font-weight-bold'>rank:your_rank_method</span>. The selected examples are also ranked by quality score ('quality_score'), or longer length ('long'), or shorter length ('short').\n",
       "                        <br> -<span class='text-danger font-weight-bold'>count:your_top_k</span>. How many examples to be shown.\n",
       "                        <br><br> Please specify ONE or MORE of them by\n",
       "                        <span class='font-weight-bold'>'label:your_label, keyword:your_keyword, rank:your_rank_method, count:your_top_k'</span>\n",
       "                        <br>(e.g., <span class='text-danger font-weight-bold'>'count:8'</span>, or <span class='text-danger font-weight-bold'>'label:background, keyword:time, rank:quality_score, count:6'</span>).\n",
       "                        \n",
       "        </div>\n",
       "        "
      ],
      "text/plain": [
       "<IPython.core.display.HTML object>"
      ]
     },
     "metadata": {},
     "output_type": "display_data"
    },
    {
     "data": {
      "text/html": [
       "<div style='float: left; width: 50%; padding: 4px 10px; border-radius: 6px 6px 1px 6px; background: #347AB7; color: white;'>\n",
       "            label:background, keyword:time, rank:quality_score, count:6\n",
       "        </div>\n",
       "        <div style='float: left;'>\n",
       "            :👩🏻‍💻\n",
       "        </div>\n",
       "        "
      ],
      "text/plain": [
       "<IPython.core.display.HTML object>"
      ]
     },
     "metadata": {},
     "output_type": "display_data"
    },
    {
     "data": {
      "text/html": [
       "\n",
       "        <div style='float: left;'>\n",
       "            👨🏼‍🏫:\n",
       "        </div>\n",
       "        <div style='float: left; width: 50%; padding: 4px 10px; border-radius: 6px 6px 6px 1px; background: #B1CFE7;'>\n",
       "            The top-6 similar examples (i.e., of selected-sentence = '<i><span class='text-info'>It is unclear if existing interpretations of deep neural network models respond effectively to the needs of users .</span>') from the <strong>CHI</strong> dataset are (<strong>label=background, rank=quality_score</strong>):<br> <strong>sample-15778</strong> - <a class='post-link' href='https://doi.org/10.1145/3411764.3445478' target='_blank'>Evaluating novel authentication systems is often costly and time-consuming</a>.<br> <strong>sample-13008</strong> - <a class='post-link' href='https://doi.org/10.1145/3411764.3445667' target='_blank'>However, many of them stop after a relatively short time</a>.<br> <strong>sample-2951</strong> - <a class='post-link' href='https://doi.org/10.1145/3173574.3173885' target='_blank'>Preparing for exams is an important yet stressful time for many students</a>.<br> <strong>sample-2077</strong> - <a class='post-link' href='https://doi.org/10.1145/3173574.3173743' target='_blank'>However, collecting regularly scheduled pain readings from patients can be difficult and time-consuming for clinicians</a>.<br> <strong>sample-13175</strong> - <a class='post-link' href='https://doi.org/10.1145/3411764.3445689' target='_blank'>Many serious games are most effective when played regularly; however, little is known about how individual game elements support player adherence over time</a>.<br> <strong>sample-2088</strong> - <a class='post-link' href='https://doi.org/10.1145/3173574.3173745' target='_blank'>While the number of users sporting fitness trackers is constantly increasing, little is understood about how tracking goals can evolve over time</a>.\n",
       "        </div>\n",
       "        "
      ],
      "text/plain": [
       "<IPython.core.display.HTML object>"
      ]
     },
     "metadata": {},
     "output_type": "display_data"
    }
   ],
   "source": [
    "user_xai_question = user_xai_questions['local-ask-xai-example']\n",
    "response = convxai_agent.explain(\n",
    "    user_xai_question, \n",
    "    ai_input, \n",
    "    ai_predict_output, \n",
    "    conference, \n",
    "    visualize=visualize\n",
    "    )\n",
    "\n",
    "user_xai_question_follow_up_example = \"label:background, keyword:time, rank:quality_score, count:6\"\n",
    "response = convxai_agent.explain(\n",
    "    user_xai_question_follow_up_example, \n",
    "    ai_input, \n",
    "    ai_predict_output, \n",
    "    conference, \n",
    "    visualize=visualize\n",
    "    )"
   ]
  },
  {
   "attachments": {},
   "cell_type": "markdown",
   "metadata": {},
   "source": [
    "**[XAI Type 8]** - **[Two-turn XAI Customization]** local AI explanation for feature attributions with customization"
   ]
  },
  {
   "cell_type": "code",
   "execution_count": 11,
   "metadata": {},
   "outputs": [
    {
     "data": {
      "text/html": [
       "<div style='float: left; width: 50%; padding: 4px 10px; border-radius: 6px 6px 1px 6px; background: #347AB7; color: white;'>\n",
       "            which words in this sentence are most important for this prediction?\n",
       "        </div>\n",
       "        <div style='float: left;'>\n",
       "            :👩🏻‍💻\n",
       "        </div>\n",
       "        "
      ],
      "text/plain": [
       "<IPython.core.display.HTML object>"
      ]
     },
     "metadata": {},
     "output_type": "display_data"
    },
    {
     "data": {
      "text/html": [
       "\n",
       "        <div style='float: left;'>\n",
       "            👨🏼‍🏫:\n",
       "        </div>\n",
       "        <div style='float: left; width: 50%; padding: 4px 10px; border-radius: 6px 6px 6px 1px; background: #B1CFE7;'>\n",
       "            The <strong>TOP-3</strong> important words (Conditioned on <strong>label=background</strong>) are highlighted as below: <br><br>  <b><span style=\"font-weight: normal;\">it</span></b> <b><span style=\"font-weight: normal;\">is</span></b> <b><span style=\"font-weight: bold; background-color: #F9B261; border-radius: 5px;\">unclear</span></b> <b><span style=\"font-weight: normal;\">if</span></b> <b><span style=\"font-weight: normal;\">existing</span></b> <b><span style=\"font-weight: bold; background-color: #F9B261; border-radius: 5px;\">interpretations</span></b> <b><span style=\"font-weight: normal;\">of</span></b> <b><span style=\"font-weight: normal;\">deep</span></b> <b><span style=\"font-weight: bold; background-color: #F9B261; border-radius: 5px;\">neural</span></b> <b><span style=\"font-weight: normal;\">network</span></b> <b><span style=\"font-weight: normal;\">models</span></b> <b><span style=\"font-weight: normal;\">respond</span></b> <b><span style=\"font-weight: normal;\">effectively</span></b> <b><span style=\"font-weight: normal;\">to</span></b> <b><span style=\"font-weight: normal;\">the</span></b> <b><span style=\"font-weight: normal;\">needs</span></b> <b><span style=\"font-weight: normal;\">of</span></b> <b><span style=\"font-weight: normal;\">users</span></b> <b><span style=\"font-weight: normal;\">.</span></b>\n",
       "        </div>\n",
       "        "
      ],
      "text/plain": [
       "<IPython.core.display.HTML object>"
      ]
     },
     "metadata": {},
     "output_type": "display_data"
    },
    {
     "data": {
      "text/html": [
       "\n",
       "        <div style='float: left;'>\n",
       "            👨🏼‍🏫:\n",
       "        </div>\n",
       "        <div style='float: left; width: 50%; padding: 4px 10px; border-radius: 6px 6px 6px 1px; background: #B1CFE7;'>\n",
       "            Want to highlight <span class='text-danger font-weight-bold'>more important words for another label</span>? Please type <span class='text-danger font-weight-bold'>'word number + label'</span> (e.g., '6 + method'), <br><br> Or just say '<span class='text-danger font-weight-bold'>No</span>' if you don't need more examples : ).\n",
       "        </div>\n",
       "        "
      ],
      "text/plain": [
       "<IPython.core.display.HTML object>"
      ]
     },
     "metadata": {},
     "output_type": "display_data"
    },
    {
     "data": {
      "text/html": [
       "<div style='float: left; width: 50%; padding: 4px 10px; border-radius: 6px 6px 1px 6px; background: #347AB7; color: white;'>\n",
       "            6 + method\n",
       "        </div>\n",
       "        <div style='float: left;'>\n",
       "            :👩🏻‍💻\n",
       "        </div>\n",
       "        "
      ],
      "text/plain": [
       "<IPython.core.display.HTML object>"
      ]
     },
     "metadata": {},
     "output_type": "display_data"
    },
    {
     "data": {
      "text/html": [
       "\n",
       "        <div style='float: left;'>\n",
       "            👨🏼‍🏫:\n",
       "        </div>\n",
       "        <div style='float: left; width: 50%; padding: 4px 10px; border-radius: 6px 6px 6px 1px; background: #B1CFE7;'>\n",
       "            The <strong>TOP-6</strong> important words (Conditioned on <strong>label=method</strong>) are highlighted as below: <br><br>  <b><span style=\"font-weight: normal;\">it</span></b> <b><span style=\"font-weight: normal;\">is</span></b> <b><span style=\"font-weight: bold; background-color: #F9B261; border-radius: 5px;\">unclear</span></b> <b><span style=\"font-weight: normal;\">if</span></b> <b><span style=\"font-weight: normal;\">existing</span></b> <b><span style=\"font-weight: bold; background-color: #F9B261; border-radius: 5px;\">interpretations</span></b> <b><span style=\"font-weight: normal;\">of</span></b> <b><span style=\"font-weight: bold; background-color: #F9B261; border-radius: 5px;\">deep</span></b> <b><span style=\"font-weight: bold; background-color: #F9B261; border-radius: 5px;\">neural</span></b> <b><span style=\"font-weight: normal;\">network</span></b> <b><span style=\"font-weight: normal;\">models</span></b> <b><span style=\"font-weight: normal;\">respond</span></b> <b><span style=\"font-weight: normal;\">effectively</span></b> <b><span style=\"font-weight: normal;\">to</span></b> <b><span style=\"font-weight: normal;\">the</span></b> <b><span style=\"font-weight: bold; background-color: #F9B261; border-radius: 5px;\">needs</span></b> <b><span style=\"font-weight: normal;\">of</span></b> <b><span style=\"font-weight: bold; background-color: #F9B261; border-radius: 5px;\">users</span></b> <b><span style=\"font-weight: normal;\">.</span></b>\n",
       "        </div>\n",
       "        "
      ],
      "text/plain": [
       "<IPython.core.display.HTML object>"
      ]
     },
     "metadata": {},
     "output_type": "display_data"
    }
   ],
   "source": [
    "user_xai_question = user_xai_questions['local-ask-feature-attribution']\n",
    "response = convxai_agent.explain(\n",
    "    user_xai_question, \n",
    "    ai_input, \n",
    "    ai_predict_output, \n",
    "    conference, \n",
    "    visualize=visualize\n",
    "    )\n",
    "\n",
    "user_xai_question_follow_up_example = \"6 + method\"\n",
    "response = convxai_agent.explain(\n",
    "    user_xai_question_follow_up_example, \n",
    "    ai_input, \n",
    "    ai_predict_output, \n",
    "    conference, \n",
    "    visualize=visualize\n",
    "    )"
   ]
  },
  {
   "attachments": {},
   "cell_type": "markdown",
   "metadata": {},
   "source": [
    "**[XAI Type 9]** - **[Two-turn XAI Customization]** local AI explanation for generating counterfactual with customized labels"
   ]
  },
  {
   "cell_type": "code",
   "execution_count": 12,
   "metadata": {},
   "outputs": [
    {
     "name": "stderr",
     "output_type": "stream",
     "text": [
      "2023-06-19 16:59:59,642 - Load pretrained SentenceTransformer: all-MiniLM-L6-v2\n",
      "2023-06-19 17:00:01,454 - Use pytorch device: cuda\n"
     ]
    },
    {
     "data": {
      "application/vnd.jupyter.widget-view+json": {
       "model_id": "2d258834afe243fb8c6cba49f53e3ac5",
       "version_major": 2,
       "version_minor": 0
      },
      "text/plain": [
       "Batches:   0%|          | 0/1 [00:00<?, ?it/s]"
      ]
     },
     "metadata": {},
     "output_type": "display_data"
    },
    {
     "data": {
      "text/html": [
       "<div style='float: left; width: 50%; padding: 4px 10px; border-radius: 6px 6px 1px 6px; background: #347AB7; color: white;'>\n",
       "            how can i revise the input to get a different prediction?\n",
       "        </div>\n",
       "        <div style='float: left;'>\n",
       "            :👩🏻‍💻\n",
       "        </div>\n",
       "        "
      ],
      "text/plain": [
       "<IPython.core.display.HTML object>"
      ]
     },
     "metadata": {},
     "output_type": "display_data"
    },
    {
     "data": {
      "text/html": [
       "\n",
       "        <div style='float: left;'>\n",
       "            👨🏼‍🏫:\n",
       "        </div>\n",
       "        <div style='float: left; width: 50%; padding: 4px 10px; border-radius: 6px 6px 6px 1px; background: #B1CFE7;'>\n",
       "            The most likely counterfactual label is <strong>'finding'</strong>. You can get this label by revising from \n",
       "'<span class='text-info'>It is unclear if existing interpretations of deep neural network models respond effectively to the needs of users .</span>\n",
       "' into: \n",
       " <br>'<em><span class='text-secondary'><b><span style='font-weight: bold; background-color: #F9B261; border-radius: 5px;'>\"We</span></b> <b><span style='font-weight: bold; background-color: #F9B261; border-radius: 5px;'>find</span></b> <b><span style='font-weight: bold; background-color: #F9B261; border-radius: 5px;'>it</span></b> unclear if existing interpretations of deep neural network models <b><span style='font-weight: bold; background-color: #F9B261; border-radius: 5px;'>effectively</span></b> respond to the needs of users <b><span style='font-weight: bold; background-color: #F9B261; border-radius: 5px;'>\"</span></b> </span></em>'.\n",
       "        </div>\n",
       "        "
      ],
      "text/plain": [
       "<IPython.core.display.HTML object>"
      ]
     },
     "metadata": {},
     "output_type": "display_data"
    },
    {
     "data": {
      "text/html": [
       "\n",
       "        <div style='float: left;'>\n",
       "            👨🏼‍🏫:\n",
       "        </div>\n",
       "        <div style='float: left; width: 50%; padding: 4px 10px; border-radius: 6px 6px 6px 1px; background: #B1CFE7;'>\n",
       "            Would you like to <span class='text-danger font-weight-bold'>set another contrastive label</span> to change to? Please type the label from <span class='text-danger font-weight-bold'>'background', 'method', 'purpose', 'finding', 'others'</span>, or reply 'No' if you won't need.\n",
       "        </div>\n",
       "        "
      ],
      "text/plain": [
       "<IPython.core.display.HTML object>"
      ]
     },
     "metadata": {},
     "output_type": "display_data"
    },
    {
     "name": "stderr",
     "output_type": "stream",
     "text": [
      "2023-06-19 17:00:06,378 - Load pretrained SentenceTransformer: all-MiniLM-L6-v2\n",
      "2023-06-19 17:00:08,043 - Use pytorch device: cuda\n"
     ]
    },
    {
     "data": {
      "application/vnd.jupyter.widget-view+json": {
       "model_id": "82f16533ed374dd6a2b896eee73afb6a",
       "version_major": 2,
       "version_minor": 0
      },
      "text/plain": [
       "Batches:   0%|          | 0/1 [00:00<?, ?it/s]"
      ]
     },
     "metadata": {},
     "output_type": "display_data"
    },
    {
     "data": {
      "text/html": [
       "<div style='float: left; width: 50%; padding: 4px 10px; border-radius: 6px 6px 1px 6px; background: #347AB7; color: white;'>\n",
       "            background\n",
       "        </div>\n",
       "        <div style='float: left;'>\n",
       "            :👩🏻‍💻\n",
       "        </div>\n",
       "        "
      ],
      "text/plain": [
       "<IPython.core.display.HTML object>"
      ]
     },
     "metadata": {},
     "output_type": "display_data"
    },
    {
     "data": {
      "text/html": [
       "\n",
       "        <div style='float: left;'>\n",
       "            👨🏼‍🏫:\n",
       "        </div>\n",
       "        <div style='float: left; width: 50%; padding: 4px 10px; border-radius: 6px 6px 6px 1px; background: #B1CFE7;'>\n",
       "            The most likely counterfactual label is <strong>'background'</strong>. You can get this label by revising from \n",
       "'<span class='text-info'>It is unclear if existing interpretations of deep neural network models respond effectively to the needs of users .</span>\n",
       "' into: \n",
       " <br>'<em><span class='text-secondary'><b><span style='font-weight: bold; background-color: #F9B261; border-radius: 5px;'>\"It</span></b> is unclear if <b><span style='font-weight: bold; background-color: #F9B261; border-radius: 5px;'>the</span></b> existing interpretations of deep neural network models <b><span style='font-weight: bold; background-color: #F9B261; border-radius: 5px;'>adequately</span></b> <b><span style='font-weight: bold; background-color: #F9B261; border-radius: 5px;'>address</span></b> the needs of users <b><span style='font-weight: bold; background-color: #F9B261; border-radius: 5px;'>\"</span></b> </span></em>'.\n",
       "        </div>\n",
       "        "
      ],
      "text/plain": [
       "<IPython.core.display.HTML object>"
      ]
     },
     "metadata": {},
     "output_type": "display_data"
    }
   ],
   "source": [
    "user_xai_question = user_xai_questions['local-ask-counterfactual']\n",
    "response = convxai_agent.explain(\n",
    "    user_xai_question, \n",
    "    ai_input, \n",
    "    ai_predict_output, \n",
    "    conference, \n",
    "    visualize=visualize\n",
    "    )\n",
    "\n",
    "user_xai_question_follow_up_example = \"background\"\n",
    "response = convxai_agent.explain(\n",
    "    user_xai_question_follow_up_example, \n",
    "    ai_input, \n",
    "    ai_predict_output, \n",
    "    conference, \n",
    "    visualize=visualize\n",
    "    )"
   ]
  },
  {
   "attachments": {},
   "cell_type": "markdown",
   "metadata": {},
   "source": [
    "### Others -- generating responses with ChatGPT"
   ]
  },
  {
   "attachments": {},
   "cell_type": "markdown",
   "metadata": {},
   "source": [
    "**[XAI Type 10]** - ChatGPT will handle all the other types! 😉"
   ]
  },
  {
   "cell_type": "code",
   "execution_count": 14,
   "metadata": {},
   "outputs": [
    {
     "name": "stdout",
     "output_type": "stream",
     "text": [
      "******* ChatGPT is Responding **********\n"
     ]
    },
    {
     "data": {
      "text/html": [
       "<div style='float: left; width: 50%; padding: 4px 10px; border-radius: 6px 6px 1px 6px; background: #347AB7; color: white;'>\n",
       "            who are you?\n",
       "        </div>\n",
       "        <div style='float: left;'>\n",
       "            :👩🏻‍💻\n",
       "        </div>\n",
       "        "
      ],
      "text/plain": [
       "<IPython.core.display.HTML object>"
      ]
     },
     "metadata": {},
     "output_type": "display_data"
    },
    {
     "data": {
      "text/html": [
       "\n",
       "        <div style='float: left;'>\n",
       "            👨🏼‍🏫:\n",
       "        </div>\n",
       "        <div style='float: left; width: 50%; padding: 4px 10px; border-radius: 6px 6px 6px 1px; background: #B1CFE7;'>\n",
       "            The provided text discusses the effectiveness of existing interpretations of deep neural network models in addressing user needs. It is not related to the user's question of \"who are you?\" and does not provide any answer to that question.\n",
       "        </div>\n",
       "        "
      ],
      "text/plain": [
       "<IPython.core.display.HTML object>"
      ]
     },
     "metadata": {},
     "output_type": "display_data"
    }
   ],
   "source": [
    "user_xai_question = user_xai_questions['others']\n",
    "response = convxai_agent.explain(\n",
    "    user_xai_question, \n",
    "    ai_input, \n",
    "    ai_predict_output, \n",
    "    conference, \n",
    "    visualize=visualize\n",
    "    )"
   ]
  },
  {
   "cell_type": "code",
   "execution_count": null,
   "metadata": {},
   "outputs": [],
   "source": []
  }
 ],
 "metadata": {
  "kernelspec": {
   "display_name": "sciexpert",
   "language": "python",
   "name": "python3"
  },
  "language_info": {
   "codemirror_mode": {
    "name": "ipython",
    "version": 3
   },
   "file_extension": ".py",
   "mimetype": "text/x-python",
   "name": "python",
   "nbconvert_exporter": "python",
   "pygments_lexer": "ipython3",
   "version": "3.7.16"
  },
  "orig_nbformat": 4
 },
 "nbformat": 4,
 "nbformat_minor": 2
}
