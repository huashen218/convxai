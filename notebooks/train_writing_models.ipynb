{
 "cells": [
  {
   "cell_type": "markdown",
   "metadata": {},
   "source": [
    "## ConvXAI Tutorial - Scientific Writing Part"
   ]
  },
  {
   "cell_type": "markdown",
   "metadata": {},
   "source": []
  },
  {
   "cell_type": "markdown",
   "metadata": {},
   "source": [
    "Table of Contents\n",
    "=================\n",
    "   * [Writing Structure Model](#writing-structure-model)\n",
    "   * [Writing Style Model](#writing-style-model)"
   ]
  },
  {
   "cell_type": "markdown",
   "metadata": {},
   "source": [
    "\n",
    "### Writing Structure Model\n"
   ]
  },
  {
   "cell_type": "markdown",
   "metadata": {},
   "source": [
    "- Dataset link: [CODA-19]: https://github.com/windx0303/CODA-19\n",
    "\n",
    "- Model training folder: `writing_models/trainers/diversity_trainer`\n"
   ]
  },
  {
   "cell_type": "markdown",
   "metadata": {},
   "source": [
    "\n",
    "### Writing Style Model\n"
   ]
  },
  {
   "cell_type": "markdown",
   "metadata": {},
   "source": [
    "- Dataset: [CIA] (CHI+ICLR+ACL)\n",
    "\n",
    "Dataset link: \n",
    "\n",
    "CIA crawled raw data:\n",
    "- `data/u_writing_models/cia/`: ACL_papers.json, CHI_papers.json, ICLR_papers.json\n",
    "\n",
    "CIA integrated train/val/test (60%/20%/20%) sets:\n",
    "- `data/u_writing_models/cia/`+ cia_train.txt, cia_validation.txt, cia_test.txt\n",
    "\n",
    "\n",
    "- Dataset generation script: https://github.com/appleternity/ConvXAI-Other\n",
    "\n",
    "\n",
    "- Model training folder: `writing_models/trainers/quality_trainer`"
   ]
  },
  {
   "cell_type": "code",
   "execution_count": null,
   "metadata": {},
   "outputs": [],
   "source": []
  }
 ],
 "metadata": {
  "kernelspec": {
   "display_name": "Python 3.8.2 64-bit",
   "language": "python",
   "name": "python3"
  },
  "language_info": {
   "name": "python",
   "version": "3.8.2"
  },
  "orig_nbformat": 4,
  "vscode": {
   "interpreter": {
    "hash": "31f2aee4e71d21fbe5cf8b01ff0e069b9275f58929596ceb00d14d90e3e16cd6"
   }
  }
 },
 "nbformat": 4,
 "nbformat_minor": 2
}
