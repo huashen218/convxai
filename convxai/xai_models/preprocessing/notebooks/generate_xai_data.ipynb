{
 "cells": [
  {
   "cell_type": "markdown",
   "metadata": {},
   "source": [
    "## ConvXAI Tutorial - AI Explanation Part"
   ]
  },
  {
   "cell_type": "markdown",
   "metadata": {},
   "source": [
    "Based on the AI predictions from the 'diversity model' (Writing Structure Model) and 'quality model' (Writing Style Model), ConvXAI agent currently supports the below functions:\n",
    "- 1) generate AI comments, serving as writing reviews, for users to better understand AI predictions;\n",
    "- 2) provide explanations for both AI comments, global information of the system, and AI predictions.\n",
    "\n",
    "We further provide detailed tutorials for each part as below.\n",
    "\n"
   ]
  },
  {
   "cell_type": "markdown",
   "metadata": {},
   "source": [
    "Table of Contents\n",
    "=================\n",
    "   * [AI-comment Generation](#ai-comment-generation)\n",
    "   * [AI-comment Explanation](#ai-comment-explanation)\n",
    "   * [Global-info Explanation](#global-information-explanation)\n",
    "   * [Instance-wise Explanation](#instance-wise-explanation)"
   ]
  },
  {
   "cell_type": "markdown",
   "metadata": {},
   "source": [
    "\n",
    "### AI Comment Generation\n"
   ]
  },
  {
   "cell_type": "markdown",
   "metadata": {},
   "source": [
    "We need to prepare the `meta-data` and `NL templates` to generate AI comments. The output file is saved at `ai_comment_statistics.json`, which is used in generate AI explanations.\n",
    "\n",
    "Particularly, for each conference (i.e., ACL, CHI, ICLR), we compute the global information including:\n",
    "- paper_count;\n",
    "- sentence_count;\n",
    "- sentence_length;\n",
    "- sentence_score_range;\n",
    "- abstract_score_range;\n",
    "- Aspect_Patterns_dict;\n",
    "- Aspect_Patterns;"
   ]
  },
  {
   "cell_type": "markdown",
   "metadata": {},
   "source": [
    "The script is in:\n",
    "\n",
    "`data_analyzer_notebook.ipynb`\n",
    "\n",
    "Based on: `data/u_writing_models/cia/`: ACL_papers.json, CHI_papers.json, ICLR_papers.json"
   ]
  },
  {
   "cell_type": "code",
   "execution_count": null,
   "metadata": {},
   "outputs": [],
   "source": []
  },
  {
   "cell_type": "code",
   "execution_count": null,
   "metadata": {},
   "outputs": [],
   "source": []
  },
  {
   "cell_type": "code",
   "execution_count": null,
   "metadata": {},
   "outputs": [],
   "source": []
  },
  {
   "cell_type": "markdown",
   "metadata": {},
   "source": [
    "### AI Comment Explanation (template)\n"
   ]
  },
  {
   "cell_type": "markdown",
   "metadata": {},
   "source": [
    "We use hard-coded `template` to generate the ai-comment-explanation. The ai-comment-explanation templates are coded in the `def _explaining_ai_comment_template()` function of the `xaiagent.py` file."
   ]
  },
  {
   "cell_type": "markdown",
   "metadata": {},
   "source": [
    "\n",
    "\n",
    "### Global Information Explanation (template)\n",
    "\n",
    "The global information explanations include five types. These explanations are hard-coded in the `explainer.py` file.\n",
    "\n",
    "2. \"meta-data\"\n",
    "3. \"meta-model\",\n",
    "4. \"quality-score\",\n",
    "5. \"aspect-distribution\",\n",
    "6. \"sentence-length\","
   ]
  },
  {
   "cell_type": "markdown",
   "metadata": {},
   "source": [
    "\n",
    "\n",
    "### Instance-wise Explanation (template + prepare)\n",
    "\n",
    "7. \"confidence\"\n",
    "8. \"attribution\"\n",
    "\n",
    "We don't need the prepare XAI data and model for the 'confidence' and 'attribution' explanations. They are generated on-the-fly."
   ]
  },
  {
   "cell_type": "markdown",
   "metadata": {},
   "source": [
    "9. **\"example\"**\n",
    "\n",
    "We need to prepare the embeddings for generating example-based explanations."
   ]
  },
  {
   "cell_type": "markdown",
   "metadata": {},
   "source": [
    "the script is in:\n",
    "\n",
    "`xai_models/explainer/xai_example_data/diversity_generating_example_embeddings_conf_new.py`\n",
    "\n",
    "\n",
    "Based on `data/u_writing_models/cia/`: ACL_papers.json, CHI_papers.json, ICLR_papers.json"
   ]
  },
  {
   "cell_type": "code",
   "execution_count": null,
   "metadata": {},
   "outputs": [],
   "source": []
  },
  {
   "cell_type": "markdown",
   "metadata": {},
   "source": [
    "10. **\"counterfactual\"**\n",
    "\n",
    "We need to train the MiCE model to generate counterfactual explanations."
   ]
  },
  {
   "cell_type": "code",
   "execution_count": null,
   "metadata": {},
   "outputs": [],
   "source": []
  },
  {
   "cell_type": "code",
   "execution_count": null,
   "metadata": {},
   "outputs": [],
   "source": []
  }
 ],
 "metadata": {
  "kernelspec": {
   "display_name": "Python 3.8.2 64-bit",
   "language": "python",
   "name": "python3"
  },
  "language_info": {
   "name": "python",
   "version": "3.8.2"
  },
  "orig_nbformat": 4,
  "vscode": {
   "interpreter": {
    "hash": "31f2aee4e71d21fbe5cf8b01ff0e069b9275f58929596ceb00d14d90e3e16cd6"
   }
  }
 },
 "nbformat": 4,
 "nbformat_minor": 2
}
