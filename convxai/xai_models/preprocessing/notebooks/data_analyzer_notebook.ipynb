{
 "cells": [
  {
   "cell_type": "code",
   "execution_count": 7,
   "metadata": {},
   "outputs": [],
   "source": [
    "\n",
    "\n",
    "import json\n",
    "import h5py\n",
    "import torch.nn as nn\n",
    "import numpy as np\n",
    "\n",
    "class ExampleExplainer(object):\n",
    "    \n",
    "    def __init__(self, conference,  model_configs_dir = \"/data/hua/workspace/projects/convxai/src/convxai/xai_models/configs/xai_model_configs.json\"):\n",
    "        super().__init__()\n",
    "\n",
    "        with open(model_configs_dir, 'r') as f:\n",
    "            self.model_configs = json.load(f)\n",
    "\n",
    "\n",
    "        self.diversity_model_embeddings_h5dir = self.model_configs[\"xai_emample_embeddings_dir\"][conference]\n",
    "        self.diversity_model_texts_h5dir = self.model_configs[\"xai_emample_texts_dir\"][conference]\n",
    "\n",
    "\n",
    "        with h5py.File(self.diversity_model_embeddings_h5dir, 'r') as infile:\n",
    "            self.diversity_x_train_embeddings_tmp = np.empty(infile[\"x_train_embeddings\"].shape, dtype=infile[\"x_train_embeddings\"].dtype)\n",
    "            infile[\"x_train_embeddings\"].read_direct(self.diversity_x_train_embeddings_tmp)\n",
    "\n",
    "\n",
    "        with h5py.File(self.diversity_model_texts_h5dir, 'r') as infile:\n",
    "            self.diversity_x_train_text_tmp = np.empty(infile[\"x_train_text\"].shape, dtype=infile[\"x_train_text\"].dtype)\n",
    "            infile[\"x_train_text\"].read_direct(self.diversity_x_train_text_tmp)\n",
    "            self.diversity_x_train_title_tmp = np.empty(infile[\"x_train_title\"].shape, dtype=infile[\"x_train_title\"].dtype)\n",
    "            infile[\"x_train_title\"].read_direct(self.diversity_x_train_title_tmp)\n",
    "            self.diversity_x_train_link_tmp = np.empty(infile[\"x_train_link\"].shape, dtype=infile[\"x_train_link\"].dtype)\n",
    "            infile[\"x_train_link\"].read_direct(self.diversity_x_train_link_tmp)\n",
    "\n",
    "\n",
    "            self.diversity_aspect_list_tmp = np.empty(infile[\"aspect_list\"].shape, dtype=infile[\"aspect_list\"].dtype)\n",
    "            infile[\"aspect_list\"].read_direct(self.diversity_aspect_list_tmp)\n",
    "            self.diversity_aspect_confidence_list_tmp = np.empty(infile[\"aspect_confidence_list\"].shape, dtype=infile[\"aspect_confidence_list\"].dtype)\n",
    "            infile[\"aspect_confidence_list\"].read_direct(self.diversity_aspect_confidence_list_tmp)\n",
    "            self.diversity_perplexity_tmp = np.empty(infile[\"perplexity\"].shape, dtype=infile[\"perplexity\"].dtype)\n",
    "            infile[\"perplexity\"].read_direct(self.diversity_perplexity_tmp)\n",
    "            self.diversity_token_counts_tmp = np.empty(infile[\"token_counts\"].shape, dtype=infile[\"token_counts\"].dtype)\n",
    "            infile[\"token_counts\"].read_direct(self.diversity_token_counts_tmp)\n",
    "\n",
    "            self.diversity_abstract_seg_scores_tmp = np.empty(infile[\"abstract_seg_scores\"].shape, dtype=infile[\"abstract_seg_scores\"].dtype)\n",
    "            infile[\"abstract_seg_scores\"].read_direct(self.diversity_abstract_seg_scores_tmp)\n",
    "\n",
    "\n",
    "\n",
    "label_mapping_inverse = {\n",
    "    0: \"background\",\n",
    "    1: \"purpose\",\n",
    "    2: \"method\", \n",
    "    3: \"finding\",\n",
    "    4: \"other\",\n",
    "}\n"
   ]
  },
  {
   "cell_type": "code",
   "execution_count": null,
   "metadata": {},
   "outputs": [],
   "source": []
  },
  {
   "cell_type": "code",
   "execution_count": null,
   "metadata": {},
   "outputs": [],
   "source": []
  },
  {
   "cell_type": "code",
   "execution_count": 2,
   "metadata": {},
   "outputs": [],
   "source": [
    "\n",
    "\n",
    "# conference = \"ACL\"\n",
    "# example_explainer = ExampleExplainer(conference)\n",
    "\n",
    "\n",
    "# length_count = example_explainer.diversity_token_counts_tmp\n",
    "# aspect_list = example_explainer.diversity_aspect_list_tmp\n",
    "\n",
    "\n",
    "# print(f\"Conference = {conference}\")\n",
    "# i = 0\n",
    "# print(f\"Label = {label_mapping_inverse[i]}: 20%={np.percentile(length_count[np.where(aspect_list == i)[0]], 20, axis=0)}, 40%={np.percentile(length_count[np.where(aspect_list == i)[0]], 40, axis=0)}, 50%={np.percentile(length_count[np.where(aspect_list == i)[0]], 50, axis=0)}, 60%={np.percentile(length_count[np.where(aspect_list == i)[0]], 60, axis=0)}, 80%={np.percentile(length_count[np.where(aspect_list == i)[0]], 80, axis=0)}\")\n",
    "# i = 1\n",
    "# print(f\"Label = {label_mapping_inverse[i]}: 20%={np.percentile(length_count[np.where(aspect_list == i)[0]], 20, axis=0)}, 40%={np.percentile(length_count[np.where(aspect_list == i)[0]], 40, axis=0)}, 50%={np.percentile(length_count[np.where(aspect_list == i)[0]], 50, axis=0)}, 60%={np.percentile(length_count[np.where(aspect_list == i)[0]], 60, axis=0)}, 80%={np.percentile(length_count[np.where(aspect_list == i)[0]], 80, axis=0)}\")\n",
    "# i = 2\n",
    "# print(f\"Label = {label_mapping_inverse[i]}: 20%={np.percentile(length_count[np.where(aspect_list == i)[0]], 20, axis=0)}, 40%={np.percentile(length_count[np.where(aspect_list == i)[0]], 40, axis=0)}, 50%={np.percentile(length_count[np.where(aspect_list == i)[0]], 50, axis=0)}, 60%={np.percentile(length_count[np.where(aspect_list == i)[0]], 60, axis=0)}, 80%={np.percentile(length_count[np.where(aspect_list == i)[0]], 80, axis=0)}\")\n",
    "# i = 3\n",
    "# print(f\"Label = {label_mapping_inverse[i]}: 20%={np.percentile(length_count[np.where(aspect_list == i)[0]], 20, axis=0)}, 40%={np.percentile(length_count[np.where(aspect_list == i)[0]], 40, axis=0)}, 50%={np.percentile(length_count[np.where(aspect_list == i)[0]], 50, axis=0)}, 60%={np.percentile(length_count[np.where(aspect_list == i)[0]], 60, axis=0)}, 80%={np.percentile(length_count[np.where(aspect_list == i)[0]], 80, axis=0)}\")\n",
    "# i = 4\n",
    "# print(f\"Label = {label_mapping_inverse[i]}: 20%={np.percentile(length_count[np.where(aspect_list == i)[0]], 20, axis=0)}, 40%={np.percentile(length_count[np.where(aspect_list == i)[0]], 40, axis=0)}, 50%={np.percentile(length_count[np.where(aspect_list == i)[0]], 50, axis=0)}, 60%={np.percentile(length_count[np.where(aspect_list == i)[0]], 60, axis=0)}, 80%={np.percentile(length_count[np.where(aspect_list == i)[0]], 80, axis=0)}\")\n"
   ]
  },
  {
   "cell_type": "code",
   "execution_count": 3,
   "metadata": {},
   "outputs": [],
   "source": [
    "\n",
    "\n",
    "# conference = \"CHI\"\n",
    "# example_explainer = ExampleExplainer(conference)\n",
    "\n",
    "\n",
    "# length_count = example_explainer.diversity_token_counts_tmp\n",
    "# aspect_list = example_explainer.diversity_aspect_list_tmp\n",
    "\n",
    "\n",
    "# print(f\"Conference = {conference}\")\n",
    "# i = 0\n",
    "# print(f\"Label = {label_mapping_inverse[i]}: 20%={np.percentile(length_count[np.where(aspect_list == i)[0]], 20, axis=0)}, 40%={np.percentile(length_count[np.where(aspect_list == i)[0]], 40, axis=0)}, 50%={np.percentile(length_count[np.where(aspect_list == i)[0]], 50, axis=0)}, 60%={np.percentile(length_count[np.where(aspect_list == i)[0]], 60, axis=0)}, 80%={np.percentile(length_count[np.where(aspect_list == i)[0]], 80, axis=0)}\")\n",
    "# i = 1\n",
    "# print(f\"Label = {label_mapping_inverse[i]}: 20%={np.percentile(length_count[np.where(aspect_list == i)[0]], 20, axis=0)}, 40%={np.percentile(length_count[np.where(aspect_list == i)[0]], 40, axis=0)}, 50%={np.percentile(length_count[np.where(aspect_list == i)[0]], 50, axis=0)}, 60%={np.percentile(length_count[np.where(aspect_list == i)[0]], 60, axis=0)}, 80%={np.percentile(length_count[np.where(aspect_list == i)[0]], 80, axis=0)}\")\n",
    "# i = 2\n",
    "# print(f\"Label = {label_mapping_inverse[i]}: 20%={np.percentile(length_count[np.where(aspect_list == i)[0]], 20, axis=0)}, 40%={np.percentile(length_count[np.where(aspect_list == i)[0]], 40, axis=0)}, 50%={np.percentile(length_count[np.where(aspect_list == i)[0]], 50, axis=0)}, 60%={np.percentile(length_count[np.where(aspect_list == i)[0]], 60, axis=0)}, 80%={np.percentile(length_count[np.where(aspect_list == i)[0]], 80, axis=0)}\")\n",
    "# i = 3\n",
    "# print(f\"Label = {label_mapping_inverse[i]}: 20%={np.percentile(length_count[np.where(aspect_list == i)[0]], 20, axis=0)}, 40%={np.percentile(length_count[np.where(aspect_list == i)[0]], 40, axis=0)}, 50%={np.percentile(length_count[np.where(aspect_list == i)[0]], 50, axis=0)}, 60%={np.percentile(length_count[np.where(aspect_list == i)[0]], 60, axis=0)}, 80%={np.percentile(length_count[np.where(aspect_list == i)[0]], 80, axis=0)}\")\n",
    "# i = 4\n",
    "# print(f\"Label = {label_mapping_inverse[i]}: 20%={np.percentile(length_count[np.where(aspect_list == i)[0]], 20, axis=0)}, 40%={np.percentile(length_count[np.where(aspect_list == i)[0]], 40, axis=0)}, 50%={np.percentile(length_count[np.where(aspect_list == i)[0]], 50, axis=0)}, 60%={np.percentile(length_count[np.where(aspect_list == i)[0]], 60, axis=0)}, 80%={np.percentile(length_count[np.where(aspect_list == i)[0]], 80, axis=0)}\")\n"
   ]
  },
  {
   "cell_type": "code",
   "execution_count": 4,
   "metadata": {},
   "outputs": [],
   "source": [
    "\n",
    "\n",
    "# conference = \"ICLR\"\n",
    "# example_explainer = ExampleExplainer(conference)\n",
    "\n",
    "\n",
    "# length_count = example_explainer.diversity_token_counts_tmp\n",
    "# aspect_list = example_explainer.diversity_aspect_list_tmp\n",
    "\n",
    "\n",
    "# print(f\"Conference = {conference}\")\n",
    "# i = 0\n",
    "# print(f\"Label = {label_mapping_inverse[i]}: 20%={np.percentile(length_count[np.where(aspect_list == i)[0]], 20, axis=0)}, 40%={np.percentile(length_count[np.where(aspect_list == i)[0]], 40, axis=0)}, 50%={np.percentile(length_count[np.where(aspect_list == i)[0]], 50, axis=0)}, 60%={np.percentile(length_count[np.where(aspect_list == i)[0]], 60, axis=0)}, 80%={np.percentile(length_count[np.where(aspect_list == i)[0]], 80, axis=0)}\")\n",
    "# i = 1\n",
    "# print(f\"Label = {label_mapping_inverse[i]}: 20%={np.percentile(length_count[np.where(aspect_list == i)[0]], 20, axis=0)}, 40%={np.percentile(length_count[np.where(aspect_list == i)[0]], 40, axis=0)}, 50%={np.percentile(length_count[np.where(aspect_list == i)[0]], 50, axis=0)}, 60%={np.percentile(length_count[np.where(aspect_list == i)[0]], 60, axis=0)}, 80%={np.percentile(length_count[np.where(aspect_list == i)[0]], 80, axis=0)}\")\n",
    "# i = 2\n",
    "# print(f\"Label = {label_mapping_inverse[i]}: 20%={np.percentile(length_count[np.where(aspect_list == i)[0]], 20, axis=0)}, 40%={np.percentile(length_count[np.where(aspect_list == i)[0]], 40, axis=0)}, 50%={np.percentile(length_count[np.where(aspect_list == i)[0]], 50, axis=0)}, 60%={np.percentile(length_count[np.where(aspect_list == i)[0]], 60, axis=0)}, 80%={np.percentile(length_count[np.where(aspect_list == i)[0]], 80, axis=0)}\")\n",
    "# i = 3\n",
    "# print(f\"Label = {label_mapping_inverse[i]}: 20%={np.percentile(length_count[np.where(aspect_list == i)[0]], 20, axis=0)}, 40%={np.percentile(length_count[np.where(aspect_list == i)[0]], 40, axis=0)}, 50%={np.percentile(length_count[np.where(aspect_list == i)[0]], 50, axis=0)}, 60%={np.percentile(length_count[np.where(aspect_list == i)[0]], 60, axis=0)}, 80%={np.percentile(length_count[np.where(aspect_list == i)[0]], 80, axis=0)}\")\n",
    "# i = 4\n",
    "# print(f\"Label = {label_mapping_inverse[i]}: 20%={np.percentile(length_count[np.where(aspect_list == i)[0]], 20, axis=0)}, 40%={np.percentile(length_count[np.where(aspect_list == i)[0]], 40, axis=0)}, 50%={np.percentile(length_count[np.where(aspect_list == i)[0]], 50, axis=0)}, 60%={np.percentile(length_count[np.where(aspect_list == i)[0]], 60, axis=0)}, 80%={np.percentile(length_count[np.where(aspect_list == i)[0]], 80, axis=0)}\")\n"
   ]
  },
  {
   "cell_type": "code",
   "execution_count": null,
   "metadata": {},
   "outputs": [],
   "source": []
  },
  {
   "cell_type": "markdown",
   "metadata": {},
   "source": []
  },
  {
   "cell_type": "code",
   "execution_count": 20,
   "metadata": {},
   "outputs": [
    {
     "name": "stdout",
     "output_type": "stream",
     "text": [
      "Conference = ACL\n",
      "Label = background: 4.065346, 13.558184, 23.051022, 32.543860, 42.036698\n",
      "Label = purpose: 5.989509, 16.249589, 26.509669, 36.769749, 47.029829\n",
      "Label = method: 0.013460, 13.718160, 27.422861, 41.127561, 54.832262\n",
      "Label = finding: 1.320908, 13.892974, 26.465040, 39.037106, 51.609171\n",
      "Label = other: -11.682339, -3.213263, 5.255814, 13.724890, 22.193967\n",
      "Label = None: 1.759804, 13.702177, 25.644550, 37.586923, 49.529296\n"
     ]
    }
   ],
   "source": [
    "conference = \"ACL\"\n",
    "example_explainer = ExampleExplainer(conference)\n",
    "\n",
    "length_count = example_explainer.diversity_token_counts_tmp\n",
    "aspect_list = example_explainer.diversity_aspect_list_tmp\n",
    "\n",
    "\n",
    "print(f\"Conference = {conference}\")\n",
    "i = 0\n",
    "print(f\"Label = {label_mapping_inverse[i]}: {np.mean(length_count[np.where(aspect_list == i)[0]]) - 2 * np.std(length_count[np.where(aspect_list == i)[0]]):2f}, {np.mean(length_count[np.where(aspect_list == i)[0]]) - np.std(length_count[np.where(aspect_list == i)[0]]):2f}, {np.mean(length_count[np.where(aspect_list == i)[0]]):2f}, {np.mean(length_count[np.where(aspect_list == i)[0]]) + np.std(length_count[np.where(aspect_list == i)[0]]):2f}, {np.mean(length_count[np.where(aspect_list == i)[0]]) + 2 * np.std(length_count[np.where(aspect_list == i)[0]]):2f}\")\n",
    "i = 1\n",
    "print(f\"Label = {label_mapping_inverse[i]}: {np.mean(length_count[np.where(aspect_list == i)[0]]) - 2 * np.std(length_count[np.where(aspect_list == i)[0]]):2f}, {np.mean(length_count[np.where(aspect_list == i)[0]]) - np.std(length_count[np.where(aspect_list == i)[0]]):2f}, {np.mean(length_count[np.where(aspect_list == i)[0]]):2f}, {np.mean(length_count[np.where(aspect_list == i)[0]]) + np.std(length_count[np.where(aspect_list == i)[0]]):2f}, {np.mean(length_count[np.where(aspect_list == i)[0]]) + 2 * np.std(length_count[np.where(aspect_list == i)[0]]):2f}\")\n",
    "i = 2\n",
    "print(f\"Label = {label_mapping_inverse[i]}: {np.mean(length_count[np.where(aspect_list == i)[0]]) - 2 * np.std(length_count[np.where(aspect_list == i)[0]]):2f}, {np.mean(length_count[np.where(aspect_list == i)[0]]) - np.std(length_count[np.where(aspect_list == i)[0]]):2f}, {np.mean(length_count[np.where(aspect_list == i)[0]]):2f}, {np.mean(length_count[np.where(aspect_list == i)[0]]) + np.std(length_count[np.where(aspect_list == i)[0]]):2f}, {np.mean(length_count[np.where(aspect_list == i)[0]]) + 2 * np.std(length_count[np.where(aspect_list == i)[0]]):2f}\")\n",
    "i = 3\n",
    "print(f\"Label = {label_mapping_inverse[i]}: {np.mean(length_count[np.where(aspect_list == i)[0]]) - 2 * np.std(length_count[np.where(aspect_list == i)[0]]):2f}, {np.mean(length_count[np.where(aspect_list == i)[0]]) - np.std(length_count[np.where(aspect_list == i)[0]]):2f}, {np.mean(length_count[np.where(aspect_list == i)[0]]):2f}, {np.mean(length_count[np.where(aspect_list == i)[0]]) + np.std(length_count[np.where(aspect_list == i)[0]]):2f}, {np.mean(length_count[np.where(aspect_list == i)[0]]) + 2 * np.std(length_count[np.where(aspect_list == i)[0]]):2f}\")\n",
    "i = 4\n",
    "print(f\"Label = {label_mapping_inverse[i]}: {np.mean(length_count[np.where(aspect_list == i)[0]]) - 2 * np.std(length_count[np.where(aspect_list == i)[0]]):2f}, {np.mean(length_count[np.where(aspect_list == i)[0]]) - np.std(length_count[np.where(aspect_list == i)[0]]):2f}, {np.mean(length_count[np.where(aspect_list == i)[0]]):2f}, {np.mean(length_count[np.where(aspect_list == i)[0]]) + np.std(length_count[np.where(aspect_list == i)[0]]):2f}, {np.mean(length_count[np.where(aspect_list == i)[0]]) + 2 * np.std(length_count[np.where(aspect_list == i)[0]]):2f}\")\n",
    "\n",
    "print(f\"Label = None: {np.mean(length_count) - 2 * np.std(length_count):2f}, {np.mean(length_count) - np.std(length_count):2f}, {np.mean(length_count):2f}, {np.mean(length_count) + np.std(length_count):2f}, {np.mean(length_count) + 2 * np.std(length_count):2f}\")\n"
   ]
  },
  {
   "cell_type": "code",
   "execution_count": 5,
   "metadata": {},
   "outputs": [
    {
     "name": "stdout",
     "output_type": "stream",
     "text": [
      "Conference = ACL\n",
      "Label = background: 4.065346, 13.558184, 23.051022, 32.543860, 42.036698\n",
      "Label = purpose: 5.989509, 16.249589, 26.509669, 36.769749, 47.029829\n",
      "Label = method: 0.013460, 13.718160, 27.422861, 41.127561, 54.832262\n",
      "Label = finding: 1.320908, 13.892974, 26.465040, 39.037106, 51.609171\n",
      "Label = other: -11.682339, -3.213263, 5.255814, 13.724890, 22.193967\n",
      "Label = None: 1.759804, 13.702177, 25.644550, 37.586923, 49.529296\n"
     ]
    }
   ],
   "source": [
    "conference = \"ACL\"\n",
    "example_explainer = ExampleExplainer(conference)\n",
    "\n",
    "length_count = example_explainer.diversity_token_counts_tmp\n",
    "aspect_list = example_explainer.diversity_aspect_list_tmp\n",
    "\n",
    "\n",
    "print(f\"Conference = {conference}\")\n",
    "i = 0\n",
    "print(f\"Label = {label_mapping_inverse[i]}: {np.mean(length_count[np.where(aspect_list == i)[0]]) - 2 * np.std(length_count[np.where(aspect_list == i)[0]]):2f}, {np.mean(length_count[np.where(aspect_list == i)[0]]) - np.std(length_count[np.where(aspect_list == i)[0]]):2f}, {np.mean(length_count[np.where(aspect_list == i)[0]]):2f}, {np.mean(length_count[np.where(aspect_list == i)[0]]) + np.std(length_count[np.where(aspect_list == i)[0]]):2f}, {np.mean(length_count[np.where(aspect_list == i)[0]]) + 2 * np.std(length_count[np.where(aspect_list == i)[0]]):2f}\")\n",
    "i = 1\n",
    "print(f\"Label = {label_mapping_inverse[i]}: {np.mean(length_count[np.where(aspect_list == i)[0]]) - 2 * np.std(length_count[np.where(aspect_list == i)[0]]):2f}, {np.mean(length_count[np.where(aspect_list == i)[0]]) - np.std(length_count[np.where(aspect_list == i)[0]]):2f}, {np.mean(length_count[np.where(aspect_list == i)[0]]):2f}, {np.mean(length_count[np.where(aspect_list == i)[0]]) + np.std(length_count[np.where(aspect_list == i)[0]]):2f}, {np.mean(length_count[np.where(aspect_list == i)[0]]) + 2 * np.std(length_count[np.where(aspect_list == i)[0]]):2f}\")\n",
    "i = 2\n",
    "print(f\"Label = {label_mapping_inverse[i]}: {np.mean(length_count[np.where(aspect_list == i)[0]]) - 2 * np.std(length_count[np.where(aspect_list == i)[0]]):2f}, {np.mean(length_count[np.where(aspect_list == i)[0]]) - np.std(length_count[np.where(aspect_list == i)[0]]):2f}, {np.mean(length_count[np.where(aspect_list == i)[0]]):2f}, {np.mean(length_count[np.where(aspect_list == i)[0]]) + np.std(length_count[np.where(aspect_list == i)[0]]):2f}, {np.mean(length_count[np.where(aspect_list == i)[0]]) + 2 * np.std(length_count[np.where(aspect_list == i)[0]]):2f}\")\n",
    "i = 3\n",
    "print(f\"Label = {label_mapping_inverse[i]}: {np.mean(length_count[np.where(aspect_list == i)[0]]) - 2 * np.std(length_count[np.where(aspect_list == i)[0]]):2f}, {np.mean(length_count[np.where(aspect_list == i)[0]]) - np.std(length_count[np.where(aspect_list == i)[0]]):2f}, {np.mean(length_count[np.where(aspect_list == i)[0]]):2f}, {np.mean(length_count[np.where(aspect_list == i)[0]]) + np.std(length_count[np.where(aspect_list == i)[0]]):2f}, {np.mean(length_count[np.where(aspect_list == i)[0]]) + 2 * np.std(length_count[np.where(aspect_list == i)[0]]):2f}\")\n",
    "i = 4\n",
    "print(f\"Label = {label_mapping_inverse[i]}: {np.mean(length_count[np.where(aspect_list == i)[0]]) - 2 * np.std(length_count[np.where(aspect_list == i)[0]]):2f}, {np.mean(length_count[np.where(aspect_list == i)[0]]) - np.std(length_count[np.where(aspect_list == i)[0]]):2f}, {np.mean(length_count[np.where(aspect_list == i)[0]]):2f}, {np.mean(length_count[np.where(aspect_list == i)[0]]) + np.std(length_count[np.where(aspect_list == i)[0]]):2f}, {np.mean(length_count[np.where(aspect_list == i)[0]]) + 2 * np.std(length_count[np.where(aspect_list == i)[0]]):2f}\")\n",
    "\n",
    "print(f\"Label = None: {np.mean(length_count) - 2 * np.std(length_count):2f}, {np.mean(length_count) - np.std(length_count):2f}, {np.mean(length_count):2f}, {np.mean(length_count) + np.std(length_count):2f}, {np.mean(length_count) + 2 * np.std(length_count):2f}\")\n"
   ]
  },
  {
   "cell_type": "code",
   "execution_count": 3,
   "metadata": {},
   "outputs": [
    {
     "ename": "NameError",
     "evalue": "name 'np' is not defined",
     "output_type": "error",
     "traceback": [
      "\u001b[0;31m---------------------------------------------------------------------------\u001b[0m",
      "\u001b[0;31mNameError\u001b[0m                                 Traceback (most recent call last)",
      "\u001b[0;32m/tmp/ipykernel_192831/2896513234.py\u001b[0m in \u001b[0;36m<module>\u001b[0;34m\u001b[0m\n\u001b[0;32m----> 1\u001b[0;31m \u001b[0mnp\u001b[0m\u001b[0;34m.\u001b[0m\u001b[0mmean\u001b[0m\u001b[0;34m(\u001b[0m\u001b[0mlength_count\u001b[0m\u001b[0;34m)\u001b[0m\u001b[0;34m,\u001b[0m \u001b[0mnp\u001b[0m\u001b[0;34m.\u001b[0m\u001b[0mmean\u001b[0m\u001b[0;34m(\u001b[0m\u001b[0mlength_count\u001b[0m\u001b[0;34m)\u001b[0m \u001b[0;34m+\u001b[0m \u001b[0;36m2\u001b[0m \u001b[0;34m*\u001b[0m \u001b[0mnp\u001b[0m\u001b[0;34m.\u001b[0m\u001b[0mstd\u001b[0m\u001b[0;34m(\u001b[0m\u001b[0mlength_count\u001b[0m\u001b[0;34m)\u001b[0m\u001b[0;34m\u001b[0m\u001b[0;34m\u001b[0m\u001b[0m\n\u001b[0m",
      "\u001b[0;31mNameError\u001b[0m: name 'np' is not defined"
     ]
    }
   ],
   "source": [
    "np.mean(length_count), np.mean(length_count) + 2 * np.std(length_count)"
   ]
  },
  {
   "cell_type": "code",
   "execution_count": 38,
   "metadata": {},
   "outputs": [
    {
     "name": "stdout",
     "output_type": "stream",
     "text": [
      "Conference = CHI\n",
      "Label = background: 4.851239, 13.530284, 22.209330, 30.888375, 39.567421\n",
      "Label = purpose: 5.776257, 16.541399, 27.306541, 38.071684, 48.836826\n",
      "Label = method: 3.662968, 15.408894, 27.154819, 38.900744, 50.646669\n",
      "Label = finding: 3.545229, 14.695371, 25.845514, 36.995656, 48.145799\n",
      "Label = other: -3.162033, 0.375505, 3.913043, 7.450582, 10.988120\n",
      "Label = None: 3.685106, 14.378551, 25.071995, 35.765440, 46.458885\n"
     ]
    }
   ],
   "source": [
    "conference = \"CHI\"\n",
    "example_explainer = ExampleExplainer(conference)\n",
    "\n",
    "length_count = example_explainer.diversity_token_counts_tmp\n",
    "aspect_list = example_explainer.diversity_aspect_list_tmp\n",
    "\n",
    "print(f\"Conference = {conference}\")\n",
    "i = 0\n",
    "print(f\"Label = {label_mapping_inverse[i]}: {np.mean(length_count[np.where(aspect_list == i)[0]]) - 2 * np.std(length_count[np.where(aspect_list == i)[0]]):2f}, {np.mean(length_count[np.where(aspect_list == i)[0]]) - np.std(length_count[np.where(aspect_list == i)[0]]):2f}, {np.mean(length_count[np.where(aspect_list == i)[0]]):2f}, {np.mean(length_count[np.where(aspect_list == i)[0]]) + np.std(length_count[np.where(aspect_list == i)[0]]):2f}, {np.mean(length_count[np.where(aspect_list == i)[0]]) + 2 * np.std(length_count[np.where(aspect_list == i)[0]]):2f}\")\n",
    "i = 1\n",
    "print(f\"Label = {label_mapping_inverse[i]}: {np.mean(length_count[np.where(aspect_list == i)[0]]) - 2 * np.std(length_count[np.where(aspect_list == i)[0]]):2f}, {np.mean(length_count[np.where(aspect_list == i)[0]]) - np.std(length_count[np.where(aspect_list == i)[0]]):2f}, {np.mean(length_count[np.where(aspect_list == i)[0]]):2f}, {np.mean(length_count[np.where(aspect_list == i)[0]]) + np.std(length_count[np.where(aspect_list == i)[0]]):2f}, {np.mean(length_count[np.where(aspect_list == i)[0]]) + 2 * np.std(length_count[np.where(aspect_list == i)[0]]):2f}\")\n",
    "i = 2\n",
    "print(f\"Label = {label_mapping_inverse[i]}: {np.mean(length_count[np.where(aspect_list == i)[0]]) - 2 * np.std(length_count[np.where(aspect_list == i)[0]]):2f}, {np.mean(length_count[np.where(aspect_list == i)[0]]) - np.std(length_count[np.where(aspect_list == i)[0]]):2f}, {np.mean(length_count[np.where(aspect_list == i)[0]]):2f}, {np.mean(length_count[np.where(aspect_list == i)[0]]) + np.std(length_count[np.where(aspect_list == i)[0]]):2f}, {np.mean(length_count[np.where(aspect_list == i)[0]]) + 2 * np.std(length_count[np.where(aspect_list == i)[0]]):2f}\")\n",
    "i = 3\n",
    "print(f\"Label = {label_mapping_inverse[i]}: {np.mean(length_count[np.where(aspect_list == i)[0]]) - 2 * np.std(length_count[np.where(aspect_list == i)[0]]):2f}, {np.mean(length_count[np.where(aspect_list == i)[0]]) - np.std(length_count[np.where(aspect_list == i)[0]]):2f}, {np.mean(length_count[np.where(aspect_list == i)[0]]):2f}, {np.mean(length_count[np.where(aspect_list == i)[0]]) + np.std(length_count[np.where(aspect_list == i)[0]]):2f}, {np.mean(length_count[np.where(aspect_list == i)[0]]) + 2 * np.std(length_count[np.where(aspect_list == i)[0]]):2f}\")\n",
    "i = 4\n",
    "print(f\"Label = {label_mapping_inverse[i]}: {np.mean(length_count[np.where(aspect_list == i)[0]]) - 2 * np.std(length_count[np.where(aspect_list == i)[0]]):2f}, {np.mean(length_count[np.where(aspect_list == i)[0]]) - np.std(length_count[np.where(aspect_list == i)[0]]):2f}, {np.mean(length_count[np.where(aspect_list == i)[0]]):2f}, {np.mean(length_count[np.where(aspect_list == i)[0]]) + np.std(length_count[np.where(aspect_list == i)[0]]):2f}, {np.mean(length_count[np.where(aspect_list == i)[0]]) + 2 * np.std(length_count[np.where(aspect_list == i)[0]]):2f}\")\n",
    "\n",
    "print(f\"Label = None: {np.mean(length_count) - 2 * np.std(length_count):2f}, {np.mean(length_count) - np.std(length_count):2f}, {np.mean(length_count):2f}, {np.mean(length_count) + np.std(length_count):2f}, {np.mean(length_count) + 2 * np.std(length_count):2f}\")\n"
   ]
  },
  {
   "cell_type": "code",
   "execution_count": 37,
   "metadata": {},
   "outputs": [
    {
     "name": "stdout",
     "output_type": "stream",
     "text": [
      "Conference = ICLR\n",
      "Label = background: 1.885100, 13.143813, 24.402525, 35.661238, 46.919950\n",
      "Label = purpose: 4.177036, 15.914202, 27.651368, 39.388534, 51.125700\n",
      "Label = method: -2.261526, 13.472882, 29.207291, 44.941699, 60.676108\n",
      "Label = finding: -0.125621, 13.760155, 27.645932, 41.531708, 55.417485\n",
      "Label = other: -1.421223, 1.660175, 4.741573, 7.822971, 10.904369\n",
      "Label = None: -0.193833, 13.373865, 26.941563, 40.509261, 54.076959\n"
     ]
    }
   ],
   "source": [
    "conference = \"ICLR\"\n",
    "example_explainer = ExampleExplainer(conference)\n",
    "\n",
    "length_count = example_explainer.diversity_token_counts_tmp\n",
    "aspect_list = example_explainer.diversity_aspect_list_tmp\n",
    "\n",
    "print(f\"Conference = {conference}\")\n",
    "i = 0\n",
    "print(f\"Label = {label_mapping_inverse[i]}: {np.mean(length_count[np.where(aspect_list == i)[0]]) - 2 * np.std(length_count[np.where(aspect_list == i)[0]]):2f}, {np.mean(length_count[np.where(aspect_list == i)[0]]) - np.std(length_count[np.where(aspect_list == i)[0]]):2f}, {np.mean(length_count[np.where(aspect_list == i)[0]]):2f}, {np.mean(length_count[np.where(aspect_list == i)[0]]) + np.std(length_count[np.where(aspect_list == i)[0]]):2f}, {np.mean(length_count[np.where(aspect_list == i)[0]]) + 2 * np.std(length_count[np.where(aspect_list == i)[0]]):2f}\")\n",
    "i = 1\n",
    "print(f\"Label = {label_mapping_inverse[i]}: {np.mean(length_count[np.where(aspect_list == i)[0]]) - 2 * np.std(length_count[np.where(aspect_list == i)[0]]):2f}, {np.mean(length_count[np.where(aspect_list == i)[0]]) - np.std(length_count[np.where(aspect_list == i)[0]]):2f}, {np.mean(length_count[np.where(aspect_list == i)[0]]):2f}, {np.mean(length_count[np.where(aspect_list == i)[0]]) + np.std(length_count[np.where(aspect_list == i)[0]]):2f}, {np.mean(length_count[np.where(aspect_list == i)[0]]) + 2 * np.std(length_count[np.where(aspect_list == i)[0]]):2f}\")\n",
    "i = 2\n",
    "print(f\"Label = {label_mapping_inverse[i]}: {np.mean(length_count[np.where(aspect_list == i)[0]]) - 2 * np.std(length_count[np.where(aspect_list == i)[0]]):2f}, {np.mean(length_count[np.where(aspect_list == i)[0]]) - np.std(length_count[np.where(aspect_list == i)[0]]):2f}, {np.mean(length_count[np.where(aspect_list == i)[0]]):2f}, {np.mean(length_count[np.where(aspect_list == i)[0]]) + np.std(length_count[np.where(aspect_list == i)[0]]):2f}, {np.mean(length_count[np.where(aspect_list == i)[0]]) + 2 * np.std(length_count[np.where(aspect_list == i)[0]]):2f}\")\n",
    "i = 3\n",
    "print(f\"Label = {label_mapping_inverse[i]}: {np.mean(length_count[np.where(aspect_list == i)[0]]) - 2 * np.std(length_count[np.where(aspect_list == i)[0]]):2f}, {np.mean(length_count[np.where(aspect_list == i)[0]]) - np.std(length_count[np.where(aspect_list == i)[0]]):2f}, {np.mean(length_count[np.where(aspect_list == i)[0]]):2f}, {np.mean(length_count[np.where(aspect_list == i)[0]]) + np.std(length_count[np.where(aspect_list == i)[0]]):2f}, {np.mean(length_count[np.where(aspect_list == i)[0]]) + 2 * np.std(length_count[np.where(aspect_list == i)[0]]):2f}\")\n",
    "i = 4\n",
    "print(f\"Label = {label_mapping_inverse[i]}: {np.mean(length_count[np.where(aspect_list == i)[0]]) - 2 * np.std(length_count[np.where(aspect_list == i)[0]]):2f}, {np.mean(length_count[np.where(aspect_list == i)[0]]) - np.std(length_count[np.where(aspect_list == i)[0]]):2f}, {np.mean(length_count[np.where(aspect_list == i)[0]]):2f}, {np.mean(length_count[np.where(aspect_list == i)[0]]) + np.std(length_count[np.where(aspect_list == i)[0]]):2f}, {np.mean(length_count[np.where(aspect_list == i)[0]]) + 2 * np.std(length_count[np.where(aspect_list == i)[0]]):2f}\")\n",
    "\n",
    "print(f\"Label = None: {np.mean(length_count) - 2 * np.std(length_count):2f}, {np.mean(length_count) - np.std(length_count):2f}, {np.mean(length_count):2f}, {np.mean(length_count) + np.std(length_count):2f}, {np.mean(length_count) + 2 * np.std(length_count):2f}\")\n"
   ]
  },
  {
   "cell_type": "code",
   "execution_count": null,
   "metadata": {},
   "outputs": [],
   "source": []
  },
  {
   "cell_type": "code",
   "execution_count": null,
   "metadata": {},
   "outputs": [],
   "source": []
  },
  {
   "cell_type": "code",
   "execution_count": 18,
   "metadata": {},
   "outputs": [
    {
     "name": "stdout",
     "output_type": "stream",
     "text": [
      "Conference = ACL\n",
      "Label = background: -156.415089, -50.894350, 54.626390, 160.147130, 265.667869\n",
      "Label = purpose: -26.110964, 6.115576, 38.342117, 70.568657, 102.795198\n",
      "Label = method: -70.021838, -4.772825, 60.476188, 125.725201, 190.974215\n",
      "Label = finding: -1106.038325, -520.777326, 64.483673, 649.744672, 1235.005671\n",
      "Label = other: nan, nan, nan, nan, nan\n",
      "Label = None: nan, nan, nan, nan, nan\n"
     ]
    }
   ],
   "source": [
    "# conference = \"ACL\"\n",
    "# example_explainer = ExampleExplainer(conference)\n",
    "\n",
    "# length_count = example_explainer.diversity_perplexity_tmp\n",
    "# aspect_list = example_explainer.diversity_aspect_list_tmp\n",
    "\n",
    "\n",
    "# print(f\"Conference = {conference}\")\n",
    "# i = 0\n",
    "# print(f\"Label = {label_mapping_inverse[i]}: {np.mean(length_count[np.where(aspect_list == i)[0]]) - 2 * np.std(length_count[np.where(aspect_list == i)[0]]):2f}, {np.mean(length_count[np.where(aspect_list == i)[0]]) - np.std(length_count[np.where(aspect_list == i)[0]]):2f}, {np.mean(length_count[np.where(aspect_list == i)[0]]):2f}, {np.mean(length_count[np.where(aspect_list == i)[0]]) + np.std(length_count[np.where(aspect_list == i)[0]]):2f}, {np.mean(length_count[np.where(aspect_list == i)[0]]) + 2 * np.std(length_count[np.where(aspect_list == i)[0]]):2f}\")\n",
    "# i = 1\n",
    "# print(f\"Label = {label_mapping_inverse[i]}: {np.mean(length_count[np.where(aspect_list == i)[0]]) - 2 * np.std(length_count[np.where(aspect_list == i)[0]]):2f}, {np.mean(length_count[np.where(aspect_list == i)[0]]) - np.std(length_count[np.where(aspect_list == i)[0]]):2f}, {np.mean(length_count[np.where(aspect_list == i)[0]]):2f}, {np.mean(length_count[np.where(aspect_list == i)[0]]) + np.std(length_count[np.where(aspect_list == i)[0]]):2f}, {np.mean(length_count[np.where(aspect_list == i)[0]]) + 2 * np.std(length_count[np.where(aspect_list == i)[0]]):2f}\")\n",
    "# i = 2\n",
    "# print(f\"Label = {label_mapping_inverse[i]}: {np.mean(length_count[np.where(aspect_list == i)[0]]) - 2 * np.std(length_count[np.where(aspect_list == i)[0]]):2f}, {np.mean(length_count[np.where(aspect_list == i)[0]]) - np.std(length_count[np.where(aspect_list == i)[0]]):2f}, {np.mean(length_count[np.where(aspect_list == i)[0]]):2f}, {np.mean(length_count[np.where(aspect_list == i)[0]]) + np.std(length_count[np.where(aspect_list == i)[0]]):2f}, {np.mean(length_count[np.where(aspect_list == i)[0]]) + 2 * np.std(length_count[np.where(aspect_list == i)[0]]):2f}\")\n",
    "# i = 3\n",
    "# print(f\"Label = {label_mapping_inverse[i]}: {np.mean(length_count[np.where(aspect_list == i)[0]]) - 2 * np.std(length_count[np.where(aspect_list == i)[0]]):2f}, {np.mean(length_count[np.where(aspect_list == i)[0]]) - np.std(length_count[np.where(aspect_list == i)[0]]):2f}, {np.mean(length_count[np.where(aspect_list == i)[0]]):2f}, {np.mean(length_count[np.where(aspect_list == i)[0]]) + np.std(length_count[np.where(aspect_list == i)[0]]):2f}, {np.mean(length_count[np.where(aspect_list == i)[0]]) + 2 * np.std(length_count[np.where(aspect_list == i)[0]]):2f}\")\n",
    "# i = 4\n",
    "# print(f\"Label = {label_mapping_inverse[i]}: {np.mean(length_count[np.where(aspect_list == i)[0]]) - 2 * np.std(length_count[np.where(aspect_list == i)[0]]):2f}, {np.mean(length_count[np.where(aspect_list == i)[0]]) - np.std(length_count[np.where(aspect_list == i)[0]]):2f}, {np.mean(length_count[np.where(aspect_list == i)[0]]):2f}, {np.mean(length_count[np.where(aspect_list == i)[0]]) + np.std(length_count[np.where(aspect_list == i)[0]]):2f}, {np.mean(length_count[np.where(aspect_list == i)[0]]) + 2 * np.std(length_count[np.where(aspect_list == i)[0]]):2f}\")\n",
    "\n",
    "# print(f\"Label = None: {np.mean(length_count) - 2 * np.std(length_count):2f}, {np.mean(length_count) - np.std(length_count):2f}, {np.mean(length_count):2f}, {np.mean(length_count) + np.std(length_count):2f}, {np.mean(length_count) + 2 * np.std(length_count):2f}\")\n"
   ]
  },
  {
   "cell_type": "code",
   "execution_count": null,
   "metadata": {},
   "outputs": [],
   "source": []
  },
  {
   "cell_type": "code",
   "execution_count": 6,
   "metadata": {},
   "outputs": [
    {
     "name": "stdout",
     "output_type": "stream",
     "text": [
      "Conference = ACL\n",
      "Label = background: 20%=20.540373973662447, 40%=30.572537210704727, 50%=36.26548009630659, 60%=43.50024862892455, 80%=67.6578334608869\n",
      "Label = purpose: 20%=18.85022174328805, 40%=25.62031891181396, 50%=29.992020361689423, 60%=34.686250304879145, 80%=50.7439837609356\n",
      "Label = method: 20%=26.980349636803105, 40%=38.1579263248315, 50%=44.47096600365973, 60%=52.65236073264489, 80%=78.41706494425114\n",
      "Label = finding: 20%=21.586103854423826, 40%=32.967031159344124, 50%=39.85829875076351, 60%=48.364651586838136, 80%=75.51675762788445\n",
      "Label = other: 20%=35.817186787169675, 40%=63.0681059459843, 50%=102.17227375546143, 60%=212.70628274062108, 80%=692.446684544659\n",
      "Label = None: 20%=21.792021627638352, 40%=32.338709642419275, 50%=38.566868523258194, 60%=46.232037046651094, 80%=71.35318779345124\n"
     ]
    }
   ],
   "source": [
    "\n",
    "\n",
    "# conference = \"ACL\"\n",
    "# example_explainer = ExampleExplainer(conference)\n",
    "\n",
    "\n",
    "# length_count = example_explainer.diversity_perplexity_tmp\n",
    "# aspect_list = example_explainer.diversity_aspect_list_tmp\n",
    "\n",
    "\n",
    "# print(f\"Conference = {conference}\")\n",
    "# i = 0\n",
    "# print(f\"Label = {label_mapping_inverse[i]}: 20%={np.percentile(length_count[np.where(aspect_list == i)[0]], 20, axis=0)}, 40%={np.percentile(length_count[np.where(aspect_list == i)[0]], 40, axis=0)}, 50%={np.percentile(length_count[np.where(aspect_list == i)[0]], 50, axis=0)}, 60%={np.percentile(length_count[np.where(aspect_list == i)[0]], 60, axis=0)}, 80%={np.percentile(length_count[np.where(aspect_list == i)[0]], 80, axis=0)}\")\n",
    "# i = 1\n",
    "# print(f\"Label = {label_mapping_inverse[i]}: 20%={np.percentile(length_count[np.where(aspect_list == i)[0]], 20, axis=0)}, 40%={np.percentile(length_count[np.where(aspect_list == i)[0]], 40, axis=0)}, 50%={np.percentile(length_count[np.where(aspect_list == i)[0]], 50, axis=0)}, 60%={np.percentile(length_count[np.where(aspect_list == i)[0]], 60, axis=0)}, 80%={np.percentile(length_count[np.where(aspect_list == i)[0]], 80, axis=0)}\")\n",
    "# i = 2\n",
    "# print(f\"Label = {label_mapping_inverse[i]}: 20%={np.percentile(length_count[np.where(aspect_list == i)[0]], 20, axis=0)}, 40%={np.percentile(length_count[np.where(aspect_list == i)[0]], 40, axis=0)}, 50%={np.percentile(length_count[np.where(aspect_list == i)[0]], 50, axis=0)}, 60%={np.percentile(length_count[np.where(aspect_list == i)[0]], 60, axis=0)}, 80%={np.percentile(length_count[np.where(aspect_list == i)[0]], 80, axis=0)}\")\n",
    "# i = 3\n",
    "# print(f\"Label = {label_mapping_inverse[i]}: 20%={np.percentile(length_count[np.where(aspect_list == i)[0]], 20, axis=0)}, 40%={np.percentile(length_count[np.where(aspect_list == i)[0]], 40, axis=0)}, 50%={np.percentile(length_count[np.where(aspect_list == i)[0]], 50, axis=0)}, 60%={np.percentile(length_count[np.where(aspect_list == i)[0]], 60, axis=0)}, 80%={np.percentile(length_count[np.where(aspect_list == i)[0]], 80, axis=0)}\")\n",
    "# i = 4\n",
    "# print(f\"Label = {label_mapping_inverse[i]}: 20%={np.percentile(np.nan_to_num(length_count[np.where(aspect_list == i)[0]]), 20, axis=0)}, 40%={np.percentile(np.nan_to_num(length_count[np.where(aspect_list == i)[0]]), 40, axis=0)}, 50%={np.percentile(np.nan_to_num(length_count[np.where(aspect_list == i)[0]]), 50, axis=0)}, 60%={np.percentile(np.nan_to_num(length_count[np.where(aspect_list == i)[0]]), 60, axis=0)}, 80%={np.percentile(np.nan_to_num(length_count[np.where(aspect_list == i)[0]]), 80, axis=0)}\")\n",
    "\n",
    "# print(f\"Label = None: 20%={np.percentile(np.nan_to_num(length_count), 20, axis=0)}, 40%={np.percentile(np.nan_to_num(length_count), 40, axis=0)}, 50%={np.percentile(np.nan_to_num(length_count), 50, axis=0)}, 60%={np.percentile(np.nan_to_num(length_count), 60, axis=0)}, 80%={np.percentile(np.nan_to_num(length_count), 80, axis=0)}\")\n"
   ]
  },
  {
   "cell_type": "code",
   "execution_count": 14,
   "metadata": {},
   "outputs": [
    {
     "name": "stdout",
     "output_type": "stream",
     "text": [
      "Conference = CHI\n",
      "Label = background: 20%=27.928391119531845, 40%=40.4911824498542, 50%=48.03915050078004, 60%=56.58410837307761, 80%=87.74330774124377\n",
      "Label = purpose: 20%=28.005017498675002, 40%=38.93712113469953, 50%=45.01072708763361, 60%=52.20326925980174, 80%=74.80284898252688\n",
      "Label = method: 20%=33.31359397706602, 40%=47.409840631929114, 50%=56.301956947559, 60%=66.99986220823648, 80%=102.74193687916207\n",
      "Label = finding: 20%=37.16520410446917, 40%=52.27804784392352, 50%=61.5501949343223, 60%=72.64587866867981, 80%=110.51390562925431\n",
      "Label = other: 20%=20.91459052919876, 40%=117.42899519081868, 50%=177.02120563586044, 60%=523.2360543225142, 80%=5978.737700700093\n",
      "Label = None: 20%=31.52510786249926, 40%=45.44117137937869, 50%=53.35629108883599, 60%=63.49679535362126, 80%=97.44819637563957\n"
     ]
    }
   ],
   "source": [
    "\n",
    "\n",
    "# conference = \"CHI\"\n",
    "# example_explainer = ExampleExplainer(conference)\n",
    "\n",
    "\n",
    "# length_count = example_explainer.diversity_perplexity_tmp\n",
    "# aspect_list = example_explainer.diversity_aspect_list_tmp\n",
    "\n",
    "\n",
    "# print(f\"Conference = {conference}\")\n",
    "# i = 0\n",
    "# print(f\"Label = {label_mapping_inverse[i]}: 20%={np.percentile(length_count[np.where(aspect_list == i)[0]], 20, axis=0)}, 40%={np.percentile(length_count[np.where(aspect_list == i)[0]], 40, axis=0)}, 50%={np.percentile(length_count[np.where(aspect_list == i)[0]], 50, axis=0)}, 60%={np.percentile(length_count[np.where(aspect_list == i)[0]], 60, axis=0)}, 80%={np.percentile(length_count[np.where(aspect_list == i)[0]], 80, axis=0)}\")\n",
    "# i = 1\n",
    "# print(f\"Label = {label_mapping_inverse[i]}: 20%={np.percentile(length_count[np.where(aspect_list == i)[0]], 20, axis=0)}, 40%={np.percentile(length_count[np.where(aspect_list == i)[0]], 40, axis=0)}, 50%={np.percentile(length_count[np.where(aspect_list == i)[0]], 50, axis=0)}, 60%={np.percentile(length_count[np.where(aspect_list == i)[0]], 60, axis=0)}, 80%={np.percentile(length_count[np.where(aspect_list == i)[0]], 80, axis=0)}\")\n",
    "# i = 2\n",
    "# print(f\"Label = {label_mapping_inverse[i]}: 20%={np.percentile(length_count[np.where(aspect_list == i)[0]], 20, axis=0)}, 40%={np.percentile(length_count[np.where(aspect_list == i)[0]], 40, axis=0)}, 50%={np.percentile(length_count[np.where(aspect_list == i)[0]], 50, axis=0)}, 60%={np.percentile(length_count[np.where(aspect_list == i)[0]], 60, axis=0)}, 80%={np.percentile(length_count[np.where(aspect_list == i)[0]], 80, axis=0)}\")\n",
    "# i = 3\n",
    "# print(f\"Label = {label_mapping_inverse[i]}: 20%={np.percentile(length_count[np.where(aspect_list == i)[0]], 20, axis=0)}, 40%={np.percentile(length_count[np.where(aspect_list == i)[0]], 40, axis=0)}, 50%={np.percentile(length_count[np.where(aspect_list == i)[0]], 50, axis=0)}, 60%={np.percentile(length_count[np.where(aspect_list == i)[0]], 60, axis=0)}, 80%={np.percentile(length_count[np.where(aspect_list == i)[0]], 80, axis=0)}\")\n",
    "# i = 4\n",
    "# print(f\"Label = {label_mapping_inverse[i]}: 20%={np.percentile(np.nan_to_num(length_count[np.where(aspect_list == i)[0]]), 20, axis=0)}, 40%={np.percentile(np.nan_to_num(length_count[np.where(aspect_list == i)[0]]), 40, axis=0)}, 50%={np.percentile(np.nan_to_num(length_count[np.where(aspect_list == i)[0]]), 50, axis=0)}, 60%={np.percentile(np.nan_to_num(length_count[np.where(aspect_list == i)[0]]), 60, axis=0)}, 80%={np.percentile(np.nan_to_num(length_count[np.where(aspect_list == i)[0]]), 80, axis=0)}\")\n",
    "\n",
    "\n",
    "# print(f\"Label = None: 20%={np.percentile(np.nan_to_num(length_count), 20, axis=0)}, 40%={np.percentile(np.nan_to_num(length_count), 40, axis=0)}, 50%={np.percentile(np.nan_to_num(length_count), 50, axis=0)}, 60%={np.percentile(np.nan_to_num(length_count), 60, axis=0)}, 80%={np.percentile(np.nan_to_num(length_count), 80, axis=0)}\")\n"
   ]
  },
  {
   "cell_type": "code",
   "execution_count": 19,
   "metadata": {},
   "outputs": [
    {
     "name": "stdout",
     "output_type": "stream",
     "text": [
      "Conference = ICLR\n",
      "Label = background: 20%=31.907515055459726, 40%=47.860520070958366, 50%=56.957260909289104, 60%=68.01661245400568, 80%=106.41498275549975\n",
      "Label = purpose: 20%=28.199344278215506, 40%=39.96119618385219, 50%=46.860662897670444, 60%=55.925645862208846, 80%=82.71015030313079\n",
      "Label = method: 20%=40.3921785096751, 40%=57.75925082747476, 50%=67.89975050274042, 60%=81.68946551509926, 80%=124.61893294603453\n",
      "Label = finding: 20%=36.75055746645733, 40%=56.04029982354147, 50%=66.41005429122762, 60%=80.1600750613713, 80%=125.72433130854355\n",
      "Label = other: 20%=30.538016442601247, 40%=49.78698509042504, 50%=59.18278935491014, 60%=78.66089256361106, 80%=370.66240379833636\n",
      "Label = None: 20%=34.93501560663526, 40%=51.922842372590196, 50%=61.70932740126258, 60%=74.04576889147553, 80%=115.88586910159671\n"
     ]
    }
   ],
   "source": [
    "\n",
    "\n",
    "# conference = \"ICLR\"\n",
    "# example_explainer = ExampleExplainer(conference)\n",
    "\n",
    "\n",
    "# length_count = example_explainer.diversity_perplexity_tmp\n",
    "# aspect_list = example_explainer.diversity_aspect_list_tmp\n",
    "\n",
    "\n",
    "# print(f\"Conference = {conference}\")\n",
    "# i = 0\n",
    "# print(f\"Label = {label_mapping_inverse[i]}: 20%={np.percentile(length_count[np.where(aspect_list == i)[0]], 20, axis=0)}, 40%={np.percentile(length_count[np.where(aspect_list == i)[0]], 40, axis=0)}, 50%={np.percentile(length_count[np.where(aspect_list == i)[0]], 50, axis=0)}, 60%={np.percentile(length_count[np.where(aspect_list == i)[0]], 60, axis=0)}, 80%={np.percentile(length_count[np.where(aspect_list == i)[0]], 80, axis=0)}\")\n",
    "# i = 1\n",
    "# print(f\"Label = {label_mapping_inverse[i]}: 20%={np.percentile(length_count[np.where(aspect_list == i)[0]], 20, axis=0)}, 40%={np.percentile(length_count[np.where(aspect_list == i)[0]], 40, axis=0)}, 50%={np.percentile(length_count[np.where(aspect_list == i)[0]], 50, axis=0)}, 60%={np.percentile(length_count[np.where(aspect_list == i)[0]], 60, axis=0)}, 80%={np.percentile(length_count[np.where(aspect_list == i)[0]], 80, axis=0)}\")\n",
    "# i = 2\n",
    "# print(f\"Label = {label_mapping_inverse[i]}: 20%={np.percentile(length_count[np.where(aspect_list == i)[0]], 20, axis=0)}, 40%={np.percentile(length_count[np.where(aspect_list == i)[0]], 40, axis=0)}, 50%={np.percentile(length_count[np.where(aspect_list == i)[0]], 50, axis=0)}, 60%={np.percentile(length_count[np.where(aspect_list == i)[0]], 60, axis=0)}, 80%={np.percentile(length_count[np.where(aspect_list == i)[0]], 80, axis=0)}\")\n",
    "# i = 3\n",
    "# print(f\"Label = {label_mapping_inverse[i]}: 20%={np.percentile(length_count[np.where(aspect_list == i)[0]], 20, axis=0)}, 40%={np.percentile(length_count[np.where(aspect_list == i)[0]], 40, axis=0)}, 50%={np.percentile(length_count[np.where(aspect_list == i)[0]], 50, axis=0)}, 60%={np.percentile(length_count[np.where(aspect_list == i)[0]], 60, axis=0)}, 80%={np.percentile(length_count[np.where(aspect_list == i)[0]], 80, axis=0)}\")\n",
    "# i = 4\n",
    "# print(f\"Label = {label_mapping_inverse[i]}: 20%={np.percentile(np.nan_to_num(length_count[np.where(aspect_list == i)[0]]), 20, axis=0)}, 40%={np.percentile(np.nan_to_num(length_count[np.where(aspect_list == i)[0]]), 40, axis=0)}, 50%={np.percentile(np.nan_to_num(length_count[np.where(aspect_list == i)[0]]), 50, axis=0)}, 60%={np.percentile(np.nan_to_num(length_count[np.where(aspect_list == i)[0]]), 60, axis=0)}, 80%={np.percentile(np.nan_to_num(length_count[np.where(aspect_list == i)[0]]), 80, axis=0)}\")\n",
    "\n",
    "\n",
    "\n",
    "# print(f\"Label = None: 20%={np.percentile(np.nan_to_num(length_count), 20, axis=0)}, 40%={np.percentile(np.nan_to_num(length_count), 40, axis=0)}, 50%={np.percentile(np.nan_to_num(length_count), 50, axis=0)}, 60%={np.percentile(np.nan_to_num(length_count), 60, axis=0)}, 80%={np.percentile(np.nan_to_num(length_count), 80, axis=0)}\")\n"
   ]
  },
  {
   "cell_type": "code",
   "execution_count": null,
   "metadata": {},
   "outputs": [],
   "source": []
  },
  {
   "cell_type": "code",
   "execution_count": null,
   "metadata": {},
   "outputs": [],
   "source": []
  },
  {
   "cell_type": "code",
   "execution_count": 26,
   "metadata": {},
   "outputs": [
    {
     "name": "stdout",
     "output_type": "stream",
     "text": [
      "Conference = ACL\n",
      "Label = None: 20%=33.00630763551443, 40%=41.83777843833214, 50%=46.67513680752664, 60%=51.93614202070157, 80%=67.9568453343354\n"
     ]
    }
   ],
   "source": [
    "\n",
    "\n",
    "conference = \"ACL\"\n",
    "example_explainer = ExampleExplainer(conference)\n",
    "\n",
    "\n",
    "length_count = example_explainer.diversity_abstract_seg_scores_tmp\n",
    "\n",
    "length_count = [x for x in length_count if math.isnan(x) == False]\n",
    "\n",
    "\n",
    "print(f\"Conference = {conference}\")\n",
    "# i = 0\n",
    "# print(f\"Label = {label_mapping_inverse[i]}: 20%={np.percentile(length_count, 20, axis=0)}, 40%={np.percentile(length_count, 40, axis=0)}, 50%={np.percentile(length_count, 50, axis=0)}, 60%={np.percentile(length_count, 60, axis=0)}, 80%={np.percentile(length_count, 80, axis=0)}\")\n",
    "# i = 1\n",
    "# print(f\"Label = {label_mapping_inverse[i]}: 20%={np.percentile(length_count, 20, axis=0)}, 40%={np.percentile(length_count, 40, axis=0)}, 50%={np.percentile(length_count, 50, axis=0)}, 60%={np.percentile(length_count, 60, axis=0)}, 80%={np.percentile(length_count, 80, axis=0)}\")\n",
    "# i = 2\n",
    "# print(f\"Label = {label_mapping_inverse[i]}: 20%={np.percentile(length_count, 20, axis=0)}, 40%={np.percentile(length_count, 40, axis=0)}, 50%={np.percentile(length_count, 50, axis=0)}, 60%={np.percentile(length_count, 60, axis=0)}, 80%={np.percentile(length_count, 80, axis=0)}\")\n",
    "# i = 3\n",
    "# print(f\"Label = {label_mapping_inverse[i]}: 20%={np.percentile(length_count, 20, axis=0)}, 40%={np.percentile(length_count, 40, axis=0)}, 50%={np.percentile(length_count, 50, axis=0)}, 60%={np.percentile(length_count, 60, axis=0)}, 80%={np.percentile(length_count, 80, axis=0)}\")\n",
    "# i = 4\n",
    "# print(f\"Label = {label_mapping_inverse[i]}: 20%={np.percentile(np.nan_to_num(length_count), 20, axis=0)}, 40%={np.percentile(np.nan_to_num(length_count), 40, axis=0)}, 50%={np.percentile(np.nan_to_num(length_count), 50, axis=0)}, 60%={np.percentile(np.nan_to_num(length_count), 60, axis=0)}, 80%={np.percentile(np.nan_to_num(length_count), 80, axis=0)}\")\n",
    "\n",
    "print(f\"Label = None: 20%={np.percentile(np.nan_to_num(length_count), 20, axis=0)}, 40%={np.percentile(np.nan_to_num(length_count), 40, axis=0)}, 50%={np.percentile(np.nan_to_num(length_count), 50, axis=0)}, 60%={np.percentile(np.nan_to_num(length_count), 60, axis=0)}, 80%={np.percentile(np.nan_to_num(length_count), 80, axis=0)}\")\n"
   ]
  },
  {
   "cell_type": "code",
   "execution_count": 11,
   "metadata": {},
   "outputs": [
    {
     "data": {
      "text/plain": [
       "array([ 84.0829206 ,  69.9737097 ,  86.96652884, ...,  80.0149568 ,\n",
       "        80.84459952, 162.08289603])"
      ]
     },
     "execution_count": 11,
     "metadata": {},
     "output_type": "execute_result"
    }
   ],
   "source": [
    "length_count"
   ]
  },
  {
   "cell_type": "code",
   "execution_count": 15,
   "metadata": {},
   "outputs": [
    {
     "name": "stdout",
     "output_type": "stream",
     "text": [
      "Label = None: 20%=45.91559236145234, 40%=57.469725077818765, 50%=63.245237457888926, 60%=71.1313063736329, 80%=92.26881383164299\n"
     ]
    }
   ],
   "source": [
    "\n",
    "\n",
    "conference = \"CHI\"\n",
    "example_explainer = ExampleExplainer(conference)\n",
    "\n",
    "\n",
    "length_count = example_explainer.diversity_abstract_seg_scores_tmp\n",
    "aspect_list = example_explainer.diversity_aspect_list_tmp\n",
    "\n",
    "\n",
    "# print(f\"Conference = {conference}\")\n",
    "# i = 0\n",
    "# print(f\"Label = {label_mapping_inverse[i]}: 20%={np.percentile(length_count, 20, axis=0)}, 40%={np.percentile(length_count, 40, axis=0)}, 50%={np.percentile(length_count, 50, axis=0)}, 60%={np.percentile(length_count, 60, axis=0)}, 80%={np.percentile(length_count, 80, axis=0)}\")\n",
    "# i = 1\n",
    "# print(f\"Label = {label_mapping_inverse[i]}: 20%={np.percentile(length_count, 20, axis=0)}, 40%={np.percentile(length_count, 40, axis=0)}, 50%={np.percentile(length_count, 50, axis=0)}, 60%={np.percentile(length_count, 60, axis=0)}, 80%={np.percentile(length_count, 80, axis=0)}\")\n",
    "# i = 2\n",
    "# print(f\"Label = {label_mapping_inverse[i]}: 20%={np.percentile(length_count, 20, axis=0)}, 40%={np.percentile(length_count, 40, axis=0)}, 50%={np.percentile(length_count, 50, axis=0)}, 60%={np.percentile(length_count, 60, axis=0)}, 80%={np.percentile(length_count, 80, axis=0)}\")\n",
    "# i = 3\n",
    "# print(f\"Label = {label_mapping_inverse[i]}: 20%={np.percentile(length_count, 20, axis=0)}, 40%={np.percentile(length_count, 40, axis=0)}, 50%={np.percentile(length_count, 50, axis=0)}, 60%={np.percentile(length_count, 60, axis=0)}, 80%={np.percentile(length_count, 80, axis=0)}\")\n",
    "# i = 4\n",
    "# print(f\"Label = {label_mapping_inverse[i]}: 20%={np.percentile(np.nan_to_num(length_count), 20, axis=0)}, 40%={np.percentile(np.nan_to_num(length_count), 40, axis=0)}, 50%={np.percentile(np.nan_to_num(length_count), 50, axis=0)}, 60%={np.percentile(np.nan_to_num(length_count), 60, axis=0)}, 80%={np.percentile(np.nan_to_num(length_count), 80, axis=0)}\")\n",
    "\n",
    "print(f\"Label = None: 20%={np.percentile(np.nan_to_num(length_count), 20, axis=0)}, 40%={np.percentile(np.nan_to_num(length_count), 40, axis=0)}, 50%={np.percentile(np.nan_to_num(length_count), 50, axis=0)}, 60%={np.percentile(np.nan_to_num(length_count), 60, axis=0)}, 80%={np.percentile(np.nan_to_num(length_count), 80, axis=0)}\")\n"
   ]
  },
  {
   "cell_type": "code",
   "execution_count": 25,
   "metadata": {},
   "outputs": [
    {
     "name": "stdout",
     "output_type": "stream",
     "text": [
      "Label = None: 20%=52.92130703679951, 40%=67.83287881959461, 50%=76.07574520894573, 60%=84.81626463056237, 80%=111.7024490671032\n"
     ]
    }
   ],
   "source": [
    "import math\n",
    "\n",
    "conference = \"ICLR\"\n",
    "example_explainer = ExampleExplainer(conference)\n",
    "\n",
    "\n",
    "length_count = example_explainer.diversity_abstract_seg_scores_tmp\n",
    "\n",
    "length_count = [x for x in length_count if math.isnan(x) == False]\n",
    "\n",
    "aspect_list = example_explainer.diversity_aspect_list_tmp\n",
    "\n",
    "\n",
    "# print(f\"Conference = {conference}\")\n",
    "# i = 0\n",
    "# print(f\"Label = {label_mapping_inverse[i]}: 20%={np.percentile(length_count, 20, axis=0)}, 40%={np.percentile(length_count, 40, axis=0)}, 50%={np.percentile(length_count, 50, axis=0)}, 60%={np.percentile(length_count, 60, axis=0)}, 80%={np.percentile(length_count, 80, axis=0)}\")\n",
    "# i = 1\n",
    "# print(f\"Label = {label_mapping_inverse[i]}: 20%={np.percentile(length_count, 20, axis=0)}, 40%={np.percentile(length_count, 40, axis=0)}, 50%={np.percentile(length_count, 50, axis=0)}, 60%={np.percentile(length_count, 60, axis=0)}, 80%={np.percentile(length_count, 80, axis=0)}\")\n",
    "# i = 2\n",
    "# print(f\"Label = {label_mapping_inverse[i]}: 20%={np.percentile(length_count, 20, axis=0)}, 40%={np.percentile(length_count, 40, axis=0)}, 50%={np.percentile(length_count, 50, axis=0)}, 60%={np.percentile(length_count, 60, axis=0)}, 80%={np.percentile(length_count, 80, axis=0)}\")\n",
    "# i = 3\n",
    "# print(f\"Label = {label_mapping_inverse[i]}: 20%={np.percentile(length_count, 20, axis=0)}, 40%={np.percentile(length_count, 40, axis=0)}, 50%={np.percentile(length_count, 50, axis=0)}, 60%={np.percentile(length_count, 60, axis=0)}, 80%={np.percentile(length_count, 80, axis=0)}\")\n",
    "# i = 4\n",
    "# print(f\"Label = {label_mapping_inverse[i]}: 20%={np.percentile(np.nan_to_num(length_count), 20, axis=0)}, 40%={np.percentile(np.nan_to_num(length_count), 40, axis=0)}, 50%={np.percentile(np.nan_to_num(length_count), 50, axis=0)}, 60%={np.percentile(np.nan_to_num(length_count), 60, axis=0)}, 80%={np.percentile(np.nan_to_num(length_count), 80, axis=0)}\")\n",
    "\n",
    "print(f\"Label = None: 20%={np.percentile(np.nan_to_num(length_count), 20, axis=0)}, 40%={np.percentile(np.nan_to_num(length_count), 40, axis=0)}, 50%={np.percentile(np.nan_to_num(length_count), 50, axis=0)}, 60%={np.percentile(np.nan_to_num(length_count), 60, axis=0)}, 80%={np.percentile(np.nan_to_num(length_count), 80, axis=0)}\")\n"
   ]
  },
  {
   "cell_type": "markdown",
   "metadata": {},
   "source": []
  }
 ],
 "metadata": {
  "kernelspec": {
   "display_name": "Python 3.8.2 64-bit",
   "language": "python",
   "name": "python3"
  },
  "language_info": {
   "codemirror_mode": {
    "name": "ipython",
    "version": 3
   },
   "file_extension": ".py",
   "mimetype": "text/x-python",
   "name": "python",
   "nbconvert_exporter": "python",
   "pygments_lexer": "ipython3",
   "version": "3.8.2"
  },
  "orig_nbformat": 4,
  "vscode": {
   "interpreter": {
    "hash": "31f2aee4e71d21fbe5cf8b01ff0e069b9275f58929596ceb00d14d90e3e16cd6"
   }
  }
 },
 "nbformat": 4,
 "nbformat_minor": 2
}
